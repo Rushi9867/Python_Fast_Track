{
 "cells": [
  {
   "cell_type": "markdown",
   "metadata": {},
   "source": [
    "### Python Functions"
   ]
  },
  {
   "cell_type": "code",
   "execution_count": 1,
   "metadata": {},
   "outputs": [
    {
     "name": "stdout",
     "output_type": "stream",
     "text": [
      "My name is Lets Upgerade aged 2 and stayed at Mumbai\n"
     ]
    }
   ],
   "source": [
    "name = \"Lets Upgerade\"\n",
    "age = 2\n",
    "Location = \"Mumbai\"\n",
    "print(f\"My name is {name} aged {age} and stayed at {Location}\")"
   ]
  },
  {
   "cell_type": "code",
   "execution_count": 2,
   "metadata": {},
   "outputs": [],
   "source": [
    "def introduction(name,age,Location):\n",
    "    print(f\"My name is {name} aged {age} and stayed at {Location}\") "
   ]
  },
  {
   "cell_type": "code",
   "execution_count": 3,
   "metadata": {},
   "outputs": [
    {
     "name": "stdout",
     "output_type": "stream",
     "text": [
      "My name is Python aged 22 and stayed at Delhi\n",
      "My name is Javascript aged 45 and stayed at Kolkata\n"
     ]
    }
   ],
   "source": [
    "introduction('Python', 22,'Delhi')\n",
    "introduction('Javascript', 45,'Kolkata')"
   ]
  },
  {
   "cell_type": "code",
   "execution_count": 4,
   "metadata": {},
   "outputs": [
    {
     "name": "stdout",
     "output_type": "stream",
     "text": [
      "My name : 23\n",
      "My name : 45\n",
      "My name : 66\n",
      "My name : 12\n",
      "My name : 98\n",
      "My name : 1001\n",
      "My name : 3456\n"
     ]
    }
   ],
   "source": [
    "def iterate_over_loop(l):\n",
    "    for i in l:\n",
    "        print(f\"My name : {i}\")\n",
    "    \n",
    "iterate_over_loop([23,45,66,12,98,1001,3456])"
   ]
  },
  {
   "cell_type": "code",
   "execution_count": 5,
   "metadata": {},
   "outputs": [
    {
     "name": "stdout",
     "output_type": "stream",
     "text": [
      "Sum of list is :289\n",
      "Minimum element is :23\n",
      "Length is :5\n"
     ]
    }
   ],
   "source": [
    "def sum_me(l):\n",
    "    print(f\"Sum of list is :{sum(l)}\")\n",
    "    print(f\"Minimum element is :{min(l)}\")\n",
    "    print(f\"Length is :{len(l)}\")\n",
    "\n",
    "sum_me([56,45,67,98,23])"
   ]
  },
  {
   "cell_type": "code",
   "execution_count": 6,
   "metadata": {},
   "outputs": [
    {
     "name": "stdout",
     "output_type": "stream",
     "text": [
      "286\n",
      "None\n"
     ]
    }
   ],
   "source": [
    "def sum_me_1(l):\n",
    "    print(sum(l))\n",
    "\n",
    "ans = sum_me_1([13,23,45,15,6,78,98,8])\n",
    "print(ans)"
   ]
  },
  {
   "cell_type": "code",
   "execution_count": 1,
   "metadata": {},
   "outputs": [
    {
     "name": "stdout",
     "output_type": "stream",
     "text": [
      "171\n",
      "342\n"
     ]
    }
   ],
   "source": [
    "def sum_me(l):\n",
    "    return sum(l)\n",
    "\n",
    "ans = sum_me([1,2,3,4,5,67,89])\n",
    "print(ans)\n",
    "print(ans*2)"
   ]
  },
  {
   "cell_type": "code",
   "execution_count": 3,
   "metadata": {},
   "outputs": [],
   "source": [
    "def introduction_without_return(name,age,location):\n",
    "    print(name,age,location)"
   ]
  },
  {
   "cell_type": "code",
   "execution_count": 4,
   "metadata": {},
   "outputs": [],
   "source": [
    "def introduction_with_return(name,age,location):\n",
    "    return name,age,location"
   ]
  },
  {
   "cell_type": "code",
   "execution_count": 5,
   "metadata": {},
   "outputs": [
    {
     "name": "stdout",
     "output_type": "stream",
     "text": [
      "No Return 45 Mumbai\n",
      "None\n"
     ]
    }
   ],
   "source": [
    "ans = introduction_without_return('No Return',45,'Mumbai')\n",
    "\n",
    "print(ans)"
   ]
  },
  {
   "cell_type": "code",
   "execution_count": 6,
   "metadata": {},
   "outputs": [
    {
     "name": "stdout",
     "output_type": "stream",
     "text": [
      "('Yes Return', 67, 'Chennai')\n"
     ]
    }
   ],
   "source": [
    "ans2 = introduction_with_return('Yes Return',67,'Chennai')\n",
    "print(ans2)"
   ]
  },
  {
   "cell_type": "code",
   "execution_count": 7,
   "metadata": {},
   "outputs": [
    {
     "name": "stdout",
     "output_type": "stream",
     "text": [
      "Yes Return\n",
      "67\n",
      "Chennai\n"
     ]
    }
   ],
   "source": [
    "n , a, l = ans2 # ans is non-iterable and ans2 is itearble because of return \n",
    "print(n)        # we can reuse value with return \n",
    "print(a)\n",
    "print(l)"
   ]
  },
  {
   "cell_type": "code",
   "execution_count": 8,
   "metadata": {},
   "outputs": [
    {
     "name": "stdout",
     "output_type": "stream",
     "text": [
      "Original item was :1,added 2 to it :3\n",
      "Original item was :2,added 2 to it :4\n",
      "Original item was :3,added 2 to it :5\n",
      "Original item was :4,added 2 to it :6\n",
      "Original item was :5,added 2 to it :7\n",
      "Original item was :6,added 2 to it :8\n",
      "Original item was :7,added 2 to it :9\n",
      "Original item was :8,added 2 to it :10\n",
      "Original item was :9,added 2 to it :11\n"
     ]
    }
   ],
   "source": [
    "def add_2(a):\n",
    "    return a+2\n",
    "\n",
    "items =[1,2,3,4,5,6,7,8,9]\n",
    "for each_item in items:\n",
    "    print(f\"Original item was :{each_item},added 2 to it :{add_2(each_item)}\")"
   ]
  },
  {
   "cell_type": "markdown",
   "metadata": {},
   "source": [
    "### Variables : Scope of variable"
   ]
  },
  {
   "cell_type": "code",
   "execution_count": 14,
   "metadata": {},
   "outputs": [
    {
     "name": "stdout",
     "output_type": "stream",
     "text": [
      "Machine Learning\n",
      "Data Science\n"
     ]
    }
   ],
   "source": [
    "A = \"Data Science\"  # Global Variable\n",
    "\n",
    "def func():\n",
    "    A = \"Machine Learning\"  # Local Variable\n",
    "    print(A)\n",
    "\n",
    "func()\n",
    "print(A)"
   ]
  },
  {
   "cell_type": "code",
   "execution_count": 15,
   "metadata": {},
   "outputs": [
    {
     "name": "stdout",
     "output_type": "stream",
     "text": [
      "154\n"
     ]
    }
   ],
   "source": [
    "def test(x,y):\n",
    "    print(x+y)\n",
    "\n",
    "test(87,67)"
   ]
  },
  {
   "cell_type": "code",
   "execution_count": 16,
   "metadata": {},
   "outputs": [
    {
     "name": "stdout",
     "output_type": "stream",
     "text": [
      "96\n"
     ]
    },
    {
     "ename": "TypeError",
     "evalue": "unsupported operand type(s) for +: 'NoneType' and 'int'",
     "output_type": "error",
     "traceback": [
      "\u001b[1;31m---------------------------------------------------------------------------\u001b[0m",
      "\u001b[1;31mTypeError\u001b[0m                                 Traceback (most recent call last)",
      "\u001b[1;32md:\\Python Programs\\Basic\\3.ipynb Cell 18'\u001b[0m in \u001b[0;36m<module>\u001b[1;34m\u001b[0m\n\u001b[1;32m----> <a href='vscode-notebook-cell:/d%3A/Python%20Programs/Basic/3.ipynb#ch0000017?line=0'>1</a>\u001b[0m test(\u001b[39m89\u001b[39;49m,\u001b[39m7\u001b[39;49m) \u001b[39m+\u001b[39;49m \u001b[39m89\u001b[39;49m\n",
      "\u001b[1;31mTypeError\u001b[0m: unsupported operand type(s) for +: 'NoneType' and 'int'"
     ]
    }
   ],
   "source": [
    "test(89,7) + 89"
   ]
  },
  {
   "cell_type": "code",
   "execution_count": 17,
   "metadata": {},
   "outputs": [
    {
     "name": "stdout",
     "output_type": "stream",
     "text": [
      "16\n"
     ]
    },
    {
     "data": {
      "text/plain": [
       "NoneType"
      ]
     },
     "execution_count": 17,
     "metadata": {},
     "output_type": "execute_result"
    }
   ],
   "source": [
    "type(test(7,9))"
   ]
  },
  {
   "cell_type": "code",
   "execution_count": 18,
   "metadata": {},
   "outputs": [
    {
     "data": {
      "text/plain": [
       "42"
      ]
     },
     "execution_count": 18,
     "metadata": {},
     "output_type": "execute_result"
    }
   ],
   "source": [
    "def test1(x,y):\n",
    "    return x*y \n",
    "\n",
    "test1(6,7)"
   ]
  },
  {
   "cell_type": "code",
   "execution_count": 19,
   "metadata": {},
   "outputs": [
    {
     "data": {
      "text/plain": [
       "79"
      ]
     },
     "execution_count": 19,
     "metadata": {},
     "output_type": "execute_result"
    }
   ],
   "source": [
    "test1(9,8) + 7"
   ]
  },
  {
   "cell_type": "code",
   "execution_count": 20,
   "metadata": {},
   "outputs": [
    {
     "data": {
      "text/plain": [
       "int"
      ]
     },
     "execution_count": 20,
     "metadata": {},
     "output_type": "execute_result"
    }
   ],
   "source": [
    "type(test1(9,8) + 7)"
   ]
  },
  {
   "cell_type": "code",
   "execution_count": 21,
   "metadata": {},
   "outputs": [
    {
     "data": {
      "text/plain": [
       "(8, 30, 89.8)"
      ]
     },
     "execution_count": 21,
     "metadata": {},
     "output_type": "execute_result"
    }
   ],
   "source": [
    "def test2(l,m,n):\n",
    "    return l + m ,l*10, n/10 \n",
    "\n",
    "test2(3,5,898)"
   ]
  },
  {
   "cell_type": "code",
   "execution_count": 22,
   "metadata": {},
   "outputs": [
    {
     "name": "stdout",
     "output_type": "stream",
     "text": [
      "12\n",
      "50\n",
      "0.8\n"
     ]
    }
   ],
   "source": [
    "c,v,x = test2(5,7,8)\n",
    "print(c)\n",
    "print(v)\n",
    "print(x)"
   ]
  },
  {
   "cell_type": "code",
   "execution_count": 23,
   "metadata": {},
   "outputs": [
    {
     "name": "stdout",
     "output_type": "stream",
     "text": [
      "78\n",
      "110\n",
      "9.8\n"
     ]
    }
   ],
   "source": [
    "c,_,v=test2(11,67,98)\n",
    "print(c)\n",
    "print(_)\n",
    "print(v)"
   ]
  },
  {
   "cell_type": "code",
   "execution_count": 24,
   "metadata": {},
   "outputs": [
    {
     "name": "stdout",
     "output_type": "stream",
     "text": [
      "110\n",
      "110\n",
      "7.6\n"
     ]
    }
   ],
   "source": [
    "_,_,m = test2(11,67,76)\n",
    "print(_)\n",
    "print(_)\n",
    "print(m)"
   ]
  },
  {
   "cell_type": "code",
   "execution_count": 25,
   "metadata": {},
   "outputs": [
    {
     "data": {
      "text/plain": [
       "([6, 8, 3, 9, 2, 4], [6, 8, 3, 9, 2, 4, 6, 8, 3, 9, 2, 4])"
      ]
     },
     "execution_count": 25,
     "metadata": {},
     "output_type": "execute_result"
    }
   ],
   "source": [
    "def test3(n):\n",
    "    return n , n*2\n",
    "\n",
    "b = test3([6,8,3,9,2,4])\n",
    "b "
   ]
  },
  {
   "cell_type": "code",
   "execution_count": 26,
   "metadata": {},
   "outputs": [
    {
     "data": {
      "text/plain": [
       "2"
      ]
     },
     "execution_count": 26,
     "metadata": {},
     "output_type": "execute_result"
    }
   ],
   "source": [
    "b[0][4]"
   ]
  },
  {
   "cell_type": "code",
   "execution_count": 27,
   "metadata": {},
   "outputs": [
    {
     "data": {
      "text/plain": [
       "2"
      ]
     },
     "execution_count": 27,
     "metadata": {},
     "output_type": "execute_result"
    }
   ],
   "source": [
    "b[1][10]"
   ]
  },
  {
   "cell_type": "code",
   "execution_count": 28,
   "metadata": {},
   "outputs": [
    {
     "data": {
      "text/plain": [
       "1"
      ]
     },
     "execution_count": 28,
     "metadata": {},
     "output_type": "execute_result"
    }
   ],
   "source": [
    "def boolx(x = True , y = False):\n",
    "    return x + y \n",
    "\n",
    "boolx()"
   ]
  },
  {
   "cell_type": "code",
   "execution_count": 29,
   "metadata": {},
   "outputs": [
    {
     "data": {
      "text/plain": [
       "0"
      ]
     },
     "execution_count": 29,
     "metadata": {},
     "output_type": "execute_result"
    }
   ],
   "source": [
    "boolx(False)"
   ]
  },
  {
   "cell_type": "code",
   "execution_count": 30,
   "metadata": {},
   "outputs": [
    {
     "data": {
      "text/plain": [
       "2"
      ]
     },
     "execution_count": 30,
     "metadata": {},
     "output_type": "execute_result"
    }
   ],
   "source": [
    "boolx(True,True)"
   ]
  },
  {
   "cell_type": "code",
   "execution_count": 31,
   "metadata": {},
   "outputs": [
    {
     "data": {
      "text/plain": [
       "(True, False, True)"
      ]
     },
     "execution_count": 31,
     "metadata": {},
     "output_type": "execute_result"
    }
   ],
   "source": [
    "def travel( bike = True , car = False ) : \n",
    "    plan_travel = bike or car \n",
    "    return bike , car , plan_travel\n",
    "\n",
    "travel()"
   ]
  },
  {
   "cell_type": "code",
   "execution_count": 32,
   "metadata": {},
   "outputs": [
    {
     "data": {
      "text/plain": [
       "(True, True, True)"
      ]
     },
     "execution_count": 32,
     "metadata": {},
     "output_type": "execute_result"
    }
   ],
   "source": [
    "travel(car=True)"
   ]
  },
  {
   "cell_type": "code",
   "execution_count": 33,
   "metadata": {},
   "outputs": [
    {
     "data": {
      "text/plain": [
       "[12, 34, 67, 56, 98, 87, 89.9, 7.99, 67.09]"
      ]
     },
     "execution_count": 33,
     "metadata": {},
     "output_type": "execute_result"
    }
   ],
   "source": [
    "def test11(a,b,c):\n",
    "    return a+b+c\n",
    "\n",
    "test11([12,34,67],[56,98,87],[89.9,7.99,67.09])"
   ]
  },
  {
   "cell_type": "code",
   "execution_count": 34,
   "metadata": {},
   "outputs": [
    {
     "data": {
      "text/plain": [
       "('Hrushikesh', 'Kumar', 78, 89, [78, 6, 4])"
      ]
     },
     "execution_count": 34,
     "metadata": {},
     "output_type": "execute_result"
    }
   ],
   "source": [
    "def test10(*args):\n",
    "    return args\n",
    "\n",
    "test10(\"Hrushikesh\",\"Kumar\",78,89,[78,6,4])"
   ]
  },
  {
   "cell_type": "code",
   "execution_count": 35,
   "metadata": {},
   "outputs": [
    {
     "data": {
      "text/plain": [
       "[3, 4, 5, 6, 'ab', 'cd', 'ef', 78.9, 9.87, 67.43]"
      ]
     },
     "execution_count": 35,
     "metadata": {},
     "output_type": "execute_result"
    }
   ],
   "source": [
    "def thirt(*args):\n",
    "    l = []\n",
    "    for i in args:\n",
    "        l +=i \n",
    "    return l \n",
    "\n",
    "thirt([3,4,5,6],[\"ab\",\"cd\",\"ef\"],[78.9,9.87,67.43])"
   ]
  },
  {
   "cell_type": "code",
   "execution_count": 36,
   "metadata": {},
   "outputs": [
    {
     "ename": "TypeError",
     "evalue": "'int' object is not iterable",
     "output_type": "error",
     "traceback": [
      "\u001b[1;31m---------------------------------------------------------------------------\u001b[0m",
      "\u001b[1;31mTypeError\u001b[0m                                 Traceback (most recent call last)",
      "\u001b[1;32md:\\Python Programs\\Basic\\3.ipynb Cell 38'\u001b[0m in \u001b[0;36m<module>\u001b[1;34m\u001b[0m\n\u001b[1;32m----> <a href='vscode-notebook-cell:/d%3A/Python%20Programs/Basic/3.ipynb#ch0000037?line=0'>1</a>\u001b[0m thirt(\u001b[39m\"\u001b[39;49m\u001b[39mRushi\u001b[39;49m\u001b[39m\"\u001b[39;49m,\u001b[39m98\u001b[39;49m,\u001b[39m76.89\u001b[39;49m,[\u001b[39m65\u001b[39;49m,\u001b[39m90\u001b[39;49m,\u001b[39m4\u001b[39;49m])\n",
      "\u001b[1;32md:\\Python Programs\\Basic\\3.ipynb Cell 37'\u001b[0m in \u001b[0;36mthirt\u001b[1;34m(*args)\u001b[0m\n\u001b[0;32m      <a href='vscode-notebook-cell:/d%3A/Python%20Programs/Basic/3.ipynb#ch0000036?line=1'>2</a>\u001b[0m l \u001b[39m=\u001b[39m []\n\u001b[0;32m      <a href='vscode-notebook-cell:/d%3A/Python%20Programs/Basic/3.ipynb#ch0000036?line=2'>3</a>\u001b[0m \u001b[39mfor\u001b[39;00m i \u001b[39min\u001b[39;00m args:\n\u001b[1;32m----> <a href='vscode-notebook-cell:/d%3A/Python%20Programs/Basic/3.ipynb#ch0000036?line=3'>4</a>\u001b[0m     l \u001b[39m+\u001b[39m\u001b[39m=\u001b[39mi \n\u001b[0;32m      <a href='vscode-notebook-cell:/d%3A/Python%20Programs/Basic/3.ipynb#ch0000036?line=4'>5</a>\u001b[0m \u001b[39mreturn\u001b[39;00m l\n",
      "\u001b[1;31mTypeError\u001b[0m: 'int' object is not iterable"
     ]
    }
   ],
   "source": [
    "thirt(\"Rushi\",98,76.89,[65,90,4])"
   ]
  },
  {
   "cell_type": "code",
   "execution_count": 37,
   "metadata": {},
   "outputs": [
    {
     "data": {
      "text/plain": [
       "[3, 4, 5, 6, 78.9, 9.87, 67.43]"
      ]
     },
     "execution_count": 37,
     "metadata": {},
     "output_type": "execute_result"
    }
   ],
   "source": [
    "def thirt1(*args):\n",
    "    l = []\n",
    "    for i in args:\n",
    "        if type(i) == list:\n",
    "            l +=i \n",
    "    return l \n",
    "\n",
    "thirt1([3,4,5,6],'gtysuh',[78.9,9.87,67.43])"
   ]
  },
  {
   "cell_type": "code",
   "execution_count": 38,
   "metadata": {},
   "outputs": [
    {
     "data": {
      "text/plain": [
       "[[3, 4, 5, 6], ['ab', 'cd', 'ef'], [78.9, 9.87, 67.43]]"
      ]
     },
     "execution_count": 38,
     "metadata": {},
     "output_type": "execute_result"
    }
   ],
   "source": [
    "def fourth(*args):\n",
    "    return [i for i in args]\n",
    "\n",
    "fourth([3,4,5,6],[\"ab\",\"cd\",\"ef\"],[78.9,9.87,67.43])"
   ]
  },
  {
   "cell_type": "code",
   "execution_count": 39,
   "metadata": {},
   "outputs": [
    {
     "data": {
      "text/plain": [
       "['Rushi', 98, 76.89, [65, 90, 4]]"
      ]
     },
     "execution_count": 39,
     "metadata": {},
     "output_type": "execute_result"
    }
   ],
   "source": [
    "fourth(\"Rushi\",98,76.89,[65,90,4])"
   ]
  },
  {
   "cell_type": "code",
   "execution_count": 40,
   "metadata": {},
   "outputs": [],
   "source": [
    "def fifth(**kwargs):\n",
    "    return kwargs"
   ]
  },
  {
   "cell_type": "code",
   "execution_count": 41,
   "metadata": {},
   "outputs": [
    {
     "ename": "TypeError",
     "evalue": "fifth() takes 0 positional arguments but 3 were given",
     "output_type": "error",
     "traceback": [
      "\u001b[1;31m---------------------------------------------------------------------------\u001b[0m",
      "\u001b[1;31mTypeError\u001b[0m                                 Traceback (most recent call last)",
      "\u001b[1;32md:\\Python Programs\\Basic\\3.ipynb Cell 43'\u001b[0m in \u001b[0;36m<module>\u001b[1;34m\u001b[0m\n\u001b[1;32m----> <a href='vscode-notebook-cell:/d%3A/Python%20Programs/Basic/3.ipynb#ch0000042?line=0'>1</a>\u001b[0m fifth(\u001b[39m89\u001b[39;49m,\u001b[39m54\u001b[39;49m,\u001b[39m77\u001b[39;49m)\n",
      "\u001b[1;31mTypeError\u001b[0m: fifth() takes 0 positional arguments but 3 were given"
     ]
    }
   ],
   "source": [
    "fifth(89,54,77)"
   ]
  },
  {
   "cell_type": "code",
   "execution_count": 42,
   "metadata": {},
   "outputs": [
    {
     "data": {
      "text/plain": [
       "{'a': 'One', 'b': 'Fifty Six', 'c': 'Data science', 'd': [67, 5, 34, 78]}"
      ]
     },
     "execution_count": 42,
     "metadata": {},
     "output_type": "execute_result"
    }
   ],
   "source": [
    "fifth(a=\"One\",b=\"Fifty Six\",c =\"Data science\",d=[67,5,34,78])"
   ]
  },
  {
   "cell_type": "markdown",
   "metadata": {},
   "source": [
    "Problem: \n",
    "1. Create a function to take any number of a mixed data and try to create a list of seperate data based on a datatype and return multiple result\n",
    "2. Create a function which will be able to use args and kwargs and it will be able to do all the list value concatination and return a list"
   ]
  },
  {
   "cell_type": "code",
   "execution_count": 43,
   "metadata": {},
   "outputs": [
    {
     "data": {
      "text/plain": [
       "{int: [56, 78],\n",
       " float: [7.88, 98.56],\n",
       " bool: [True, False],\n",
       " list: [[7, 4, 32, 7]],\n",
       " tuple: [(3, 4, 5, 6, 3, 6, 2)],\n",
       " dict: [{'Rushi': 'Kumar'}],\n",
       " str: ['Hii'],\n",
       " complex: [(6+7j)]}"
      ]
     },
     "execution_count": 43,
     "metadata": {},
     "output_type": "execute_result"
    }
   ],
   "source": [
    "# Q1\n",
    "def fun(*args):\n",
    "  dt = {}\n",
    "  for i in args:\n",
    "    if type(i) in dt:\n",
    "      dt[type(i)].append(i)\n",
    "    else:\n",
    "      dt[type(i)] = [i]\n",
    "  return dt\n",
    "\n",
    "fun(56,78,7.88,98.56,True,[7,4,32,7],(3,4,5,6,3,6,2),{\"Rushi\":\"Kumar\"},\"Hii\",False,6+7j)"
   ]
  },
  {
   "cell_type": "code",
   "execution_count": 44,
   "metadata": {},
   "outputs": [
    {
     "data": {
      "text/plain": [
       "[56, 965, 43, {'a': 7, 'v': 19}, True, 'Sudh', 9.43]"
      ]
     },
     "execution_count": 44,
     "metadata": {},
     "output_type": "execute_result"
    }
   ],
   "source": [
    "# Q2\n",
    "def fun1(*args,**kwargs):\n",
    "    return [i for i in args]\n",
    "    return [i for i in kwargs]\n",
    "\n",
    "fun1(56,965,43,{'a':7,'v':19},True,\"Sudh\",9.43)"
   ]
  },
  {
   "cell_type": "code",
   "execution_count": 45,
   "metadata": {},
   "outputs": [
    {
     "data": {
      "text/plain": [
       "([[4, 5, 6, 7, 8], [5, 6, 7, 8, 9, 0]], [[4, 5, 6, 7]])"
      ]
     },
     "execution_count": 45,
     "metadata": {},
     "output_type": "execute_result"
    }
   ],
   "source": [
    "# Q2\n",
    "def fun2(*args,**kwargs):\n",
    "    l=[i for i in args if type(i) == list ]\n",
    "    d=[i[1] for i in kwargs.items() if type(i[1]) == list ]\n",
    "    return l,d\n",
    "\n",
    "fun2([4,5,6,7,8] , [5,6,7,8,9,0] , 5,5,6,7, a = 5 , b = \"fsdfds\" , m = [4,5,6,7])"
   ]
  },
  {
   "cell_type": "code",
   "execution_count": 46,
   "metadata": {},
   "outputs": [],
   "source": [
    "def test8(**kwargs):\n",
    "    for i in kwargs.items():\n",
    "        if type(i[1]) == list:\n",
    "            if \"Rushi\" in i[1]:\n",
    "                print(\" I am able to find your name in data\")\n",
    "                print(i[1])\n",
    "    return kwargs"
   ]
  },
  {
   "cell_type": "code",
   "execution_count": 47,
   "metadata": {},
   "outputs": [
    {
     "name": "stdout",
     "output_type": "stream",
     "text": [
      " I am able to find your name in data\n",
      "['Rushi', 'kumar ', 5.67]\n"
     ]
    },
    {
     "data": {
      "text/plain": [
       "{'b': 6, 'c': [4, 5, 6, 7], 'd': ['Rushi', 'kumar ', 5.67], 'n': (6+7j)}"
      ]
     },
     "execution_count": 47,
     "metadata": {},
     "output_type": "execute_result"
    }
   ],
   "source": [
    "test8(b =6 , c = [4,5,6,7] , d = [\"Rushi\" , \"kumar \" , 5.67], n = 6 + 7j)"
   ]
  },
  {
   "cell_type": "code",
   "execution_count": 48,
   "metadata": {},
   "outputs": [
    {
     "data": {
      "text/plain": [
       "[1, 2, 3, 45, 47, 69, 24, 49]"
      ]
     },
     "execution_count": 48,
     "metadata": {},
     "output_type": "execute_result"
    }
   ],
   "source": [
    "def con_list(*args):\n",
    "    a = []\n",
    "    [[a.append(j) for j in i ] for i in args]\n",
    "    return a\n",
    "con_list([1,2,3,45],[47,69,24,49])"
   ]
  },
  {
   "cell_type": "code",
   "execution_count": 49,
   "metadata": {},
   "outputs": [
    {
     "name": "stdout",
     "output_type": "stream",
     "text": [
      "this is my arguments element:  dict_items([('x', 'Sneha'), ('y', 22), ('z', [2, 0, 0, 0])])\n"
     ]
    }
   ],
   "source": [
    "def fun3(**kwargs):\n",
    "    print(\"this is my arguments element: \",kwargs.items())\n",
    "\n",
    "fun3(x = \"Sneha\" , y = 22 , z = [2,0,0,0]) "
   ]
  },
  {
   "cell_type": "code",
   "execution_count": 50,
   "metadata": {},
   "outputs": [
    {
     "data": {
      "text/plain": [
       "('Sudhanshu@fa.com ', 'sudh', 'sudhSudhanshu@fa.com ')"
      ]
     },
     "execution_count": 50,
     "metadata": {},
     "output_type": "execute_result"
    }
   ],
   "source": [
    "def fun4(name , mail_id):\n",
    "    con = name+ mail_id\n",
    "    return mail_id , name , con\n",
    "\n",
    "fun4(\"sudh\" , \"Sudhanshu@fa.com \")"
   ]
  },
  {
   "cell_type": "markdown",
   "metadata": {},
   "source": [
    "Ananymous function"
   ]
  },
  {
   "cell_type": "code",
   "execution_count": 51,
   "metadata": {},
   "outputs": [
    {
     "data": {
      "text/plain": [
       "102"
      ]
     },
     "execution_count": 51,
     "metadata": {},
     "output_type": "execute_result"
    }
   ],
   "source": [
    "m = lambda x,y : x+y  # Lambda is a keyword in python\n",
    "\n",
    "m(35,67)"
   ]
  },
  {
   "cell_type": "code",
   "execution_count": 52,
   "metadata": {},
   "outputs": [
    {
     "data": {
      "text/plain": [
       "'Rushirushi@hj.vj'"
      ]
     },
     "execution_count": 52,
     "metadata": {},
     "output_type": "execute_result"
    }
   ],
   "source": [
    "m(\"Rushi\",\"rushi@hj.vj\")"
   ]
  },
  {
   "cell_type": "code",
   "execution_count": 53,
   "metadata": {},
   "outputs": [
    {
     "name": "stdout",
     "output_type": "stream",
     "text": [
      "DDe err\n"
     ]
    }
   ],
   "source": [
    "m1= lambda arg1,arg2 : print(arg1 ,arg2)\n",
    "m1(\"DDe\",\"err\")"
   ]
  },
  {
   "cell_type": "code",
   "execution_count": 54,
   "metadata": {},
   "outputs": [
    {
     "name": "stdout",
     "output_type": "stream",
     "text": [
      "1.0\n",
      "10\n"
     ]
    }
   ],
   "source": [
    "r = 10\n",
    "def test5(a,b):\n",
    "    r = a/b\n",
    "    print(r)\n",
    "\n",
    "test5(10,10)\n",
    "print(r)"
   ]
  },
  {
   "cell_type": "markdown",
   "metadata": {},
   "source": [
    "Docstring"
   ]
  },
  {
   "cell_type": "code",
   "execution_count": 55,
   "metadata": {},
   "outputs": [
    {
     "name": "stdout",
     "output_type": "stream",
     "text": [
      "my name is xyz\n"
     ]
    },
    {
     "data": {
      "text/plain": [
       "15"
      ]
     },
     "execution_count": 55,
     "metadata": {},
     "output_type": "execute_result"
    }
   ],
   "source": [
    "def test45(a , b ):\n",
    "    \"\"\"\n",
    "    test4()\n",
    "    a = this is going to do this \n",
    "    b = is going to do that \n",
    "    this is my test function with the \n",
    "    help of this function you will be able to learn a basic of fun \n",
    "    \"\"\"\n",
    "    print(\"my name is xyz\")\n",
    "    return a+b \n",
    "\n",
    "test45(7,8)"
   ]
  },
  {
   "cell_type": "code",
   "execution_count": 56,
   "metadata": {},
   "outputs": [
    {
     "name": "stdout",
     "output_type": "stream",
     "text": [
      "Help on function test45 in module __main__:\n",
      "\n",
      "test45(a, b)\n",
      "    test4()\n",
      "    a = this is going to do this \n",
      "    b = is going to do that \n",
      "    this is my test function with the \n",
      "    help of this function you will be able to learn a basic of fun\n",
      "\n"
     ]
    }
   ],
   "source": [
    "help(test45)"
   ]
  },
  {
   "cell_type": "code",
   "execution_count": 57,
   "metadata": {},
   "outputs": [
    {
     "ename": "TypeError",
     "evalue": "'int' object is not iterable",
     "output_type": "error",
     "traceback": [
      "\u001b[1;31m---------------------------------------------------------------------------\u001b[0m",
      "\u001b[1;31mTypeError\u001b[0m                                 Traceback (most recent call last)",
      "\u001b[1;32md:\\Python Programs\\Basic\\3.ipynb Cell 62'\u001b[0m in \u001b[0;36m<module>\u001b[1;34m\u001b[0m\n\u001b[0;32m      <a href='vscode-notebook-cell:/d%3A/Python%20Programs/Basic/3.ipynb#ch0000061?line=0'>1</a>\u001b[0m a \u001b[39m=\u001b[39m \u001b[39m67\u001b[39m\n\u001b[1;32m----> <a href='vscode-notebook-cell:/d%3A/Python%20Programs/Basic/3.ipynb#ch0000061?line=1'>2</a>\u001b[0m \u001b[39mfor\u001b[39;00m i \u001b[39min\u001b[39;00m a:\n\u001b[0;32m      <a href='vscode-notebook-cell:/d%3A/Python%20Programs/Basic/3.ipynb#ch0000061?line=2'>3</a>\u001b[0m     \u001b[39mprint\u001b[39m(i)\n",
      "\u001b[1;31mTypeError\u001b[0m: 'int' object is not iterable"
     ]
    }
   ],
   "source": [
    "a = 67\n",
    "for i in a:\n",
    "    print(i)"
   ]
  },
  {
   "cell_type": "code",
   "execution_count": 58,
   "metadata": {},
   "outputs": [
    {
     "name": "stdout",
     "output_type": "stream",
     "text": [
      "K\n",
      "e\n",
      "t\n",
      "a\n",
      "k\n"
     ]
    }
   ],
   "source": [
    "f = \"Ketak\"\n",
    "for i in f:\n",
    "    print(i)"
   ]
  },
  {
   "cell_type": "code",
   "execution_count": 59,
   "metadata": {},
   "outputs": [
    {
     "ename": "TypeError",
     "evalue": "'str' object is not an iterator",
     "output_type": "error",
     "traceback": [
      "\u001b[1;31m---------------------------------------------------------------------------\u001b[0m",
      "\u001b[1;31mTypeError\u001b[0m                                 Traceback (most recent call last)",
      "\u001b[1;32md:\\Python Programs\\Basic\\3.ipynb Cell 64'\u001b[0m in \u001b[0;36m<module>\u001b[1;34m\u001b[0m\n\u001b[1;32m----> <a href='vscode-notebook-cell:/d%3A/Python%20Programs/Basic/3.ipynb#ch0000063?line=0'>1</a>\u001b[0m \u001b[39mnext\u001b[39;49m(f)\n",
      "\u001b[1;31mTypeError\u001b[0m: 'str' object is not an iterator"
     ]
    }
   ],
   "source": [
    "next(f)"
   ]
  },
  {
   "cell_type": "code",
   "execution_count": 60,
   "metadata": {},
   "outputs": [
    {
     "data": {
      "text/plain": [
       "'K'"
      ]
     },
     "execution_count": 60,
     "metadata": {},
     "output_type": "execute_result"
    }
   ],
   "source": [
    "f = iter(f)\n",
    "next(f)"
   ]
  },
  {
   "cell_type": "markdown",
   "metadata": {},
   "source": [
    "String is a iterable not iterator"
   ]
  },
  {
   "cell_type": "code",
   "execution_count": 61,
   "metadata": {},
   "outputs": [
    {
     "data": {
      "text/plain": [
       "'e'"
      ]
     },
     "execution_count": 61,
     "metadata": {},
     "output_type": "execute_result"
    }
   ],
   "source": [
    "next(f)"
   ]
  },
  {
   "cell_type": "code",
   "execution_count": 62,
   "metadata": {},
   "outputs": [
    {
     "data": {
      "text/plain": [
       "'t'"
      ]
     },
     "execution_count": 62,
     "metadata": {},
     "output_type": "execute_result"
    }
   ],
   "source": [
    "next(f)"
   ]
  },
  {
   "cell_type": "code",
   "execution_count": 63,
   "metadata": {},
   "outputs": [
    {
     "data": {
      "text/plain": [
       "'a'"
      ]
     },
     "execution_count": 63,
     "metadata": {},
     "output_type": "execute_result"
    }
   ],
   "source": [
    "next(f)"
   ]
  },
  {
   "cell_type": "code",
   "execution_count": 64,
   "metadata": {},
   "outputs": [
    {
     "data": {
      "text/plain": [
       "'k'"
      ]
     },
     "execution_count": 64,
     "metadata": {},
     "output_type": "execute_result"
    }
   ],
   "source": [
    "next(f)"
   ]
  },
  {
   "cell_type": "code",
   "execution_count": 65,
   "metadata": {},
   "outputs": [
    {
     "ename": "StopIteration",
     "evalue": "",
     "output_type": "error",
     "traceback": [
      "\u001b[1;31m---------------------------------------------------------------------------\u001b[0m",
      "\u001b[1;31mStopIteration\u001b[0m                             Traceback (most recent call last)",
      "\u001b[1;32md:\\Python Programs\\Basic\\3.ipynb Cell 71'\u001b[0m in \u001b[0;36m<module>\u001b[1;34m\u001b[0m\n\u001b[1;32m----> <a href='vscode-notebook-cell:/d%3A/Python%20Programs/Basic/3.ipynb#ch0000070?line=0'>1</a>\u001b[0m \u001b[39mnext\u001b[39;49m(f)\n",
      "\u001b[1;31mStopIteration\u001b[0m: "
     ]
    }
   ],
   "source": [
    "next(f)"
   ]
  },
  {
   "cell_type": "code",
   "execution_count": 66,
   "metadata": {},
   "outputs": [
    {
     "data": {
      "text/plain": [
       "1"
      ]
     },
     "execution_count": 66,
     "metadata": {},
     "output_type": "execute_result"
    }
   ],
   "source": [
    "l= [1,2,3,4,5]\n",
    "l = iter(l)\n",
    "next(l)"
   ]
  },
  {
   "cell_type": "markdown",
   "metadata": {},
   "source": [
    "List is a iterable not a iterator"
   ]
  },
  {
   "cell_type": "code",
   "execution_count": 67,
   "metadata": {},
   "outputs": [
    {
     "data": {
      "text/plain": [
       "2"
      ]
     },
     "execution_count": 67,
     "metadata": {},
     "output_type": "execute_result"
    }
   ],
   "source": [
    "next(l)"
   ]
  },
  {
   "cell_type": "code",
   "execution_count": 68,
   "metadata": {},
   "outputs": [
    {
     "data": {
      "text/plain": [
       "4"
      ]
     },
     "execution_count": 68,
     "metadata": {},
     "output_type": "execute_result"
    }
   ],
   "source": [
    "t = (4,5,6,7)\n",
    "t = iter(t)\n",
    "next(t)"
   ]
  },
  {
   "cell_type": "code",
   "execution_count": 69,
   "metadata": {},
   "outputs": [
    {
     "data": {
      "text/plain": [
       "56"
      ]
     },
     "execution_count": 69,
     "metadata": {},
     "output_type": "execute_result"
    }
   ],
   "source": [
    "s = {56,8,\"te\",True}\n",
    "s  = iter(s)\n",
    "next(s)"
   ]
  },
  {
   "cell_type": "code",
   "execution_count": 70,
   "metadata": {},
   "outputs": [
    {
     "data": {
      "text/plain": [
       "'a'"
      ]
     },
     "execution_count": 70,
     "metadata": {},
     "output_type": "execute_result"
    }
   ],
   "source": [
    "dic = {'a': 3,'b': 7}\n",
    "dic = iter(dic)\n",
    "next(dic)  "
   ]
  },
  {
   "cell_type": "code",
   "execution_count": 71,
   "metadata": {},
   "outputs": [
    {
     "data": {
      "text/plain": [
       "'b'"
      ]
     },
     "execution_count": 71,
     "metadata": {},
     "output_type": "execute_result"
    }
   ],
   "source": [
    "next(dic)"
   ]
  },
  {
   "cell_type": "code",
   "execution_count": 72,
   "metadata": {},
   "outputs": [
    {
     "data": {
      "text/plain": [
       "[0, 1, 16, 81, 256]"
      ]
     },
     "execution_count": 72,
     "metadata": {},
     "output_type": "execute_result"
    }
   ],
   "source": [
    "def fun5(n):\n",
    "    l =[]\n",
    "    for i in range(n):\n",
    "        l.append(i**4)\n",
    "\n",
    "    return l \n",
    "fun5(5)\n"
   ]
  },
  {
   "cell_type": "code",
   "execution_count": 22,
   "metadata": {},
   "outputs": [],
   "source": [
    "def fun65(n):\n",
    "    for i in range(n):\n",
    "        yield  i**3"
   ]
  },
  {
   "cell_type": "code",
   "execution_count": 23,
   "metadata": {},
   "outputs": [
    {
     "name": "stdout",
     "output_type": "stream",
     "text": [
      "0\n",
      "1\n",
      "8\n",
      "27\n",
      "64\n",
      "125\n",
      "216\n",
      "343\n",
      "512\n",
      "729\n",
      "1000\n",
      "1331\n",
      "1728\n",
      "2197\n",
      "2744\n",
      "3375\n",
      "4096\n",
      "4913\n",
      "5832\n",
      "6859\n",
      "8000\n",
      "9261\n",
      "10648\n",
      "12167\n",
      "13824\n",
      "15625\n",
      "17576\n",
      "19683\n",
      "21952\n",
      "24389\n",
      "27000\n",
      "29791\n",
      "32768\n",
      "35937\n",
      "39304\n",
      "42875\n",
      "46656\n",
      "50653\n",
      "54872\n",
      "59319\n",
      "64000\n",
      "68921\n",
      "74088\n",
      "79507\n",
      "85184\n",
      "91125\n",
      "97336\n",
      "103823\n",
      "110592\n",
      "117649\n",
      "125000\n",
      "132651\n",
      "140608\n",
      "148877\n",
      "157464\n",
      "166375\n",
      "175616\n",
      "185193\n",
      "195112\n",
      "205379\n"
     ]
    }
   ],
   "source": [
    "for i in fun65(60):\n",
    "    print(i)"
   ]
  },
  {
   "cell_type": "code",
   "execution_count": 75,
   "metadata": {},
   "outputs": [
    {
     "data": {
      "text/plain": [
       "[1, 1, 2, 3, 5, 8, 13, 21, 34, 55, 89, 144, 233]"
      ]
     },
     "execution_count": 75,
     "metadata": {},
     "output_type": "execute_result"
    }
   ],
   "source": [
    "def genfib(n):\n",
    "    a = 1\n",
    "    b = 1\n",
    "    output = []\n",
    "    for i in range(n):\n",
    "        output.append(a)\n",
    "        a , b = b, a+b \n",
    "    return output\n",
    "\n",
    "genfib(13)"
   ]
  },
  {
   "cell_type": "code",
   "execution_count": 76,
   "metadata": {},
   "outputs": [
    {
     "data": {
      "text/plain": [
       "<generator object genfib1 at 0x000001EFEE4EEF10>"
      ]
     },
     "execution_count": 76,
     "metadata": {},
     "output_type": "execute_result"
    }
   ],
   "source": [
    "def genfib1(n):\n",
    "    a = 1\n",
    "    b = 1\n",
    "    for i in range(n):\n",
    "        yield a \n",
    "        a , b = b, a+b \n",
    "    \n",
    "\n",
    "genfib1(13)"
   ]
  },
  {
   "cell_type": "code",
   "execution_count": 77,
   "metadata": {},
   "outputs": [
    {
     "name": "stdout",
     "output_type": "stream",
     "text": [
      "1\n",
      "1\n",
      "2\n",
      "3\n",
      "5\n",
      "8\n",
      "13\n",
      "21\n",
      "34\n",
      "55\n",
      "89\n",
      "144\n",
      "233\n"
     ]
    }
   ],
   "source": [
    "for i in genfib1(13):\n",
    "    print(i)"
   ]
  },
  {
   "cell_type": "markdown",
   "metadata": {},
   "source": [
    "### File Operations"
   ]
  },
  {
   "cell_type": "code",
   "execution_count": 10,
   "metadata": {},
   "outputs": [],
   "source": [
    "f = open(\"test1.txt\",\"w\")"
   ]
  },
  {
   "cell_type": "code",
   "execution_count": 11,
   "metadata": {},
   "outputs": [
    {
     "data": {
      "text/plain": [
       "15"
      ]
     },
     "execution_count": 11,
     "metadata": {},
     "output_type": "execute_result"
    }
   ],
   "source": [
    "f.write(r\"This is my file\")"
   ]
  },
  {
   "cell_type": "code",
   "execution_count": 12,
   "metadata": {},
   "outputs": [],
   "source": [
    "f.close()"
   ]
  },
  {
   "cell_type": "code",
   "execution_count": 13,
   "metadata": {},
   "outputs": [],
   "source": [
    "f = open(\"test1.txt\")"
   ]
  },
  {
   "cell_type": "code",
   "execution_count": 14,
   "metadata": {},
   "outputs": [
    {
     "data": {
      "text/plain": [
       "'This is my file'"
      ]
     },
     "execution_count": 14,
     "metadata": {},
     "output_type": "execute_result"
    }
   ],
   "source": [
    "f.read() # Read whole file"
   ]
  },
  {
   "cell_type": "code",
   "execution_count": 15,
   "metadata": {},
   "outputs": [
    {
     "data": {
      "text/plain": [
       "''"
      ]
     },
     "execution_count": 15,
     "metadata": {},
     "output_type": "execute_result"
    }
   ],
   "source": [
    "# File cursor is already at the end of the file so it won't be able to read file.\n",
    "f.read()\n"
   ]
  },
  {
   "cell_type": "code",
   "execution_count": 16,
   "metadata": {},
   "outputs": [
    {
     "data": {
      "text/plain": [
       "' is my file'"
      ]
     },
     "execution_count": 16,
     "metadata": {},
     "output_type": "execute_result"
    }
   ],
   "source": [
    "f.seek(4) # Bring file cursor to 4th position\n",
    "f.read()"
   ]
  },
  {
   "cell_type": "code",
   "execution_count": 17,
   "metadata": {},
   "outputs": [
    {
     "data": {
      "text/plain": [
       "''"
      ]
     },
     "execution_count": 17,
     "metadata": {},
     "output_type": "execute_result"
    }
   ],
   "source": [
    "f.read()"
   ]
  },
  {
   "cell_type": "code",
   "execution_count": 18,
   "metadata": {},
   "outputs": [
    {
     "data": {
      "text/plain": [
       "' file'"
      ]
     },
     "execution_count": 18,
     "metadata": {},
     "output_type": "execute_result"
    }
   ],
   "source": [
    "f.seek(10)\n",
    "f.read()"
   ]
  },
  {
   "cell_type": "code",
   "execution_count": 19,
   "metadata": {},
   "outputs": [
    {
     "data": {
      "text/plain": [
       "'This '"
      ]
     },
     "execution_count": 19,
     "metadata": {},
     "output_type": "execute_result"
    }
   ],
   "source": [
    "f.seek(0)\n",
    "f.read(5) # Return the first 5 character of the file"
   ]
  },
  {
   "cell_type": "code",
   "execution_count": 20,
   "metadata": {},
   "outputs": [
    {
     "data": {
      "text/plain": [
       "5"
      ]
     },
     "execution_count": 20,
     "metadata": {},
     "output_type": "execute_result"
    }
   ],
   "source": [
    "f.tell() # Get the file cursor position"
   ]
  },
  {
   "cell_type": "code",
   "execution_count": 21,
   "metadata": {},
   "outputs": [],
   "source": [
    "f.close()"
   ]
  },
  {
   "cell_type": "code",
   "execution_count": 22,
   "metadata": {},
   "outputs": [],
   "source": [
    "f = open('test1.txt','r')"
   ]
  },
  {
   "cell_type": "code",
   "execution_count": 23,
   "metadata": {},
   "outputs": [
    {
     "ename": "UnsupportedOperation",
     "evalue": "not writable",
     "output_type": "error",
     "traceback": [
      "\u001b[1;31m---------------------------------------------------------------------------\u001b[0m",
      "\u001b[1;31mUnsupportedOperation\u001b[0m                      Traceback (most recent call last)",
      "\u001b[1;32md:\\Python Programs\\Python_Fast_Track\\Python_Basic\\3.ipynb Cell 99\u001b[0m in \u001b[0;36m<module>\u001b[1;34m\u001b[0m\n\u001b[1;32m----> <a href='vscode-notebook-cell:/d%3A/Python%20Programs/Python_Fast_Track/Python_Basic/3.ipynb#Y200sZmlsZQ%3D%3D?line=0'>1</a>\u001b[0m f\u001b[39m.\u001b[39;49mwrite(\u001b[39m\"\u001b[39;49m\u001b[39mgshjk\u001b[39;49m\u001b[39m\"\u001b[39;49m)\n",
      "\u001b[1;31mUnsupportedOperation\u001b[0m: not writable"
     ]
    }
   ],
   "source": [
    "f.write(\"gshjk\")"
   ]
  },
  {
   "cell_type": "code",
   "execution_count": 24,
   "metadata": {},
   "outputs": [
    {
     "data": {
      "text/plain": [
       "'This is my file'"
      ]
     },
     "execution_count": 24,
     "metadata": {},
     "output_type": "execute_result"
    }
   ],
   "source": [
    "f.read()"
   ]
  },
  {
   "cell_type": "code",
   "execution_count": 25,
   "metadata": {},
   "outputs": [],
   "source": [
    "f = open('test1.txt','a')"
   ]
  },
  {
   "cell_type": "code",
   "execution_count": 26,
   "metadata": {},
   "outputs": [
    {
     "data": {
      "text/plain": [
       "19"
      ]
     },
     "execution_count": 26,
     "metadata": {},
     "output_type": "execute_result"
    }
   ],
   "source": [
    "f.write(\"Hi how are you guys\")"
   ]
  },
  {
   "cell_type": "code",
   "execution_count": 27,
   "metadata": {},
   "outputs": [],
   "source": [
    "f.close()"
   ]
  },
  {
   "cell_type": "code",
   "execution_count": 28,
   "metadata": {},
   "outputs": [
    {
     "data": {
      "text/plain": [
       "13"
      ]
     },
     "execution_count": 28,
     "metadata": {},
     "output_type": "execute_result"
    }
   ],
   "source": [
    "f = open(\"test.txt\",\"wb\")\n",
    "f.write(b\"HOw Abjkl oll\")"
   ]
  },
  {
   "cell_type": "code",
   "execution_count": 29,
   "metadata": {},
   "outputs": [],
   "source": [
    "f.close()"
   ]
  },
  {
   "cell_type": "code",
   "execution_count": 30,
   "metadata": {},
   "outputs": [
    {
     "data": {
      "text/plain": [
       "b'HOw Abjkl oll'"
      ]
     },
     "execution_count": 30,
     "metadata": {},
     "output_type": "execute_result"
    }
   ],
   "source": [
    "f = open('test.txt','rb')\n",
    "f.read()"
   ]
  },
  {
   "cell_type": "code",
   "execution_count": 31,
   "metadata": {},
   "outputs": [
    {
     "data": {
      "text/plain": [
       "b'b'"
      ]
     },
     "execution_count": 31,
     "metadata": {},
     "output_type": "execute_result"
    }
   ],
   "source": [
    "f.seek(5)\n",
    "f.read(1)"
   ]
  },
  {
   "cell_type": "code",
   "execution_count": 32,
   "metadata": {},
   "outputs": [
    {
     "data": {
      "text/plain": [
       "10"
      ]
     },
     "execution_count": 32,
     "metadata": {},
     "output_type": "execute_result"
    }
   ],
   "source": [
    "f.seek(-3,2)"
   ]
  },
  {
   "cell_type": "code",
   "execution_count": 33,
   "metadata": {},
   "outputs": [],
   "source": [
    "f = open('test.txt','w')\n",
    "f.write(r'Hi how are you guys')\n",
    "f.close()"
   ]
  },
  {
   "cell_type": "code",
   "execution_count": 34,
   "metadata": {},
   "outputs": [
    {
     "data": {
      "text/plain": [
       "'Hi how are you guys'"
      ]
     },
     "execution_count": 34,
     "metadata": {},
     "output_type": "execute_result"
    }
   ],
   "source": [
    "f = open('test.txt','r')\n",
    "f.read()"
   ]
  },
  {
   "cell_type": "code",
   "execution_count": 35,
   "metadata": {},
   "outputs": [
    {
     "data": {
      "text/plain": [
       "''"
      ]
     },
     "execution_count": 35,
     "metadata": {},
     "output_type": "execute_result"
    }
   ],
   "source": [
    "f.read()"
   ]
  },
  {
   "cell_type": "code",
   "execution_count": 36,
   "metadata": {},
   "outputs": [
    {
     "data": {
      "text/plain": [
       "'Hi how are you guys'"
      ]
     },
     "execution_count": 36,
     "metadata": {},
     "output_type": "execute_result"
    }
   ],
   "source": [
    "f.seek(0)\n",
    "f.readline()"
   ]
  },
  {
   "cell_type": "code",
   "execution_count": 37,
   "metadata": {},
   "outputs": [
    {
     "data": {
      "text/plain": [
       "''"
      ]
     },
     "execution_count": 37,
     "metadata": {},
     "output_type": "execute_result"
    }
   ],
   "source": [
    "f.readline()"
   ]
  },
  {
   "cell_type": "code",
   "execution_count": 38,
   "metadata": {},
   "outputs": [
    {
     "data": {
      "text/plain": [
       "''"
      ]
     },
     "execution_count": 38,
     "metadata": {},
     "output_type": "execute_result"
    }
   ],
   "source": [
    "f.readline(6)"
   ]
  },
  {
   "cell_type": "code",
   "execution_count": 39,
   "metadata": {},
   "outputs": [],
   "source": [
    "f.close()"
   ]
  },
  {
   "cell_type": "code",
   "execution_count": 40,
   "metadata": {},
   "outputs": [],
   "source": [
    "f = open('test.txt','r')"
   ]
  },
  {
   "cell_type": "code",
   "execution_count": 41,
   "metadata": {},
   "outputs": [
    {
     "name": "stdout",
     "output_type": "stream",
     "text": [
      "Hi how are you guys "
     ]
    }
   ],
   "source": [
    "for i in f:\n",
    "    print(i,end=\" \")"
   ]
  },
  {
   "cell_type": "code",
   "execution_count": 42,
   "metadata": {},
   "outputs": [],
   "source": [
    "f.close()"
   ]
  },
  {
   "cell_type": "code",
   "execution_count": 43,
   "metadata": {},
   "outputs": [
    {
     "data": {
      "text/plain": [
       "['Hi how are you guys']"
      ]
     },
     "execution_count": 43,
     "metadata": {},
     "output_type": "execute_result"
    }
   ],
   "source": [
    "f = open('test.txt','r+')\n",
    "list(f)"
   ]
  },
  {
   "cell_type": "code",
   "execution_count": 44,
   "metadata": {},
   "outputs": [],
   "source": [
    "f.write('Kunal jiu uii unnati jkl')\n",
    "f.close()"
   ]
  },
  {
   "cell_type": "code",
   "execution_count": 45,
   "metadata": {},
   "outputs": [],
   "source": [
    "f = open('test.txt','r+')\n",
    "f.writelines(\"hoj dhuei juueool iiopl\")"
   ]
  },
  {
   "cell_type": "code",
   "execution_count": 46,
   "metadata": {},
   "outputs": [
    {
     "data": {
      "text/plain": [
       "'huei juueool iiopll jiu uii unnati jkl'"
      ]
     },
     "execution_count": 46,
     "metadata": {},
     "output_type": "execute_result"
    }
   ],
   "source": [
    "f.seek(5)\n",
    "f.read()"
   ]
  },
  {
   "cell_type": "code",
   "execution_count": 47,
   "metadata": {},
   "outputs": [],
   "source": [
    "f.close()"
   ]
  },
  {
   "cell_type": "code",
   "execution_count": 48,
   "metadata": {},
   "outputs": [
    {
     "data": {
      "text/plain": [
       "4"
      ]
     },
     "execution_count": 48,
     "metadata": {},
     "output_type": "execute_result"
    }
   ],
   "source": [
    "f = open('test1.txt','r+')\n",
    "f.fileno()"
   ]
  },
  {
   "cell_type": "code",
   "execution_count": 49,
   "metadata": {},
   "outputs": [
    {
     "name": "stdout",
     "output_type": "stream",
     "text": [
      "Overwriting test3.txt\n"
     ]
    }
   ],
   "source": [
    "%%writefile test3.txt\n",
    "My name is kumar"
   ]
  },
  {
   "cell_type": "markdown",
   "metadata": {},
   "source": [
    "Operating System"
   ]
  },
  {
   "cell_type": "code",
   "execution_count": 50,
   "metadata": {},
   "outputs": [],
   "source": [
    "import os "
   ]
  },
  {
   "cell_type": "code",
   "execution_count": 51,
   "metadata": {},
   "outputs": [
    {
     "data": {
      "text/plain": [
       "'d:\\\\Python Programs\\\\Python_Fast_Track\\\\Python_Basic'"
      ]
     },
     "execution_count": 51,
     "metadata": {},
     "output_type": "execute_result"
    }
   ],
   "source": [
    "pwd()"
   ]
  },
  {
   "cell_type": "code",
   "execution_count": 52,
   "metadata": {},
   "outputs": [
    {
     "data": {
      "text/plain": [
       "'d:\\\\Python Programs\\\\Python_Fast_Track\\\\Python_Basic'"
      ]
     },
     "execution_count": 52,
     "metadata": {},
     "output_type": "execute_result"
    }
   ],
   "source": [
    "os.getcwd()"
   ]
  },
  {
   "cell_type": "code",
   "execution_count": 53,
   "metadata": {},
   "outputs": [
    {
     "data": {
      "text/plain": [
       "['1.ipynb',\n",
       " \"1.OOP's.py\",\n",
       " '3.ipynb',\n",
       " '4.ipynb',\n",
       " '5.ipynb',\n",
       " 'Basket Ball.csv',\n",
       " 'file1',\n",
       " 'first.py',\n",
       " 'Five.txt',\n",
       " 'html_data0.csv',\n",
       " 'html_data1.csv',\n",
       " 'html_data2.csv',\n",
       " 'html_data3.csv',\n",
       " 'html_data4.csv',\n",
       " 'html_data5.csv',\n",
       " 'html_data6.csv',\n",
       " 'json_dump.csv',\n",
       " 'mydata.csv',\n",
       " 'my_pickle',\n",
       " 'oops 2 (2).ipynb',\n",
       " 'OOPS.log',\n",
       " 'Player.csv',\n",
       " 'Player1.csv',\n",
       " 'second.py',\n",
       " 'test.h5',\n",
       " 'test.txt',\n",
       " 'test1.txt',\n",
       " 'test3.txt',\n",
       " 'test8.log',\n",
       " 'W01-V02-Select and Navigate.xlsx']"
      ]
     },
     "execution_count": 53,
     "metadata": {},
     "output_type": "execute_result"
    }
   ],
   "source": [
    "os.listdir()"
   ]
  },
  {
   "cell_type": "code",
   "execution_count": 54,
   "metadata": {},
   "outputs": [
    {
     "data": {
      "text/plain": [
       "['.vscode',\n",
       " 'Data_Science Task',\n",
       " 'INeuron',\n",
       " 'Jarvis',\n",
       " 'JupyNotebook',\n",
       " 'Keylogger',\n",
       " 'kivyProject',\n",
       " 'Machine Learning',\n",
       " 'Mongo',\n",
       " 'One.txt',\n",
       " 'opencv',\n",
       " 'Python_Fast_Track',\n",
       " 'Stats']"
      ]
     },
     "execution_count": 54,
     "metadata": {},
     "output_type": "execute_result"
    }
   ],
   "source": [
    "os.listdir(\"D:\\\\Python Programs\")"
   ]
  },
  {
   "cell_type": "code",
   "execution_count": 55,
   "metadata": {},
   "outputs": [
    {
     "data": {
      "text/plain": [
       "'d:\\\\Python Programs\\\\Python_Fast_Track\\\\Python_Basic'"
      ]
     },
     "execution_count": 55,
     "metadata": {},
     "output_type": "execute_result"
    }
   ],
   "source": [
    "os.getcwd()"
   ]
  },
  {
   "cell_type": "code",
   "execution_count": 56,
   "metadata": {},
   "outputs": [],
   "source": [
    "os.chdir(\"D:/Python\")"
   ]
  },
  {
   "cell_type": "code",
   "execution_count": 57,
   "metadata": {},
   "outputs": [
    {
     "data": {
      "text/plain": [
       "'D:\\\\Python'"
      ]
     },
     "execution_count": 57,
     "metadata": {},
     "output_type": "execute_result"
    }
   ],
   "source": [
    "pwd()"
   ]
  },
  {
   "cell_type": "code",
   "execution_count": 63,
   "metadata": {},
   "outputs": [],
   "source": [
    "os.chdir(\"D:\\\\Python Programs\\\\Python_Fast_Track\\\\Python_Basic\")"
   ]
  },
  {
   "cell_type": "code",
   "execution_count": 64,
   "metadata": {},
   "outputs": [
    {
     "data": {
      "text/plain": [
       "'D:\\\\Python Programs\\\\Python_Fast_Track\\\\Python_Basic'"
      ]
     },
     "execution_count": 64,
     "metadata": {},
     "output_type": "execute_result"
    }
   ],
   "source": [
    "pwd()"
   ]
  },
  {
   "cell_type": "code",
   "execution_count": 65,
   "metadata": {},
   "outputs": [
    {
     "data": {
      "text/plain": [
       "['1.ipynb',\n",
       " \"1.OOP's.py\",\n",
       " '3.ipynb',\n",
       " '4.ipynb',\n",
       " '5.ipynb',\n",
       " 'Basket Ball.csv',\n",
       " 'file1',\n",
       " 'first.py',\n",
       " 'Five.txt',\n",
       " 'html_data0.csv',\n",
       " 'html_data1.csv',\n",
       " 'html_data2.csv',\n",
       " 'html_data3.csv',\n",
       " 'html_data4.csv',\n",
       " 'html_data5.csv',\n",
       " 'html_data6.csv',\n",
       " 'json_dump.csv',\n",
       " 'mydata.csv',\n",
       " 'my_pickle',\n",
       " 'oops 2 (2).ipynb',\n",
       " 'OOPS.log',\n",
       " 'Player.csv',\n",
       " 'Player1.csv',\n",
       " 'second.py',\n",
       " 'test.h5',\n",
       " 'test.txt',\n",
       " 'test1.txt',\n",
       " 'test3.txt',\n",
       " 'test8.log',\n",
       " 'W01-V02-Select and Navigate.xlsx']"
      ]
     },
     "execution_count": 65,
     "metadata": {},
     "output_type": "execute_result"
    }
   ],
   "source": [
    "os.listdir()"
   ]
  },
  {
   "cell_type": "code",
   "execution_count": 66,
   "metadata": {},
   "outputs": [
    {
     "name": "stdout",
     "output_type": "stream",
     "text": [
      "My file is avialable in this dir\n",
      "This is my fileHi how are you guys\n"
     ]
    }
   ],
   "source": [
    "if \"test1.txt\" in os.listdir():\n",
    "    print(\"My file is avialable in this dir\")\n",
    "    f = open('test1.txt','r+')\n",
    "    for i in f:\n",
    "        print(i)\n",
    "else:\n",
    "    print(\"My file is not avialable in this dir\")"
   ]
  },
  {
   "cell_type": "code",
   "execution_count": 67,
   "metadata": {},
   "outputs": [],
   "source": [
    "f.close()"
   ]
  },
  {
   "cell_type": "code",
   "execution_count": 68,
   "metadata": {},
   "outputs": [],
   "source": [
    "os.rename(\"test1.txt\",\"bhoot.txt\")"
   ]
  },
  {
   "cell_type": "code",
   "execution_count": 69,
   "metadata": {},
   "outputs": [],
   "source": [
    "os.remove(\"bhoot.txt\")"
   ]
  },
  {
   "cell_type": "code",
   "execution_count": 70,
   "metadata": {},
   "outputs": [
    {
     "data": {
      "text/plain": [
       "'D:\\\\Python Programs\\\\Machine Learning\\\\Logistics regression implementation.ipynb'"
      ]
     },
     "execution_count": 70,
     "metadata": {},
     "output_type": "execute_result"
    }
   ],
   "source": [
    "import shutil\n",
    "shutil.move(\"C:\\\\Users\\\\HP\\\\Downloads\\\\Logistics regression implementation.ipynb\",\"D:\\\\Python Programs\\\\Machine Learning\")"
   ]
  },
  {
   "cell_type": "code",
   "execution_count": 71,
   "metadata": {},
   "outputs": [],
   "source": [
    "os.chdir(\"D:\\\\Python Programs\\\\Python_Fast_Track\\\\Python_Basic\")"
   ]
  },
  {
   "cell_type": "code",
   "execution_count": 72,
   "metadata": {},
   "outputs": [
    {
     "data": {
      "text/plain": [
       "'D:\\\\Python Programs\\\\Python_Fast_Track\\\\Python_Basic'"
      ]
     },
     "execution_count": 72,
     "metadata": {},
     "output_type": "execute_result"
    }
   ],
   "source": [
    "pwd()"
   ]
  },
  {
   "cell_type": "markdown",
   "metadata": {},
   "source": [
    "Problem: \n",
    "1. Create a New directory\n",
    "2. create 10 txt files in this directory and write same data in files at a time\n",
    "3. Read all data from this directory/file print in console\n",
    "4. Hold all the data in one single list\n",
    "5. write all the data in new file from list\n",
    "6. Keep only a new file in Present dir and move rest in new directory"
   ]
  },
  {
   "cell_type": "code",
   "execution_count": 73,
   "metadata": {},
   "outputs": [],
   "source": [
    "# Q1\n",
    "os.mkdir(\"Rushi\")\n",
    "# Q2\n",
    "os.chdir(os.getcwd()+'\\Rushi')\n",
    "for i in range(1,11):\n",
    "    Fname = \"test\"+str(i)+\".txt\"\n",
    "    f = open(Fname,\"w\")\n",
    "    f.write(\"This is a My Files\")\n",
    "    f.close()"
   ]
  },
  {
   "cell_type": "code",
   "execution_count": 74,
   "metadata": {},
   "outputs": [
    {
     "name": "stdout",
     "output_type": "stream",
     "text": [
      "t\n",
      "e\n",
      "s\n",
      "t\n",
      "1\n",
      "0\n",
      ".\n",
      "t\n",
      "x\n",
      "t\n"
     ]
    }
   ],
   "source": [
    "for i in Fname:\n",
    "    print(i)"
   ]
  },
  {
   "cell_type": "code",
   "execution_count": 75,
   "metadata": {},
   "outputs": [
    {
     "name": "stdout",
     "output_type": "stream",
     "text": [
      "['This is a My Files', 'This is a My Files', 'This is a My Files', 'This is a My Files', 'This is a My Files', 'This is a My Files', 'This is a My Files', 'This is a My Files', 'This is a My Files', 'This is a My Files']\n"
     ]
    }
   ],
   "source": [
    "# Q3 \n",
    "li = []\n",
    "for i in range(1,11):\n",
    "    f  = open(Fname,'r')\n",
    "    data = f.read()\n",
    "    li.append(data)\n",
    "f.close()\n",
    "print(li)"
   ]
  },
  {
   "cell_type": "code",
   "execution_count": 76,
   "metadata": {},
   "outputs": [
    {
     "data": {
      "text/plain": [
       "['This is a My Files',\n",
       " 'This is a My Files',\n",
       " 'This is a My Files',\n",
       " 'This is a My Files',\n",
       " 'This is a My Files',\n",
       " 'This is a My Files',\n",
       " 'This is a My Files',\n",
       " 'This is a My Files',\n",
       " 'This is a My Files',\n",
       " 'This is a My Files']"
      ]
     },
     "execution_count": 76,
     "metadata": {},
     "output_type": "execute_result"
    }
   ],
   "source": [
    "# Q4\n",
    "l = []\n",
    "for i in range(1,11):\n",
    "    #Fname = \"test\"+str(i)+\".txt\"\n",
    "    f  = open(Fname,'r')\n",
    "    l.append(f.read())\n",
    "    f.close()\n",
    "l "
   ]
  },
  {
   "cell_type": "code",
   "execution_count": 77,
   "metadata": {},
   "outputs": [],
   "source": [
    "# Q5\n",
    "f = open(\"New_file.txt\",\"w\")\n",
    "for i in l:\n",
    "    f.write(i)\n",
    "f.close()"
   ]
  },
  {
   "cell_type": "code",
   "execution_count": 78,
   "metadata": {},
   "outputs": [
    {
     "data": {
      "text/plain": [
       "'D:\\\\Python Programs\\\\Python_Fast_Track\\\\Python_Basic\\\\Rushi'"
      ]
     },
     "execution_count": 78,
     "metadata": {},
     "output_type": "execute_result"
    }
   ],
   "source": [
    "pwd()"
   ]
  },
  {
   "cell_type": "code",
   "execution_count": 80,
   "metadata": {},
   "outputs": [],
   "source": [
    "os.chdir(\"D:\\\\Python Programs\\\\Python_Fast_Track\\\\Python_Basic\")"
   ]
  },
  {
   "cell_type": "markdown",
   "metadata": {},
   "source": [
    "Logging and Debugging"
   ]
  },
  {
   "cell_type": "code",
   "execution_count": 1,
   "metadata": {},
   "outputs": [],
   "source": [
    "import logging as lg \n",
    "import os "
   ]
  },
  {
   "cell_type": "code",
   "execution_count": 4,
   "metadata": {},
   "outputs": [],
   "source": [
    "os.mkdir(\"Logging\")"
   ]
  },
  {
   "cell_type": "code",
   "execution_count": 5,
   "metadata": {},
   "outputs": [],
   "source": [
    "os.chdir(os.getcwd() + \"/\" + \"logging\")"
   ]
  },
  {
   "cell_type": "code",
   "execution_count": 6,
   "metadata": {},
   "outputs": [
    {
     "data": {
      "text/plain": [
       "'d:\\\\Python Programs\\\\Python_Fast_Track\\\\Python_Basic\\\\logging'"
      ]
     },
     "execution_count": 6,
     "metadata": {},
     "output_type": "execute_result"
    }
   ],
   "source": [
    "pwd()"
   ]
  },
  {
   "cell_type": "code",
   "execution_count": 7,
   "metadata": {},
   "outputs": [],
   "source": [
    "lg.basicConfig(filename ='D:\\\\Python Programs\\\\Python_Fast_Track\\\\Python_Basic\\\\Logging\\\\myfile.log',level=lg.ERROR , format='%(asctime)s %(message)s')\n",
    "lg.info(\"I am going to start my program\")"
   ]
  },
  {
   "cell_type": "code",
   "execution_count": 8,
   "metadata": {},
   "outputs": [],
   "source": [
    "lg.warning(\"This is a first warning of my program so mofify it\")"
   ]
  },
  {
   "cell_type": "code",
   "execution_count": 9,
   "metadata": {},
   "outputs": [],
   "source": [
    "lg.error(\"This is a error!\")"
   ]
  },
  {
   "cell_type": "code",
   "execution_count": 10,
   "metadata": {},
   "outputs": [],
   "source": [
    "def test(a,b):\n",
    "    try:\n",
    "        lg.info(str(a)+str(b))\n",
    "        div = a/b\n",
    "        return div\n",
    "    except Exception as e:\n",
    "        print(\"You can check you log for more info if your code will fail\")\n",
    "        lg.error(\"Error has occured\")\n",
    "        lg.exception(str(e))"
   ]
  },
  {
   "cell_type": "code",
   "execution_count": 11,
   "metadata": {},
   "outputs": [
    {
     "name": "stdout",
     "output_type": "stream",
     "text": [
      "You can check you log for more info if your code will fail\n"
     ]
    }
   ],
   "source": [
    "test(4,0)"
   ]
  },
  {
   "cell_type": "code",
   "execution_count": 12,
   "metadata": {},
   "outputs": [],
   "source": [
    "import logging as lg \n",
    "lg.basicConfig(filename ='D:\\\\Python Programs\\\\Python_Fast_Track\\\\Python_Basic\\\\Logging\\\\myfile1.log',level = lg.INFO)\n",
    "def test(a,b):\n",
    "    lg.info(\"This is a start of function\")\n",
    "    return a+b"
   ]
  },
  {
   "cell_type": "code",
   "execution_count": 13,
   "metadata": {},
   "outputs": [
    {
     "data": {
      "text/plain": [
       "11"
      ]
     },
     "execution_count": 13,
     "metadata": {},
     "output_type": "execute_result"
    }
   ],
   "source": [
    "test(5,6)"
   ]
  },
  {
   "cell_type": "code",
   "execution_count": 14,
   "metadata": {},
   "outputs": [
    {
     "data": {
      "text/plain": [
       "1295"
      ]
     },
     "execution_count": 14,
     "metadata": {},
     "output_type": "execute_result"
    }
   ],
   "source": [
    "test(358,937)"
   ]
  },
  {
   "cell_type": "code",
   "execution_count": 93,
   "metadata": {},
   "outputs": [],
   "source": [
    "lg.shutdown()"
   ]
  },
  {
   "cell_type": "code",
   "execution_count": 1,
   "metadata": {},
   "outputs": [],
   "source": [
    "import logging\n",
    "logging.basicConfig(filename='D:\\\\Python Programs\\\\Python_Fast_Track\\\\Python_Basic\\\\Logging\\\\myfile2.log',level = logging.INFO)\n",
    "logging.debug(\"this is for debugging\")\n",
    "logging.info(\"this is info log\")\n",
    "logging.warning(\"this is my warning log\")\n",
    "logging.error(\"this is my error log\")\n",
    "logging.exception(\"this is my exception log\")\n",
    "logging.critical(\"this is my critical log \")"
   ]
  },
  {
   "cell_type": "markdown",
   "metadata": {},
   "source": [
    "Problem:\n",
    "1. Create a logger in your code\n",
    "2. create one function which can take only number of input as an argument and it will be able to return sum of it.\n",
    "3. capture user input in log\n",
    "4. give user instruction in log file\n",
    "5. read a log file from python code and show all the login console."
   ]
  },
  {
   "cell_type": "code",
   "execution_count": 2,
   "metadata": {},
   "outputs": [],
   "source": [
    "os.chdir(\"D:\\\\Python Programs\\\\Python_Fast_Track\\\\Python_Basic\\\\Logging\")"
   ]
  },
  {
   "cell_type": "code",
   "execution_count": 3,
   "metadata": {},
   "outputs": [
    {
     "data": {
      "text/plain": [
       "'D:\\\\Python Programs\\\\Python_Fast_Track\\\\Python_Basic\\\\Logging'"
      ]
     },
     "execution_count": 3,
     "metadata": {},
     "output_type": "execute_result"
    }
   ],
   "source": [
    "pwd()"
   ]
  },
  {
   "cell_type": "code",
   "execution_count": 4,
   "metadata": {},
   "outputs": [
    {
     "name": "stdout",
     "output_type": "stream",
     "text": [
      "2022-09-22 18:05:57,441 This is my addition function\n",
      "2022-09-22 18:05:57,442 2\n",
      "2022-09-22 18:05:57,442 3\n",
      "2022-09-22 18:05:57,442 78\n",
      "2022-09-22 18:05:57,442 5\n",
      "2022-09-22 18:05:57,442 43\n",
      "2022-09-22 18:05:57,442 8\n",
      "2022-09-22 18:06:06,278 This is my addition function\n",
      "2022-09-22 18:06:06,278 2\n",
      "2022-09-22 18:06:06,280 3\n",
      "2022-09-22 18:06:06,280 78\n",
      "2022-09-22 18:06:06,280 5\n",
      "2022-09-22 18:06:06,280 43\n",
      "2022-09-22 18:06:06,280 8\n",
      "2022-09-22 18:06:14,943 This is my addition function\n",
      "2022-09-22 18:06:14,944 2\n",
      "2022-09-22 18:06:14,944 3\n",
      "2022-09-22 18:06:14,944 78\n",
      "2022-09-22 18:06:14,944 5\n",
      "2022-09-22 18:06:14,944 43\n",
      "2022-09-22 18:06:14,944 8\n",
      "2022-09-22 18:06:24,578 This is my addition function\n",
      "2022-09-22 18:06:24,578 2\n",
      "2022-09-22 18:06:24,579 3\n",
      "2022-09-22 18:06:24,579 78\n",
      "2022-09-22 18:06:24,579 5\n",
      "2022-09-22 18:06:24,579 43\n",
      "2022-09-22 18:06:24,579 8\n",
      "2022-09-22 18:08:04,547 This is my addition function\n",
      "2022-09-22 18:08:04,547 2\n",
      "2022-09-22 18:08:04,547 3\n",
      "2022-09-22 18:08:04,547 78\n",
      "2022-09-22 18:08:04,547 5\n",
      "2022-09-22 18:08:04,547 43\n",
      "2022-09-22 18:08:04,547 8\n",
      "2022-09-22 18:08:15,692 This is my addition function\n",
      "2022-09-22 18:08:15,692 2\n",
      "2022-09-22 18:08:15,692 3\n",
      "2022-09-22 18:08:15,692 78\n",
      "2022-09-22 18:08:15,693 5\n",
      "2022-09-22 18:08:15,693 43\n",
      "2022-09-22 18:08:15,693 8\n",
      "2022-09-22 18:10:51,770 This is my addition function\n",
      "2022-09-22 18:10:51,770 2\n",
      "2022-09-22 18:10:51,770 3\n",
      "2022-09-22 18:10:51,770 78\n",
      "2022-09-22 18:10:51,770 5\n",
      "2022-09-22 18:10:51,770 43\n",
      "2022-09-22 18:10:51,770 8\n",
      "\n"
     ]
    }
   ],
   "source": [
    "import logging as lg\n",
    "lg.basicConfig(filename='D:\\\\Python Programs\\\\Python_Fast_Track\\\\Python_Basic\\\\Logging\\\\sumfile.log',level = lg.INFO,format='%(asctime)s %(message)s')\n",
    "def addition(*args):\n",
    "   \n",
    "    lg.info(\"This is my addition function\")   \n",
    "    sum1=0\n",
    "    for i in args:\n",
    "        lg.info(str(i)) \n",
    "        sum1=sum1+i\n",
    "    return sum1\n",
    "\n",
    "addition(2,3,78,5,43,8)\n",
    "f = open(\"sumfile.log\",\"r\")\n",
    "print(f.read())"
   ]
  },
  {
   "cell_type": "code",
   "execution_count": 5,
   "metadata": {},
   "outputs": [
    {
     "data": {
      "text/plain": [
       "139"
      ]
     },
     "execution_count": 5,
     "metadata": {},
     "output_type": "execute_result"
    }
   ],
   "source": [
    "addition(2,3,78,5,43,8)"
   ]
  },
  {
   "cell_type": "code",
   "execution_count": 6,
   "metadata": {},
   "outputs": [],
   "source": [
    "import logging as lg\n",
    "lg.basicConfig(filename='D:\\\\Python Programs\\\\Python_Fast_Track\\\\Python_Basic\\\\Logging\\\\test8.log',level=lg.DEBUG,format='%(asctime)s-%(levelname)s-%(name)s-%(message)s',filemode='r+')"
   ]
  },
  {
   "cell_type": "code",
   "execution_count": 7,
   "metadata": {},
   "outputs": [],
   "source": [
    "console_log = lg.StreamHandler()\n",
    "console_log.setLevel(lg.INFO)"
   ]
  },
  {
   "cell_type": "code",
   "execution_count": 8,
   "metadata": {},
   "outputs": [],
   "source": [
    "format='%(asctime)s-%(levelname)s-%(message)s'"
   ]
  },
  {
   "cell_type": "code",
   "execution_count": 9,
   "metadata": {},
   "outputs": [],
   "source": [
    "console_log.setFormatter(format)"
   ]
  },
  {
   "cell_type": "code",
   "execution_count": 10,
   "metadata": {},
   "outputs": [],
   "source": [
    "lg.getLogger('').addHandler(console_log)"
   ]
  },
  {
   "cell_type": "code",
   "execution_count": 11,
   "metadata": {},
   "outputs": [
    {
     "name": "stderr",
     "output_type": "stream",
     "text": [
      "%(asctime)s-%(levelname)s-%(message)s\n"
     ]
    }
   ],
   "source": [
    "lg.info(\"This is my first code for log\")"
   ]
  },
  {
   "cell_type": "code",
   "execution_count": 12,
   "metadata": {},
   "outputs": [],
   "source": [
    "logger1 = lg.getLogger('logger1.area1')\n",
    "logger2 = lg.getLogger('logger2.area2')"
   ]
  },
  {
   "cell_type": "code",
   "execution_count": 13,
   "metadata": {},
   "outputs": [
    {
     "name": "stderr",
     "output_type": "stream",
     "text": [
      "%(asctime)s-%(levelname)s-%(message)s\n",
      "%(asctime)s-%(levelname)s-%(message)s\n"
     ]
    }
   ],
   "source": [
    "logger1.info(\"This is info for logger one\")\n",
    "logger2.debug(\"This is a debug for logger two\")\n",
    "logger2.info(\"This is info for logger two\")"
   ]
  },
  {
   "cell_type": "code",
   "execution_count": 14,
   "metadata": {},
   "outputs": [
    {
     "name": "stderr",
     "output_type": "stream",
     "text": [
      "%(asctime)s-%(levelname)s-%(message)s\n",
      "%(asctime)s-%(levelname)s-%(message)s\n",
      "%(asctime)s-%(levelname)s-%(message)s\n",
      "%(asctime)s-%(levelname)s-%(message)s\n",
      "%(asctime)s-%(levelname)s-%(message)s\n",
      "%(asctime)s-%(levelname)s-%(message)s\n"
     ]
    }
   ],
   "source": [
    "import logging as lg\n",
    "lg.basicConfig(filename='test8.log',level=lg.DEBUG,format='%(asctime)s-%(levelname)s-%(name)s-%(message)s',filemode='r+')\n",
    "console_log = lg.StreamHandler()\n",
    "console_log.setLevel(lg.INFO)\n",
    "format='%(asctime)s-%(levelname)s-%(message)s'\n",
    "console_log.setFormatter(format)\n",
    "lg.getLogger('').addHandler(console_log)\n",
    "lg.info(\"This is my first code for log\")\n",
    "logger1 = lg.getLogger('user1')\n",
    "logger2 = lg.getLogger('user2')\n",
    "logger1.info(\"This is info for logger one\")\n",
    "logger2.debug(\"This is a debug for logger two\")\n",
    "logger2.info(\"This is info for logger two\")"
   ]
  },
  {
   "cell_type": "code",
   "execution_count": 15,
   "metadata": {},
   "outputs": [],
   "source": [
    "def testdebug():\n",
    "    l = []\n",
    "    for i in range(10):\n",
    "        l.append(i)\n",
    "        print(\"we have appended your data in list\")\n",
    "    return l "
   ]
  },
  {
   "cell_type": "code",
   "execution_count": 16,
   "metadata": {},
   "outputs": [
    {
     "name": "stdout",
     "output_type": "stream",
     "text": [
      "we have appended your data in list\n",
      "we have appended your data in list\n",
      "we have appended your data in list\n",
      "we have appended your data in list\n",
      "we have appended your data in list\n",
      "we have appended your data in list\n",
      "we have appended your data in list\n",
      "we have appended your data in list\n",
      "we have appended your data in list\n",
      "we have appended your data in list\n"
     ]
    },
    {
     "data": {
      "text/plain": [
       "[0, 1, 2, 3, 4, 5, 6, 7, 8, 9]"
      ]
     },
     "execution_count": 16,
     "metadata": {},
     "output_type": "execute_result"
    }
   ],
   "source": [
    "testdebug()"
   ]
  },
  {
   "cell_type": "markdown",
   "metadata": {},
   "source": [
    "Python Debugger"
   ]
  },
  {
   "cell_type": "code",
   "execution_count": 17,
   "metadata": {},
   "outputs": [],
   "source": [
    "import ipdb"
   ]
  },
  {
   "cell_type": "code",
   "execution_count": 18,
   "metadata": {},
   "outputs": [],
   "source": [
    "def testdebug():\n",
    "    ipdb.set_trace()\n",
    "    l = []\n",
    "    for i in range(10):\n",
    "        for j in range(5):\n",
    "            l.append(i)\n",
    "            if i == 4:\n",
    "                continue\n",
    "            print(\"we have appended your data in list\")\n",
    "    return l "
   ]
  },
  {
   "cell_type": "code",
   "execution_count": 19,
   "metadata": {},
   "outputs": [
    {
     "name": "stdout",
     "output_type": "stream",
     "text": [
      "> \u001b[1;32mc:\\users\\hp\\appdata\\local\\temp\\ipykernel_8724\\1912583958.py\u001b[0m(3)\u001b[0;36mtestdebug\u001b[1;34m()\u001b[0m\n",
      "\n",
      "\n",
      "Documented commands (type help <topic>):\n",
      "========================================\n",
      "EOF    commands   enable    ll        pp       s                until \n",
      "a      condition  exit      longlist  psource  skip_hidden      up    \n",
      "alias  cont       h         n         q        skip_predicates  w     \n",
      "args   context    help      next      quit     source           whatis\n",
      "b      continue   ignore    p         r        step             where \n",
      "break  d          interact  pdef      restart  tbreak         \n",
      "bt     debug      j         pdoc      return   u              \n",
      "c      disable    jump      pfile     retval   unalias        \n",
      "cl     display    l         pinfo     run      undisplay      \n",
      "clear  down       list      pinfo2    rv       unt            \n",
      "\n",
      "Miscellaneous help topics:\n",
      "==========================\n",
      "exec  pdb\n",
      "\n",
      "*** The 'jump' command requires a line number\n"
     ]
    },
    {
     "ename": "BdbQuit",
     "evalue": "",
     "output_type": "error",
     "traceback": [
      "\u001b[1;31m---------------------------------------------------------------------------\u001b[0m",
      "\u001b[1;31mBdbQuit\u001b[0m                                   Traceback (most recent call last)",
      "\u001b[1;32md:\\Python Programs\\Python_Fast_Track\\Python_Basic\\3.ipynb Cell 187\u001b[0m in \u001b[0;36m<module>\u001b[1;34m\u001b[0m\n\u001b[1;32m----> <a href='vscode-notebook-cell:/d%3A/Python%20Programs/Python_Fast_Track/Python_Basic/3.ipynb#Y354sZmlsZQ%3D%3D?line=0'>1</a>\u001b[0m testdebug()\n",
      "\u001b[1;32md:\\Python Programs\\Python_Fast_Track\\Python_Basic\\3.ipynb Cell 187\u001b[0m in \u001b[0;36mtestdebug\u001b[1;34m()\u001b[0m\n\u001b[0;32m      <a href='vscode-notebook-cell:/d%3A/Python%20Programs/Python_Fast_Track/Python_Basic/3.ipynb#Y354sZmlsZQ%3D%3D?line=0'>1</a>\u001b[0m \u001b[39mdef\u001b[39;00m \u001b[39mtestdebug\u001b[39m():\n\u001b[0;32m      <a href='vscode-notebook-cell:/d%3A/Python%20Programs/Python_Fast_Track/Python_Basic/3.ipynb#Y354sZmlsZQ%3D%3D?line=1'>2</a>\u001b[0m     ipdb\u001b[39m.\u001b[39mset_trace()\n\u001b[1;32m----> <a href='vscode-notebook-cell:/d%3A/Python%20Programs/Python_Fast_Track/Python_Basic/3.ipynb#Y354sZmlsZQ%3D%3D?line=2'>3</a>\u001b[0m     l \u001b[39m=\u001b[39m []\n\u001b[0;32m      <a href='vscode-notebook-cell:/d%3A/Python%20Programs/Python_Fast_Track/Python_Basic/3.ipynb#Y354sZmlsZQ%3D%3D?line=3'>4</a>\u001b[0m     \u001b[39mfor\u001b[39;00m i \u001b[39min\u001b[39;00m \u001b[39mrange\u001b[39m(\u001b[39m10\u001b[39m):\n\u001b[0;32m      <a href='vscode-notebook-cell:/d%3A/Python%20Programs/Python_Fast_Track/Python_Basic/3.ipynb#Y354sZmlsZQ%3D%3D?line=4'>5</a>\u001b[0m         \u001b[39mfor\u001b[39;00m j \u001b[39min\u001b[39;00m \u001b[39mrange\u001b[39m(\u001b[39m5\u001b[39m):\n",
      "\u001b[1;32md:\\Python Programs\\Python_Fast_Track\\Python_Basic\\3.ipynb Cell 187\u001b[0m in \u001b[0;36mtestdebug\u001b[1;34m()\u001b[0m\n\u001b[0;32m      <a href='vscode-notebook-cell:/d%3A/Python%20Programs/Python_Fast_Track/Python_Basic/3.ipynb#Y354sZmlsZQ%3D%3D?line=0'>1</a>\u001b[0m \u001b[39mdef\u001b[39;00m \u001b[39mtestdebug\u001b[39m():\n\u001b[0;32m      <a href='vscode-notebook-cell:/d%3A/Python%20Programs/Python_Fast_Track/Python_Basic/3.ipynb#Y354sZmlsZQ%3D%3D?line=1'>2</a>\u001b[0m     ipdb\u001b[39m.\u001b[39mset_trace()\n\u001b[1;32m----> <a href='vscode-notebook-cell:/d%3A/Python%20Programs/Python_Fast_Track/Python_Basic/3.ipynb#Y354sZmlsZQ%3D%3D?line=2'>3</a>\u001b[0m     l \u001b[39m=\u001b[39m []\n\u001b[0;32m      <a href='vscode-notebook-cell:/d%3A/Python%20Programs/Python_Fast_Track/Python_Basic/3.ipynb#Y354sZmlsZQ%3D%3D?line=3'>4</a>\u001b[0m     \u001b[39mfor\u001b[39;00m i \u001b[39min\u001b[39;00m \u001b[39mrange\u001b[39m(\u001b[39m10\u001b[39m):\n\u001b[0;32m      <a href='vscode-notebook-cell:/d%3A/Python%20Programs/Python_Fast_Track/Python_Basic/3.ipynb#Y354sZmlsZQ%3D%3D?line=4'>5</a>\u001b[0m         \u001b[39mfor\u001b[39;00m j \u001b[39min\u001b[39;00m \u001b[39mrange\u001b[39m(\u001b[39m5\u001b[39m):\n",
      "File \u001b[1;32mc:\\Python310\\lib\\bdb.py:90\u001b[0m, in \u001b[0;36mBdb.trace_dispatch\u001b[1;34m(self, frame, event, arg)\u001b[0m\n\u001b[0;32m     88\u001b[0m     \u001b[39mreturn\u001b[39;00m \u001b[39m# None\u001b[39;00m\n\u001b[0;32m     89\u001b[0m \u001b[39mif\u001b[39;00m event \u001b[39m==\u001b[39m \u001b[39m'\u001b[39m\u001b[39mline\u001b[39m\u001b[39m'\u001b[39m:\n\u001b[1;32m---> 90\u001b[0m     \u001b[39mreturn\u001b[39;00m \u001b[39mself\u001b[39;49m\u001b[39m.\u001b[39;49mdispatch_line(frame)\n\u001b[0;32m     91\u001b[0m \u001b[39mif\u001b[39;00m event \u001b[39m==\u001b[39m \u001b[39m'\u001b[39m\u001b[39mcall\u001b[39m\u001b[39m'\u001b[39m:\n\u001b[0;32m     92\u001b[0m     \u001b[39mreturn\u001b[39;00m \u001b[39mself\u001b[39m\u001b[39m.\u001b[39mdispatch_call(frame, arg)\n",
      "File \u001b[1;32mc:\\Python310\\lib\\bdb.py:115\u001b[0m, in \u001b[0;36mBdb.dispatch_line\u001b[1;34m(self, frame)\u001b[0m\n\u001b[0;32m    113\u001b[0m \u001b[39mif\u001b[39;00m \u001b[39mself\u001b[39m\u001b[39m.\u001b[39mstop_here(frame) \u001b[39mor\u001b[39;00m \u001b[39mself\u001b[39m\u001b[39m.\u001b[39mbreak_here(frame):\n\u001b[0;32m    114\u001b[0m     \u001b[39mself\u001b[39m\u001b[39m.\u001b[39muser_line(frame)\n\u001b[1;32m--> 115\u001b[0m     \u001b[39mif\u001b[39;00m \u001b[39mself\u001b[39m\u001b[39m.\u001b[39mquitting: \u001b[39mraise\u001b[39;00m BdbQuit\n\u001b[0;32m    116\u001b[0m \u001b[39mreturn\u001b[39;00m \u001b[39mself\u001b[39m\u001b[39m.\u001b[39mtrace_dispatch\n",
      "\u001b[1;31mBdbQuit\u001b[0m: "
     ]
    }
   ],
   "source": [
    "testdebug() # h"
   ]
  },
  {
   "cell_type": "code",
   "execution_count": null,
   "metadata": {},
   "outputs": [],
   "source": []
  }
 ],
 "metadata": {
  "interpreter": {
   "hash": "369f2c481f4da34e4445cda3fffd2e751bd1c4d706f27375911949ba6bb62e1c"
  },
  "kernelspec": {
   "display_name": "Python 3.10.0 64-bit",
   "language": "python",
   "name": "python3"
  },
  "language_info": {
   "codemirror_mode": {
    "name": "ipython",
    "version": 3
   },
   "file_extension": ".py",
   "mimetype": "text/x-python",
   "name": "python",
   "nbconvert_exporter": "python",
   "pygments_lexer": "ipython3",
   "version": "3.10.0"
  },
  "orig_nbformat": 4
 },
 "nbformat": 4,
 "nbformat_minor": 2
}
