{
 "cells": [
  {
   "cell_type": "markdown",
   "metadata": {},
   "source": [
    "### Lambda Function\n",
    "#### anonymous function\n",
    "\n",
    "#### A function with no name"
   ]
  },
  {
   "cell_type": "code",
   "execution_count": 1,
   "metadata": {},
   "outputs": [
    {
     "name": "stdout",
     "output_type": "stream",
     "text": [
      "6\n",
      "10\n"
     ]
    }
   ],
   "source": [
    "def x(a):\n",
    "    return a+2\n",
    "\n",
    "print(x(4))\n",
    "print(x(8))"
   ]
  },
  {
   "cell_type": "code",
   "execution_count": 2,
   "metadata": {},
   "outputs": [
    {
     "data": {
      "text/plain": [
       "6"
      ]
     },
     "execution_count": 2,
     "metadata": {},
     "output_type": "execute_result"
    }
   ],
   "source": [
    "y = lambda a:a+2\n",
    "y(4)"
   ]
  },
  {
   "cell_type": "code",
   "execution_count": 3,
   "metadata": {},
   "outputs": [
    {
     "data": {
      "text/plain": [
       "56"
      ]
     },
     "execution_count": 3,
     "metadata": {},
     "output_type": "execute_result"
    }
   ],
   "source": [
    "y(54)"
   ]
  },
  {
   "cell_type": "code",
   "execution_count": 4,
   "metadata": {},
   "outputs": [
    {
     "data": {
      "text/plain": [
       "4"
      ]
     },
     "execution_count": 4,
     "metadata": {},
     "output_type": "execute_result"
    }
   ],
   "source": [
    "def substract(a):\n",
    "    return a-5\n",
    "\n",
    "substract(9)"
   ]
  },
  {
   "cell_type": "code",
   "execution_count": 5,
   "metadata": {},
   "outputs": [
    {
     "data": {
      "text/plain": [
       "2"
      ]
     },
     "execution_count": 5,
     "metadata": {},
     "output_type": "execute_result"
    }
   ],
   "source": [
    "sub_lambda = lambda a:a-5\n",
    "sub_lambda(7)"
   ]
  },
  {
   "cell_type": "code",
   "execution_count": 6,
   "metadata": {},
   "outputs": [
    {
     "data": {
      "text/plain": [
       "132"
      ]
     },
     "execution_count": 6,
     "metadata": {},
     "output_type": "execute_result"
    }
   ],
   "source": [
    "def sum_list(a):\n",
    "    return sum(a)\n",
    "\n",
    "sum_list([45,78,9])"
   ]
  },
  {
   "cell_type": "code",
   "execution_count": 7,
   "metadata": {},
   "outputs": [
    {
     "data": {
      "text/plain": [
       "208"
      ]
     },
     "execution_count": 7,
     "metadata": {},
     "output_type": "execute_result"
    }
   ],
   "source": [
    "sum_list_lambda = lambda a : sum(a)\n",
    "sum_list_lambda([12,54,88,54])"
   ]
  },
  {
   "cell_type": "code",
   "execution_count": 16,
   "metadata": {},
   "outputs": [
    {
     "data": {
      "text/plain": [
       "145"
      ]
     },
     "execution_count": 16,
     "metadata": {},
     "output_type": "execute_result"
    }
   ],
   "source": [
    "add = lambda a,b :a+b\n",
    "add(89,56)"
   ]
  },
  {
   "cell_type": "code",
   "execution_count": 18,
   "metadata": {},
   "outputs": [
    {
     "data": {
      "text/plain": [
       "True"
      ]
     },
     "execution_count": 18,
     "metadata": {},
     "output_type": "execute_result"
    }
   ],
   "source": [
    "def even(num):\n",
    "    if num % 2 == 0:\n",
    "        return True\n",
    "even(24)"
   ]
  },
  {
   "cell_type": "code",
   "execution_count": 19,
   "metadata": {},
   "outputs": [
    {
     "data": {
      "text/plain": [
       "True"
      ]
     },
     "execution_count": 19,
     "metadata": {},
     "output_type": "execute_result"
    }
   ],
   "source": [
    "even1 = lambda a:a%2 == 0\n",
    "even1(64)"
   ]
  },
  {
   "cell_type": "code",
   "execution_count": 20,
   "metadata": {},
   "outputs": [
    {
     "data": {
      "text/plain": [
       "146"
      ]
     },
     "execution_count": 20,
     "metadata": {},
     "output_type": "execute_result"
    }
   ],
   "source": [
    "def add1(x,y,z):\n",
    "    return x+y+z\n",
    "\n",
    "add1(23,45,78)"
   ]
  },
  {
   "cell_type": "code",
   "execution_count": 22,
   "metadata": {},
   "outputs": [
    {
     "data": {
      "text/plain": [
       "118"
      ]
     },
     "execution_count": 22,
     "metadata": {},
     "output_type": "execute_result"
    }
   ],
   "source": [
    "add2 = lambda x,y,z : x+y+z \n",
    "add2(78,34,6)"
   ]
  },
  {
   "cell_type": "markdown",
   "metadata": {},
   "source": [
    "### Map Function"
   ]
  },
  {
   "cell_type": "code",
   "execution_count": 23,
   "metadata": {},
   "outputs": [
    {
     "data": {
      "text/plain": [
       "'The number 45 is odd'"
      ]
     },
     "execution_count": 23,
     "metadata": {},
     "output_type": "execute_result"
    }
   ],
   "source": [
    "def even_odd(n):\n",
    "    if n % 2 == 0:\n",
    "        return \"The number {} is Even\".format(n)\n",
    "    else:\n",
    "        return \"The number {} is odd\".format(n)\n",
    "even_odd(45)"
   ]
  },
  {
   "cell_type": "code",
   "execution_count": 24,
   "metadata": {},
   "outputs": [
    {
     "data": {
      "text/plain": [
       "['The number 1 is odd',\n",
       " 'The number 3 is odd',\n",
       " 'The number 5 is odd',\n",
       " 'The number 8 is Even',\n",
       " 'The number 4 is Even',\n",
       " 'The number 2 is Even',\n",
       " 'The number 9 is odd',\n",
       " 'The number 7 is odd',\n",
       " 'The number 6 is Even',\n",
       " 'The number 11 is odd',\n",
       " 'The number 23 is odd',\n",
       " 'The number 56 is Even']"
      ]
     },
     "execution_count": 24,
     "metadata": {},
     "output_type": "execute_result"
    }
   ],
   "source": [
    "lst = [1,3,5,8,4,2,9,7,6,11,23,56]\n",
    "list(map(even_odd,lst))"
   ]
  },
  {
   "cell_type": "markdown",
   "metadata": {},
   "source": [
    "Filter Function"
   ]
  },
  {
   "cell_type": "code",
   "execution_count": 25,
   "metadata": {},
   "outputs": [
    {
     "data": {
      "text/plain": [
       "[12, 34, 56, 76]"
      ]
     },
     "execution_count": 25,
     "metadata": {},
     "output_type": "execute_result"
    }
   ],
   "source": [
    "def even(n):\n",
    "    if n%2 == 0:\n",
    "        return True \n",
    "\n",
    "lst = [12,34,56,76,89,23,5,9,13,65,87]\n",
    "list(filter(even,lst))"
   ]
  },
  {
   "cell_type": "code",
   "execution_count": 26,
   "metadata": {},
   "outputs": [
    {
     "data": {
      "text/plain": [
       "[12, 34, 56, 76]"
      ]
     },
     "execution_count": 26,
     "metadata": {},
     "output_type": "execute_result"
    }
   ],
   "source": [
    "list(filter(lambda n:n%2 ==0,lst))"
   ]
  },
  {
   "cell_type": "code",
   "execution_count": 27,
   "metadata": {},
   "outputs": [
    {
     "data": {
      "text/plain": [
       "[True, True, True, True, False, False, False, False, False, False, False]"
      ]
     },
     "execution_count": 27,
     "metadata": {},
     "output_type": "execute_result"
    }
   ],
   "source": [
    "list(map(lambda n:n%2 ==0,lst))"
   ]
  },
  {
   "cell_type": "markdown",
   "metadata": {},
   "source": [
    "### List Comprehension\n",
    "\n",
    "List comprehension provide a concise way to create lists.it consists of brackets containing an expression followed by a for clause,then zero or more for or if clauses. the exoressions can be anything , meaning you can put in all kinds of objects in lists."
   ]
  },
  {
   "cell_type": "code",
   "execution_count": 9,
   "metadata": {},
   "outputs": [
    {
     "name": "stdout",
     "output_type": "stream",
     "text": [
      "Hi : 13\n",
      "Hi : 35\n",
      "Hi : 57\n",
      "Hi : 79\n"
     ]
    }
   ],
   "source": [
    "for i in [13,35,57,79]:\n",
    "    print(f'Hi : {i}')"
   ]
  },
  {
   "cell_type": "code",
   "execution_count": 10,
   "metadata": {},
   "outputs": [
    {
     "data": {
      "text/plain": [
       "['Hi 12', 'Hi 34', 'Hi 45', 'Hi 56', 'Hi 67', 'Hi 78', 'Hi 89']"
      ]
     },
     "execution_count": 10,
     "metadata": {},
     "output_type": "execute_result"
    }
   ],
   "source": [
    "[f'Hi {i}' for i in[12,34,45,56,67,78,89]]"
   ]
  },
  {
   "cell_type": "code",
   "execution_count": 11,
   "metadata": {},
   "outputs": [
    {
     "name": "stdout",
     "output_type": "stream",
     "text": [
      "Its not table of :1\n",
      "Its not table of :2\n",
      "Table of 3 :3\n",
      "Its not table of :4\n",
      "Its not table of :5\n",
      "Table of 3 :6\n",
      "Its not table of :7\n",
      "Its not table of :8\n",
      "Table of 3 :9\n",
      "Its not table of :10\n",
      "Its not table of :11\n",
      "Table of 3 :12\n",
      "Its not table of :13\n",
      "Its not table of :14\n",
      "Table of 3 :15\n"
     ]
    }
   ],
   "source": [
    "for i in [1,2,3,4,5,6,7,8,9,10,11,12,13,14,15]:\n",
    "    if i%3 == 0:\n",
    "        print(f\"Table of 3 :{i}\")\n",
    "    else:\n",
    "        print(f\"Its not table of :{i}\")"
   ]
  },
  {
   "cell_type": "code",
   "execution_count": 12,
   "metadata": {},
   "outputs": [
    {
     "data": {
      "text/plain": [
       "['Table of 3 :3',\n",
       " 'Table of 3 :6',\n",
       " 'Table of 3 :9',\n",
       " 'Table of 3 :12',\n",
       " 'Table of 3 :15']"
      ]
     },
     "execution_count": 12,
     "metadata": {},
     "output_type": "execute_result"
    }
   ],
   "source": [
    "[f\"Table of 3 :{i}\" for i in [1,2,3,4,5,6,7,8,9,10,11,12,13,14,15] if i%3==0]"
   ]
  },
  {
   "cell_type": "code",
   "execution_count": 13,
   "metadata": {},
   "outputs": [
    {
     "data": {
      "text/plain": [
       "['its not table of :1',\n",
       " 'its not table of :2',\n",
       " 'Table of 3 :3',\n",
       " 'its not table of :4',\n",
       " 'Table of 3 :33',\n",
       " 'Table of 3 :6',\n",
       " 'its not table of :7',\n",
       " 'Table of 3 :30',\n",
       " 'Table of 3 :9',\n",
       " 'its not table of :10',\n",
       " 'its not table of :11',\n",
       " 'Table of 3 :12',\n",
       " 'Table of 3 :66',\n",
       " 'Table of 3 :99',\n",
       " 'Table of 3 :15']"
      ]
     },
     "execution_count": 13,
     "metadata": {},
     "output_type": "execute_result"
    }
   ],
   "source": [
    "[f\"Table of 3 :{i}\" if i%3==0 else f\"its not table of :{i}\" for i in\\\n",
    "     [1,2,3,4,33,6,7,30,9,10,11,12,66,99,15]]"
   ]
  },
  {
   "cell_type": "code",
   "execution_count": 28,
   "metadata": {},
   "outputs": [],
   "source": [
    "def iterate_over_dict(a):\n",
    "    for key,value in a.items():\n",
    "        print(f\"key is :{key} & its value is :{value}\")"
   ]
  },
  {
   "cell_type": "code",
   "execution_count": 29,
   "metadata": {},
   "outputs": [
    {
     "name": "stdout",
     "output_type": "stream",
     "text": [
      "key is :name & its value is :Raudin Business\n",
      "key is :Spoken Lang & its value is :English\n",
      "key is :Lang & its value is :Python,Js,Java\n",
      "key is :Place & its value is :Mumbai\n",
      "key is :Age & its value is :19\n",
      "key is :Marks & its value is :84.2\n"
     ]
    }
   ],
   "source": [
    "intro={\n",
    "    'name':'Raudin Business',\n",
    "    'Spoken Lang':'English',\n",
    "    'Lang':'Python,Js,Java',\n",
    "    'Place':'Mumbai',\n",
    "    'Age': 19,\n",
    "    'Marks': 84.20\n",
    "}\n",
    "\n",
    "iterate_over_dict(intro)"
   ]
  },
  {
   "cell_type": "code",
   "execution_count": 31,
   "metadata": {},
   "outputs": [
    {
     "data": {
      "text/plain": [
       "[4, 16, 36, 64]"
      ]
     },
     "execution_count": 31,
     "metadata": {},
     "output_type": "execute_result"
    }
   ],
   "source": [
    "l = [1,2,3,4,5,6,7,8,9]\n",
    "[i*i for i in l if i%2 ==0]"
   ]
  },
  {
   "cell_type": "code",
   "execution_count": 2,
   "metadata": {},
   "outputs": [],
   "source": [
    "# 1. (name) is positional argument\n",
    "# 2. age is keyword argument\n",
    "\n",
    "def hello(name,age = 22):\n",
    "    print(\"My name is {} and age is {}\".format(name,age))"
   ]
  },
  {
   "cell_type": "code",
   "execution_count": 3,
   "metadata": {},
   "outputs": [
    {
     "name": "stdout",
     "output_type": "stream",
     "text": [
      "My name is Rushi and age is 22\n"
     ]
    }
   ],
   "source": [
    "hello(\"Rushi\")"
   ]
  },
  {
   "cell_type": "code",
   "execution_count": 5,
   "metadata": {},
   "outputs": [],
   "source": [
    "def hello(*args,**kwargs):\n",
    "    print(args)\n",
    "    print(kwargs)"
   ]
  },
  {
   "cell_type": "code",
   "execution_count": 6,
   "metadata": {},
   "outputs": [
    {
     "name": "stdout",
     "output_type": "stream",
     "text": [
      "('Krish', 'Naik')\n",
      "{'age': 29, 'dob': 1990}\n"
     ]
    }
   ],
   "source": [
    "hello(\"Krish\",\"Naik\",age=29,dob=1990)"
   ]
  },
  {
   "cell_type": "code",
   "execution_count": 8,
   "metadata": {},
   "outputs": [
    {
     "name": "stdout",
     "output_type": "stream",
     "text": [
      "('Krish ', 'Naik')\n",
      "{'age': 29, 'dob': 1990}\n"
     ]
    }
   ],
   "source": [
    "lst = [\"Krish \",\"Naik\"]\n",
    "dict_args={'age': 29,'dob':1990}\n",
    "hello(*lst,**dict_args)"
   ]
  },
  {
   "cell_type": "code",
   "execution_count": 14,
   "metadata": {},
   "outputs": [
    {
     "data": {
      "text/plain": [
       "(222, 134)"
      ]
     },
     "execution_count": 14,
     "metadata": {},
     "output_type": "execute_result"
    }
   ],
   "source": [
    "def evenoddsum(lst):\n",
    "    even_sum = 0\n",
    "    odd_sum = 0\n",
    "    for i in lst:\n",
    "        if i%2 == 0:\n",
    "            even_sum += i\n",
    "        else:\n",
    "            odd_sum += i \n",
    "    return even_sum,odd_sum\n",
    "\n",
    "lst = [23,45,78,12,98,34,39,27]\n",
    "evenoddsum(lst)"
   ]
  },
  {
   "cell_type": "markdown",
   "metadata": {},
   "source": [
    "Math Function  20/5/2022"
   ]
  },
  {
   "cell_type": "code",
   "execution_count": 16,
   "metadata": {},
   "outputs": [],
   "source": [
    "import math"
   ]
  },
  {
   "cell_type": "code",
   "execution_count": 17,
   "metadata": {},
   "outputs": [
    {
     "data": {
      "text/plain": [
       "-0.5215510020869119"
      ]
     },
     "execution_count": 17,
     "metadata": {},
     "output_type": "execute_result"
    }
   ],
   "source": [
    "math.sin(56)"
   ]
  },
  {
   "cell_type": "code",
   "execution_count": 18,
   "metadata": {},
   "outputs": [
    {
     "data": {
      "text/plain": [
       "6.0"
      ]
     },
     "execution_count": 18,
     "metadata": {},
     "output_type": "execute_result"
    }
   ],
   "source": [
    "math.sqrt(36)"
   ]
  },
  {
   "cell_type": "code",
   "execution_count": 19,
   "metadata": {},
   "outputs": [],
   "source": [
    "from math import sqrt"
   ]
  },
  {
   "cell_type": "code",
   "execution_count": 20,
   "metadata": {},
   "outputs": [
    {
     "data": {
      "text/plain": [
       "2.8284271247461903"
      ]
     },
     "execution_count": 20,
     "metadata": {},
     "output_type": "execute_result"
    }
   ],
   "source": [
    "sqrt(8)"
   ]
  },
  {
   "cell_type": "code",
   "execution_count": 21,
   "metadata": {},
   "outputs": [],
   "source": [
    "from math import pi"
   ]
  },
  {
   "cell_type": "code",
   "execution_count": 22,
   "metadata": {},
   "outputs": [
    {
     "data": {
      "text/plain": [
       "3.141592653589793"
      ]
     },
     "execution_count": 22,
     "metadata": {},
     "output_type": "execute_result"
    }
   ],
   "source": [
    "pi"
   ]
  },
  {
   "cell_type": "code",
   "execution_count": 23,
   "metadata": {},
   "outputs": [],
   "source": [
    "from math import *"
   ]
  },
  {
   "cell_type": "code",
   "execution_count": 24,
   "metadata": {},
   "outputs": [
    {
     "data": {
      "text/plain": [
       "-0.27941549819892586"
      ]
     },
     "execution_count": 24,
     "metadata": {},
     "output_type": "execute_result"
    }
   ],
   "source": [
    "sin(6)"
   ]
  },
  {
   "cell_type": "code",
   "execution_count": 25,
   "metadata": {},
   "outputs": [
    {
     "data": {
      "text/plain": [
       "9.0"
      ]
     },
     "execution_count": 25,
     "metadata": {},
     "output_type": "execute_result"
    }
   ],
   "source": [
    "sqrt(81)"
   ]
  },
  {
   "cell_type": "code",
   "execution_count": 26,
   "metadata": {},
   "outputs": [
    {
     "data": {
      "text/plain": [
       "3.141592653589793"
      ]
     },
     "execution_count": 26,
     "metadata": {},
     "output_type": "execute_result"
    }
   ],
   "source": [
    "pi"
   ]
  },
  {
   "cell_type": "markdown",
   "metadata": {},
   "source": [
    "### Create Own Module"
   ]
  },
  {
   "cell_type": "code",
   "execution_count": 3,
   "metadata": {},
   "outputs": [],
   "source": [
    "os.chdir('D:\\\\Python Programs\\\\Python_Fast_Track\\\\Modules')"
   ]
  },
  {
   "cell_type": "code",
   "execution_count": 4,
   "metadata": {},
   "outputs": [
    {
     "data": {
      "text/plain": [
       "'D:\\\\Python Programs\\\\Python_Fast_Track\\\\Modules'"
      ]
     },
     "execution_count": 4,
     "metadata": {},
     "output_type": "execute_result"
    }
   ],
   "source": [
    "pwd()"
   ]
  },
  {
   "cell_type": "code",
   "execution_count": 5,
   "metadata": {},
   "outputs": [],
   "source": [
    "import first"
   ]
  },
  {
   "cell_type": "code",
   "execution_count": 6,
   "metadata": {},
   "outputs": [
    {
     "data": {
      "text/plain": [
       "<module 'first' from 'd:\\\\Python Programs\\\\Python_Fast_Track\\\\Python_Basic\\\\first.py'>"
      ]
     },
     "execution_count": 6,
     "metadata": {},
     "output_type": "execute_result"
    }
   ],
   "source": [
    "import imp\n",
    "imp.reload(first)"
   ]
  },
  {
   "cell_type": "code",
   "execution_count": 7,
   "metadata": {},
   "outputs": [],
   "source": [
    "import first"
   ]
  },
  {
   "cell_type": "code",
   "execution_count": 8,
   "metadata": {},
   "outputs": [
    {
     "data": {
      "text/plain": [
       "15"
      ]
     },
     "execution_count": 8,
     "metadata": {},
     "output_type": "execute_result"
    }
   ],
   "source": [
    "first.add(8,7)"
   ]
  },
  {
   "cell_type": "code",
   "execution_count": 9,
   "metadata": {},
   "outputs": [
    {
     "data": {
      "text/plain": [
       "5"
      ]
     },
     "execution_count": 9,
     "metadata": {},
     "output_type": "execute_result"
    }
   ],
   "source": [
    "first.sub(9,4)"
   ]
  },
  {
   "cell_type": "code",
   "execution_count": 10,
   "metadata": {},
   "outputs": [
    {
     "data": {
      "text/plain": [
       "306"
      ]
     },
     "execution_count": 10,
     "metadata": {},
     "output_type": "execute_result"
    }
   ],
   "source": [
    "first.mul(9,34)"
   ]
  },
  {
   "cell_type": "code",
   "execution_count": 11,
   "metadata": {},
   "outputs": [
    {
     "data": {
      "text/plain": [
       "0.5"
      ]
     },
     "execution_count": 11,
     "metadata": {},
     "output_type": "execute_result"
    }
   ],
   "source": [
    "first.div(4,8)"
   ]
  },
  {
   "cell_type": "code",
   "execution_count": 12,
   "metadata": {},
   "outputs": [
    {
     "data": {
      "text/plain": [
       "36"
      ]
     },
     "execution_count": 12,
     "metadata": {},
     "output_type": "execute_result"
    }
   ],
   "source": [
    "first.power(6,2)"
   ]
  },
  {
   "cell_type": "code",
   "execution_count": 13,
   "metadata": {},
   "outputs": [
    {
     "data": {
      "text/plain": [
       "8.666666666666666"
      ]
     },
     "execution_count": 13,
     "metadata": {},
     "output_type": "execute_result"
    }
   ],
   "source": [
    "first.div(78,9)"
   ]
  },
  {
   "cell_type": "code",
   "execution_count": 14,
   "metadata": {},
   "outputs": [],
   "source": [
    "import second as se"
   ]
  },
  {
   "cell_type": "code",
   "execution_count": 15,
   "metadata": {},
   "outputs": [
    {
     "data": {
      "text/plain": [
       "['PY', 'Stat', 'ML', 'DL', 'AI', 'Power Bi', 'Tableau', 'CV']"
      ]
     },
     "execution_count": 15,
     "metadata": {},
     "output_type": "execute_result"
    }
   ],
   "source": [
    "se.get_course()"
   ]
  },
  {
   "cell_type": "code",
   "execution_count": 16,
   "metadata": {},
   "outputs": [
    {
     "data": {
      "text/plain": [
       "'This is my Data Science Course'"
      ]
     },
     "execution_count": 16,
     "metadata": {},
     "output_type": "execute_result"
    }
   ],
   "source": [
    "se.msg()"
   ]
  },
  {
   "cell_type": "code",
   "execution_count": 17,
   "metadata": {},
   "outputs": [
    {
     "data": {
      "text/plain": [
       "{'name': 'Rushi',\n",
       " 'course': ['PY', 'Stat', 'ML', 'DL', 'AI', 'Power Bi', 'Tableau', 'CV'],\n",
       " 'msg': 'This is my Data Science Course'}"
      ]
     },
     "execution_count": 17,
     "metadata": {},
     "output_type": "execute_result"
    }
   ],
   "source": [
    "se.data"
   ]
  },
  {
   "cell_type": "code",
   "execution_count": 18,
   "metadata": {},
   "outputs": [],
   "source": [
    "from second import get_course"
   ]
  },
  {
   "cell_type": "code",
   "execution_count": 19,
   "metadata": {},
   "outputs": [
    {
     "data": {
      "text/plain": [
       "['PY', 'Stat', 'ML', 'DL', 'AI', 'Power Bi', 'Tableau', 'CV']"
      ]
     },
     "execution_count": 19,
     "metadata": {},
     "output_type": "execute_result"
    }
   ],
   "source": [
    "get_course()"
   ]
  },
  {
   "cell_type": "code",
   "execution_count": 20,
   "metadata": {},
   "outputs": [
    {
     "ename": "NameError",
     "evalue": "name 'msg' is not defined",
     "output_type": "error",
     "traceback": [
      "\u001b[1;31m---------------------------------------------------------------------------\u001b[0m",
      "\u001b[1;31mNameError\u001b[0m                                 Traceback (most recent call last)",
      "\u001b[1;32md:\\Python Programs\\Python_Fast_Track\\Python_Basic\\4.ipynb Cell 66\u001b[0m in \u001b[0;36m<module>\u001b[1;34m\u001b[0m\n\u001b[1;32m----> <a href='vscode-notebook-cell:/d%3A/Python%20Programs/Python_Fast_Track/Python_Basic/4.ipynb#Y121sZmlsZQ%3D%3D?line=0'>1</a>\u001b[0m msg()\n",
      "\u001b[1;31mNameError\u001b[0m: name 'msg' is not defined"
     ]
    }
   ],
   "source": [
    "msg()"
   ]
  },
  {
   "cell_type": "code",
   "execution_count": 21,
   "metadata": {},
   "outputs": [
    {
     "data": {
      "text/plain": [
       "'D:\\\\Python Programs\\\\Python_Fast_Track\\\\Modules'"
      ]
     },
     "execution_count": 21,
     "metadata": {},
     "output_type": "execute_result"
    }
   ],
   "source": [
    "pwd()"
   ]
  },
  {
   "cell_type": "markdown",
   "metadata": {},
   "source": [
    "Problem: "
   ]
  },
  {
   "cell_type": "code",
   "execution_count": 22,
   "metadata": {},
   "outputs": [],
   "source": [
    "os.chdir('D:\\\\Python Programs\\\\Python_Fast_Track\\\\Modules\\\\mymodules')"
   ]
  },
  {
   "cell_type": "code",
   "execution_count": 23,
   "metadata": {},
   "outputs": [
    {
     "data": {
      "text/plain": [
       "'D:\\\\Python Programs\\\\Python_Fast_Track\\\\Modules\\\\mymodules'"
      ]
     },
     "execution_count": 23,
     "metadata": {},
     "output_type": "execute_result"
    }
   ],
   "source": [
    "pwd()"
   ]
  },
  {
   "cell_type": "code",
   "execution_count": 24,
   "metadata": {},
   "outputs": [
    {
     "name": "stdout",
     "output_type": "stream",
     "text": [
      "name 'args' is not defined\n",
      "Even no:  <function even at 0x000001FECA975090>\n",
      "Code Executed\n"
     ]
    }
   ],
   "source": [
    "import mod1,mod2,mod3"
   ]
  },
  {
   "cell_type": "code",
   "execution_count": 25,
   "metadata": {},
   "outputs": [
    {
     "name": "stdout",
     "output_type": "stream",
     "text": [
      "This is my first function module\n"
     ]
    }
   ],
   "source": [
    "mod1.Fn1()"
   ]
  },
  {
   "cell_type": "code",
   "execution_count": 26,
   "metadata": {},
   "outputs": [
    {
     "name": "stdout",
     "output_type": "stream",
     "text": [
      "This is my second function module\n"
     ]
    }
   ],
   "source": [
    "mod1.Fn2()"
   ]
  },
  {
   "cell_type": "code",
   "execution_count": 27,
   "metadata": {},
   "outputs": [
    {
     "name": "stdout",
     "output_type": "stream",
     "text": [
      "This is my third function module\n"
     ]
    }
   ],
   "source": [
    "mod1.Fn3()"
   ]
  },
  {
   "cell_type": "code",
   "execution_count": 28,
   "metadata": {},
   "outputs": [
    {
     "name": "stdout",
     "output_type": "stream",
     "text": [
      "This is my 2_1 function\n"
     ]
    }
   ],
   "source": [
    "mod2.Fn2_1()"
   ]
  },
  {
   "cell_type": "code",
   "execution_count": 29,
   "metadata": {},
   "outputs": [
    {
     "name": "stdout",
     "output_type": "stream",
     "text": [
      "This is my 2_2 function\n"
     ]
    }
   ],
   "source": [
    "mod2.Fn2_2()"
   ]
  },
  {
   "cell_type": "code",
   "execution_count": 30,
   "metadata": {},
   "outputs": [
    {
     "name": "stdout",
     "output_type": "stream",
     "text": [
      "This is my 2_3 function\n"
     ]
    }
   ],
   "source": [
    "mod2.Fn2_3()"
   ]
  },
  {
   "cell_type": "code",
   "execution_count": 31,
   "metadata": {},
   "outputs": [
    {
     "name": "stdout",
     "output_type": "stream",
     "text": [
      "This is my 3_1 function\n"
     ]
    }
   ],
   "source": [
    "mod3.Fn3_1()"
   ]
  },
  {
   "cell_type": "code",
   "execution_count": 33,
   "metadata": {},
   "outputs": [],
   "source": [
    "os.chdir('D:\\\\Python Programs\\\\Python_Fast_Track\\\\Modules')"
   ]
  },
  {
   "cell_type": "code",
   "execution_count": 34,
   "metadata": {},
   "outputs": [
    {
     "name": "stdout",
     "output_type": "stream",
     "text": [
      "name 'args' is not defined\n",
      "Even no:  <function even at 0x000001FECA975EA0>\n",
      "Code Executed\n"
     ]
    }
   ],
   "source": [
    "from mymodules import mod1,mod2,mod3"
   ]
  },
  {
   "cell_type": "code",
   "execution_count": 35,
   "metadata": {},
   "outputs": [
    {
     "name": "stdout",
     "output_type": "stream",
     "text": [
      "This is my third function module\n"
     ]
    }
   ],
   "source": [
    "mod1.Fn3()"
   ]
  },
  {
   "cell_type": "code",
   "execution_count": 36,
   "metadata": {},
   "outputs": [
    {
     "name": "stdout",
     "output_type": "stream",
     "text": [
      "This is my 2_2 function\n"
     ]
    }
   ],
   "source": [
    "mod2.Fn2_2()"
   ]
  },
  {
   "cell_type": "code",
   "execution_count": 37,
   "metadata": {},
   "outputs": [
    {
     "name": "stdout",
     "output_type": "stream",
     "text": [
      "This is my 3_1 function\n"
     ]
    }
   ],
   "source": [
    "mod3.Fn3_1()"
   ]
  },
  {
   "cell_type": "code",
   "execution_count": 39,
   "metadata": {},
   "outputs": [],
   "source": [
    "os.chdir('D:\\\\Python Programs\\\\Python_Fast_Track\\\\Python_Basic')"
   ]
  },
  {
   "cell_type": "code",
   "execution_count": 40,
   "metadata": {},
   "outputs": [
    {
     "data": {
      "text/plain": [
       "'D:\\\\Python Programs\\\\Python_Fast_Track\\\\Python_Basic'"
      ]
     },
     "execution_count": 40,
     "metadata": {},
     "output_type": "execute_result"
    }
   ],
   "source": [
    "pwd()"
   ]
  },
  {
   "cell_type": "markdown",
   "metadata": {},
   "source": [
    "### Exception Handling"
   ]
  },
  {
   "cell_type": "code",
   "execution_count": 41,
   "metadata": {},
   "outputs": [],
   "source": [
    "def test(a,b):\n",
    "    return a/b "
   ]
  },
  {
   "cell_type": "code",
   "execution_count": 42,
   "metadata": {},
   "outputs": [],
   "source": [
    "try:\n",
    "    ## Code block where exception can occur\n",
    "    test(5,0)\n",
    "except:\n",
    "    pass"
   ]
  },
  {
   "cell_type": "code",
   "execution_count": 43,
   "metadata": {},
   "outputs": [
    {
     "name": "stdout",
     "output_type": "stream",
     "text": [
      "unsupported operand type(s) for +: 'int' and 'str'\n"
     ]
    }
   ],
   "source": [
    "try:\n",
    "    a = 1        # a = b\n",
    "    b = \"s\"\n",
    "    c = a + b       \n",
    "except NameError as e1:\n",
    "    print(e1)\n",
    "except TypeError as t:\n",
    "    print(t)\n",
    "except Exception as e:\n",
    "    print(e)"
   ]
  },
  {
   "cell_type": "code",
   "execution_count": 44,
   "metadata": {},
   "outputs": [
    {
     "ename": "FileNotFoundError",
     "evalue": "[Errno 2] No such file or directory: 'ght.txt'",
     "output_type": "error",
     "traceback": [
      "\u001b[1;31m---------------------------------------------------------------------------\u001b[0m",
      "\u001b[1;31mFileNotFoundError\u001b[0m                         Traceback (most recent call last)",
      "\u001b[1;32md:\\Python Programs\\Python_Fast_Track\\Python_Basic\\4.ipynb Cell 90\u001b[0m in \u001b[0;36m<module>\u001b[1;34m\u001b[0m\n\u001b[1;32m----> <a href='vscode-notebook-cell:/d%3A/Python%20Programs/Python_Fast_Track/Python_Basic/4.ipynb#Y154sZmlsZQ%3D%3D?line=0'>1</a>\u001b[0m a \u001b[39m=\u001b[39m \u001b[39mopen\u001b[39;49m(\u001b[39m\"\u001b[39;49m\u001b[39mght.txt\u001b[39;49m\u001b[39m\"\u001b[39;49m,\u001b[39m'\u001b[39;49m\u001b[39mr\u001b[39;49m\u001b[39m'\u001b[39;49m)\n",
      "\u001b[1;31mFileNotFoundError\u001b[0m: [Errno 2] No such file or directory: 'ght.txt'"
     ]
    }
   ],
   "source": [
    "a = open(\"ght.txt\",'r')"
   ]
  },
  {
   "cell_type": "code",
   "execution_count": 45,
   "metadata": {},
   "outputs": [
    {
     "name": "stdout",
     "output_type": "stream",
     "text": [
      "This is some issue with my code:  [Errno 2] No such file or directory: 'hgt.txt'\n"
     ]
    }
   ],
   "source": [
    "try:\n",
    "    a = open(\"hgt.txt\",'r')\n",
    "except IOError as e:\n",
    "    print(\"This is some issue with my code: \",e)"
   ]
  },
  {
   "cell_type": "code",
   "execution_count": 46,
   "metadata": {},
   "outputs": [
    {
     "name": "stdout",
     "output_type": "stream",
     "text": [
      "This is some issue with my code:  division by zero\n"
     ]
    }
   ],
   "source": [
    "try:\n",
    "    a = 5/0\n",
    "except ArithmeticError as e:\n",
    "    print(\"This is some issue with my code: \",e)"
   ]
  },
  {
   "cell_type": "code",
   "execution_count": 47,
   "metadata": {},
   "outputs": [
    {
     "name": "stdout",
     "output_type": "stream",
     "text": [
      "This will execute once try will execute with success\n"
     ]
    }
   ],
   "source": [
    "try:\n",
    "    a = 5/4\n",
    "except ArithmeticError as e:\n",
    "    print(\"This is some issue with my code: \",e)\n",
    "else:\n",
    "    print(\"This will execute once try will execute with success\")"
   ]
  },
  {
   "cell_type": "code",
   "execution_count": 48,
   "metadata": {},
   "outputs": [
    {
     "name": "stdout",
     "output_type": "stream",
     "text": [
      "This will execute once try will execute with success\n",
      "This is as issue with internal try block\n"
     ]
    }
   ],
   "source": [
    "try:\n",
    "    a = int(input(\"Enter a first number:\"))\n",
    "    b = int(input(\"Enter a second number:\"))\n",
    "    c = a/b\n",
    "except ArithmeticError as e:\n",
    "    print(\"This is some issue with my code: \",e)\n",
    "else:\n",
    "    print(\"This will execute once try will execute with success\")\n",
    "    try:\n",
    "        f = open(\"ght.txt\",'r')\n",
    "    except:\n",
    "        print(\"This is as issue with internal try block\")"
   ]
  },
  {
   "cell_type": "code",
   "execution_count": 49,
   "metadata": {},
   "outputs": [
    {
     "name": "stdout",
     "output_type": "stream",
     "text": [
      "Please provide the number greater than zero\n"
     ]
    }
   ],
   "source": [
    "try:\n",
    "    a = int(input(\"Enter the number 1 \"))\n",
    "    b = int(input(\"Enter the number 2 \"))\n",
    "    c = a/b \n",
    "    d = a*b \n",
    "    e = a+b \n",
    "except ZeroDivisionError:\n",
    "    print(\"Please provide the number greater than zero\")\n",
    "except Exception as e:\n",
    "    print(e)\n",
    "else:\n",
    "    print(c)\n",
    "    print(d)\n",
    "    print(e)"
   ]
  },
  {
   "cell_type": "code",
   "execution_count": 51,
   "metadata": {},
   "outputs": [
    {
     "ename": "IndexError",
     "evalue": "list index out of range",
     "output_type": "error",
     "traceback": [
      "\u001b[1;31m---------------------------------------------------------------------------\u001b[0m",
      "\u001b[1;31mIndexError\u001b[0m                                Traceback (most recent call last)",
      "\u001b[1;32md:\\Python Programs\\Python_Fast_Track\\Python_Basic\\4.ipynb Cell 96\u001b[0m in \u001b[0;36m<module>\u001b[1;34m\u001b[0m\n\u001b[0;32m      <a href='vscode-notebook-cell:/d%3A/Python%20Programs/Python_Fast_Track/Python_Basic/4.ipynb#Y163sZmlsZQ%3D%3D?line=0'>1</a>\u001b[0m l \u001b[39m=\u001b[39m [\u001b[39m4\u001b[39m,\u001b[39m5\u001b[39m,\u001b[39m6\u001b[39m,\u001b[39m7\u001b[39m,\u001b[39m8\u001b[39m,\u001b[39m9\u001b[39m,\u001b[39m13\u001b[39m,\u001b[39m45\u001b[39m]\n\u001b[1;32m----> <a href='vscode-notebook-cell:/d%3A/Python%20Programs/Python_Fast_Track/Python_Basic/4.ipynb#Y163sZmlsZQ%3D%3D?line=1'>2</a>\u001b[0m \u001b[39mprint\u001b[39m(l[\u001b[39m100\u001b[39;49m])\n",
      "\u001b[1;31mIndexError\u001b[0m: list index out of range"
     ]
    }
   ],
   "source": [
    "l = [4,5,6,7,8,9,13,45]\n",
    "print(l[100])"
   ]
  },
  {
   "cell_type": "code",
   "execution_count": 52,
   "metadata": {},
   "outputs": [
    {
     "ename": "TypeError",
     "evalue": "'tuple' object does not support item assignment",
     "output_type": "error",
     "traceback": [
      "\u001b[1;31m---------------------------------------------------------------------------\u001b[0m",
      "\u001b[1;31mTypeError\u001b[0m                                 Traceback (most recent call last)",
      "\u001b[1;32md:\\Python Programs\\Python_Fast_Track\\Python_Basic\\4.ipynb Cell 97\u001b[0m in \u001b[0;36m<module>\u001b[1;34m\u001b[0m\n\u001b[0;32m      <a href='vscode-notebook-cell:/d%3A/Python%20Programs/Python_Fast_Track/Python_Basic/4.ipynb#Y164sZmlsZQ%3D%3D?line=0'>1</a>\u001b[0m t \u001b[39m=\u001b[39m (\u001b[39m6\u001b[39m,\u001b[39m7\u001b[39m,\u001b[39m2\u001b[39m,\u001b[39m3\u001b[39m,\u001b[39m4\u001b[39m,\u001b[39m1\u001b[39m,\u001b[39m9\u001b[39m,\u001b[39m8\u001b[39m)\n\u001b[1;32m----> <a href='vscode-notebook-cell:/d%3A/Python%20Programs/Python_Fast_Track/Python_Basic/4.ipynb#Y164sZmlsZQ%3D%3D?line=1'>2</a>\u001b[0m t[\u001b[39m0\u001b[39m] \u001b[39m=\u001b[39m \u001b[39m\"\u001b[39m\u001b[39mRushi\u001b[39m\u001b[39m\"\u001b[39m\n\u001b[0;32m      <a href='vscode-notebook-cell:/d%3A/Python%20Programs/Python_Fast_Track/Python_Basic/4.ipynb#Y164sZmlsZQ%3D%3D?line=2'>3</a>\u001b[0m \u001b[39mprint\u001b[39m(t)\n",
      "\u001b[1;31mTypeError\u001b[0m: 'tuple' object does not support item assignment"
     ]
    }
   ],
   "source": [
    "t = (6,7,2,3,4,1,9,8)\n",
    "t[0] = \"Rushi\"\n",
    "print(t)"
   ]
  },
  {
   "cell_type": "code",
   "execution_count": 53,
   "metadata": {},
   "outputs": [
    {
     "name": "stdout",
     "output_type": "stream",
     "text": [
      "There is an issue with my code: list index out of range\n",
      "Tuple is (6, 7, 2, 3, 4, 1, 9, 8)\n",
      "There is an issue with my code: 'tuple' object does not support item assignment\n"
     ]
    }
   ],
   "source": [
    "try:\n",
    "    l = [4,5,6,7,8,9,13,45]\n",
    "    l[100]\n",
    "except IndexError as e:\n",
    "    print(\"There is an issue with my code:\",e)\n",
    "    t = (6,7,2,3,4,1,9,8)\n",
    "    print(\"Tuple is\",t)\n",
    "    try:\n",
    "        t[0] = \"Rushi\"\n",
    "    except TypeError as t:\n",
    "        print(\"There is an issue with my code:\",t)\n",
    "else:\n",
    "    print(\"There is no issue with my code\")\n"
   ]
  },
  {
   "cell_type": "code",
   "execution_count": 54,
   "metadata": {},
   "outputs": [
    {
     "name": "stdout",
     "output_type": "stream",
     "text": [
      "Please provide the number greater than zero\n",
      "The execution is done\n"
     ]
    }
   ],
   "source": [
    "try:\n",
    "    a = int(input(\"Enter the number 1 \"))\n",
    "    b = int(input(\"Enter the number 2 \"))\n",
    "    c = a/b \n",
    "except ZeroDivisionError:\n",
    "    print(\"Please provide the number greater than zero\")\n",
    "except Exception as e:\n",
    "    print(e)\n",
    "else:\n",
    "    print(c)\n",
    "finally:\n",
    "    print(\"The execution is done\")"
   ]
  },
  {
   "cell_type": "code",
   "execution_count": 55,
   "metadata": {},
   "outputs": [
    {
     "name": "stdout",
     "output_type": "stream",
     "text": [
      "Else will execute if try will my code\n",
      "Finally i will execute in any case\n",
      "This is some issue with my code:  list index out of range\n"
     ]
    }
   ],
   "source": [
    "try:\n",
    "    f = open('test.txt','r')\n",
    "except IOError as e:\n",
    "    print(\"This is some issue with my code: \",e)\n",
    "else:\n",
    "    print(\"Else will execute if try will my code\")\n",
    "finally:\n",
    "    print(\"Finally i will execute in any case\")\n",
    "    l =[1,2,3,4,5,6]\n",
    "    try:\n",
    "        print(l[10])\n",
    "    except IndexError as i:\n",
    "        print(\"This is some issue with my code: \",i)\n"
   ]
  },
  {
   "cell_type": "code",
   "execution_count": 56,
   "metadata": {},
   "outputs": [
    {
     "name": "stdout",
     "output_type": "stream",
     "text": [
      "This is my Arithmeticerror msg: division by zero\n",
      "Close this issue\n",
      "Person has entered a correct value\n",
      "Close this issue\n"
     ]
    }
   ],
   "source": [
    "def askforint():\n",
    "    while True:\n",
    "        try:\n",
    "            a = int(input(\"Enter a integet value: \"))\n",
    "            c = 8/a\n",
    "        except FileNotFoundError as e:\n",
    "            print(\"This is my FNFerror msg:\",e)\n",
    "            continue #break\n",
    "        except IOError as e:\n",
    "            print(\"This is my IOerror msg:\",e)\n",
    "            continue #break\n",
    "        except ValueError as e:\n",
    "            print(\"This is my Valueerror msg:\",e)\n",
    "            continue #break\n",
    "        except ArithmeticError as e:\n",
    "            print(\"This is my Arithmeticerror msg:\",e)\n",
    "            continue #break \n",
    "        except ZeroDivisionError as e:\n",
    "            print(\"This is my ZeroDivisionerror msg:\",e)\n",
    "            continue #break\n",
    "        except Exception as e:\n",
    "            print(\"This is my Parent class error msg:\",e)\n",
    "            continue #break\n",
    "        else:\n",
    "            print(\"Person has entered a correct value\")\n",
    "            break\n",
    "        finally:\n",
    "            print(\"Close this issue\")\n",
    "\n",
    "askforint()"
   ]
  },
  {
   "cell_type": "code",
   "execution_count": 43,
   "metadata": {},
   "outputs": [
    {
     "name": "stdout",
     "output_type": "stream",
     "text": [
      "This is my Arithmeticerror msg: division by zero\n",
      "Close this issue\n"
     ]
    }
   ],
   "source": [
    "def askforint():\n",
    "    while True:\n",
    "        try:\n",
    "            a = int(input(\"Enter a integet value: \"))\n",
    "            c = 8/a\n",
    "        except FileNotFoundError as e:\n",
    "            print(\"This is my FNFerror msg:\",e)\n",
    "            break\n",
    "        except IOError as e:\n",
    "            print(\"This is my IOerror msg:\",e)\n",
    "            break\n",
    "        except ValueError as e:\n",
    "            print(\"This is my Valueerror msg:\",e)\n",
    "            break\n",
    "        except ArithmeticError as e:\n",
    "            print(\"This is my Arithmeticerror msg:\",e)\n",
    "            break \n",
    "        except ZeroDivisionError as e:\n",
    "            print(\"This is my ZeroDivisionerror msg:\",e)\n",
    "            break\n",
    "        except Exception as e:\n",
    "            print(\"This is my Parent class error msg:\",e)\n",
    "            break\n",
    "        else:\n",
    "            print(\"Person has entered a correct value\")\n",
    "            break\n",
    "        finally:\n",
    "            print(\"Close this issue\")\n",
    "\n",
    "askforint()"
   ]
  },
  {
   "cell_type": "markdown",
   "metadata": {},
   "source": [
    "21/5/2022"
   ]
  },
  {
   "cell_type": "code",
   "execution_count": 57,
   "metadata": {},
   "outputs": [],
   "source": [
    "def create_your_exception(a):\n",
    "    if a < 6:\n",
    "        print(\"Input is ok\")\n",
    "    else:\n",
    "        raise Exception(\"Eroor is: \",a)\n",
    "    return a "
   ]
  },
  {
   "cell_type": "code",
   "execution_count": 58,
   "metadata": {},
   "outputs": [
    {
     "name": "stdout",
     "output_type": "stream",
     "text": [
      "Input is ok\n"
     ]
    }
   ],
   "source": [
    "try:\n",
    "    create_your_exception(5)\n",
    "except Exception as e:\n",
    "    print(e)"
   ]
  },
  {
   "cell_type": "code",
   "execution_count": 59,
   "metadata": {},
   "outputs": [
    {
     "name": "stdout",
     "output_type": "stream",
     "text": [
      "('Eroor is: ', 18)\n"
     ]
    }
   ],
   "source": [
    "try:\n",
    "    create_your_exception(18)\n",
    "except Exception as e:\n",
    "    print(e)"
   ]
  },
  {
   "cell_type": "code",
   "execution_count": 65,
   "metadata": {},
   "outputs": [],
   "source": [
    "os.chdir('D:\\\\Python Programs\\\\Python_Fast_Track\\\\Python_Basic')"
   ]
  },
  {
   "cell_type": "code",
   "execution_count": 66,
   "metadata": {},
   "outputs": [],
   "source": [
    "os.chdir(os.getcwd() + \"/\" + \"Logging\")"
   ]
  },
  {
   "cell_type": "code",
   "execution_count": 67,
   "metadata": {},
   "outputs": [
    {
     "data": {
      "text/plain": [
       "'D:\\\\Python Programs\\\\Python_Fast_Track\\\\Python_Basic\\\\Logging'"
      ]
     },
     "execution_count": 67,
     "metadata": {},
     "output_type": "execute_result"
    }
   ],
   "source": [
    "pwd()"
   ]
  },
  {
   "cell_type": "code",
   "execution_count": 68,
   "metadata": {},
   "outputs": [],
   "source": [
    "import logging as lg\n",
    "lg.basicConfig(filename='even.log',level=lg.INFO,format='%(asctime)-%(message)')\n",
    "\n",
    "def even(min,max):\n",
    "    try:\n",
    "        min = int(input(\"Enter the start value: \"))\n",
    "        max = int(input(\"Enter the end value: \"))\n",
    "    except Exception as e:\n",
    "        lg.error(e)\n",
    "    else:\n",
    "        for i in range(min,max+1):\n",
    "            if i%2==0:\n",
    "                print(f'{i} is a even number')\n",
    "            else:\n",
    "                print(f'{i} is a odd number')\n",
    "    finally:\n",
    "        print(\"Code Execute\")"
   ]
  },
  {
   "cell_type": "code",
   "execution_count": 69,
   "metadata": {},
   "outputs": [
    {
     "name": "stdout",
     "output_type": "stream",
     "text": [
      "7 is a odd number\n",
      "8 is a even number\n",
      "Code Execute\n"
     ]
    }
   ],
   "source": [
    "even(5,6)"
   ]
  },
  {
   "cell_type": "markdown",
   "metadata": {},
   "source": [
    "## OOPS\n",
    "### Class \n",
    "31/5/2022"
   ]
  },
  {
   "cell_type": "code",
   "execution_count": 70,
   "metadata": {},
   "outputs": [],
   "source": [
    "class car:\n",
    "    pass"
   ]
  },
  {
   "cell_type": "code",
   "execution_count": 71,
   "metadata": {},
   "outputs": [],
   "source": [
    "audiq7 = car()"
   ]
  },
  {
   "cell_type": "code",
   "execution_count": 72,
   "metadata": {},
   "outputs": [
    {
     "data": {
      "text/plain": [
       "['__class__',\n",
       " '__delattr__',\n",
       " '__dict__',\n",
       " '__dir__',\n",
       " '__doc__',\n",
       " '__eq__',\n",
       " '__format__',\n",
       " '__ge__',\n",
       " '__getattribute__',\n",
       " '__gt__',\n",
       " '__hash__',\n",
       " '__init__',\n",
       " '__init_subclass__',\n",
       " '__le__',\n",
       " '__lt__',\n",
       " '__module__',\n",
       " '__ne__',\n",
       " '__new__',\n",
       " '__reduce__',\n",
       " '__reduce_ex__',\n",
       " '__repr__',\n",
       " '__setattr__',\n",
       " '__sizeof__',\n",
       " '__str__',\n",
       " '__subclasshook__',\n",
       " '__weakref__']"
      ]
     },
     "execution_count": 72,
     "metadata": {},
     "output_type": "execute_result"
    }
   ],
   "source": [
    "dir(audiq7)"
   ]
  },
  {
   "cell_type": "code",
   "execution_count": 73,
   "metadata": {},
   "outputs": [],
   "source": [
    "audiq7.milege = 10\n",
    "audiq7.year = 2020\n",
    "audiq7.make = 345\n",
    "audiq7.model = \"Arts\""
   ]
  },
  {
   "cell_type": "code",
   "execution_count": 74,
   "metadata": {},
   "outputs": [
    {
     "data": {
      "text/plain": [
       "'Arts'"
      ]
     },
     "execution_count": 74,
     "metadata": {},
     "output_type": "execute_result"
    }
   ],
   "source": [
    "audiq7.model"
   ]
  },
  {
   "cell_type": "code",
   "execution_count": 75,
   "metadata": {},
   "outputs": [
    {
     "data": {
      "text/plain": [
       "2020"
      ]
     },
     "execution_count": 75,
     "metadata": {},
     "output_type": "execute_result"
    }
   ],
   "source": [
    "audiq7.year"
   ]
  },
  {
   "cell_type": "code",
   "execution_count": 76,
   "metadata": {},
   "outputs": [],
   "source": [
    "nano = car()"
   ]
  },
  {
   "cell_type": "code",
   "execution_count": 77,
   "metadata": {},
   "outputs": [],
   "source": [
    "nano.milege = 20\n",
    "nano.year = 2020\n",
    "nano.make = 234\n",
    "nano.model = \"UIgsd\"\n",
    "nano.engine = 6768668"
   ]
  },
  {
   "cell_type": "code",
   "execution_count": 78,
   "metadata": {},
   "outputs": [
    {
     "data": {
      "text/plain": [
       "'UIgsd'"
      ]
     },
     "execution_count": 78,
     "metadata": {},
     "output_type": "execute_result"
    }
   ],
   "source": [
    "nano.model"
   ]
  },
  {
   "cell_type": "code",
   "execution_count": 79,
   "metadata": {},
   "outputs": [
    {
     "data": {
      "text/plain": [
       "6768668"
      ]
     },
     "execution_count": 79,
     "metadata": {},
     "output_type": "execute_result"
    }
   ],
   "source": [
    "nano.engine"
   ]
  },
  {
   "cell_type": "code",
   "execution_count": 80,
   "metadata": {},
   "outputs": [
    {
     "name": "stdout",
     "output_type": "stream",
     "text": [
      "20 10\n"
     ]
    }
   ],
   "source": [
    "print(nano.milege,audiq7.milege)"
   ]
  },
  {
   "cell_type": "code",
   "execution_count": 81,
   "metadata": {},
   "outputs": [
    {
     "data": {
      "text/plain": [
       "['__class__',\n",
       " '__delattr__',\n",
       " '__dict__',\n",
       " '__dir__',\n",
       " '__doc__',\n",
       " '__eq__',\n",
       " '__format__',\n",
       " '__ge__',\n",
       " '__getattribute__',\n",
       " '__gt__',\n",
       " '__hash__',\n",
       " '__init__',\n",
       " '__init_subclass__',\n",
       " '__le__',\n",
       " '__lt__',\n",
       " '__module__',\n",
       " '__ne__',\n",
       " '__new__',\n",
       " '__reduce__',\n",
       " '__reduce_ex__',\n",
       " '__repr__',\n",
       " '__setattr__',\n",
       " '__sizeof__',\n",
       " '__str__',\n",
       " '__subclasshook__',\n",
       " '__weakref__',\n",
       " 'engine',\n",
       " 'make',\n",
       " 'milege',\n",
       " 'model',\n",
       " 'year']"
      ]
     },
     "execution_count": 81,
     "metadata": {},
     "output_type": "execute_result"
    }
   ],
   "source": [
    "dir(nano)"
   ]
  },
  {
   "cell_type": "code",
   "execution_count": 82,
   "metadata": {},
   "outputs": [],
   "source": [
    "class car:\n",
    "    def __init__(self,milege,year,make,model):\n",
    "        self.milege = milege\n",
    "        self.year = year\n",
    "        self.make = make\n",
    "        self.model = model "
   ]
  },
  {
   "cell_type": "code",
   "execution_count": 83,
   "metadata": {},
   "outputs": [],
   "source": [
    "nano1 = car(20,2020,34566,\"ujgydg\")\n",
    "audiq71 = car(10,2020,567,\"hbkj\")"
   ]
  },
  {
   "cell_type": "code",
   "execution_count": 84,
   "metadata": {},
   "outputs": [
    {
     "data": {
      "text/plain": [
       "20"
      ]
     },
     "execution_count": 84,
     "metadata": {},
     "output_type": "execute_result"
    }
   ],
   "source": [
    "nano1.milege"
   ]
  },
  {
   "cell_type": "code",
   "execution_count": 85,
   "metadata": {},
   "outputs": [],
   "source": [
    "class car:\n",
    "    def __init__(a,m,y,ma,mo):\n",
    "        a.milege = m\n",
    "        a.year = y\n",
    "        a.make = ma\n",
    "        a.model = mo\n",
    "    def age(b,current_year):\n",
    "        return current_year - b.year \n",
    "\n",
    "    def milege1(self):\n",
    "        print(\"Milege of car is :\",self.milege)\n",
    "        #return self.milege\n",
    "\n",
    "    def __str__(c):\n",
    "        return \"This is my car class i have created \""
   ]
  },
  {
   "cell_type": "code",
   "execution_count": 86,
   "metadata": {},
   "outputs": [],
   "source": [
    "nano1 = car(20,2020,34566,\"ujgydg\")\n",
    "audiq71 = car(10,2020,567,\"hbkj\")"
   ]
  },
  {
   "cell_type": "code",
   "execution_count": 87,
   "metadata": {},
   "outputs": [
    {
     "data": {
      "text/plain": [
       "'ujgydg'"
      ]
     },
     "execution_count": 87,
     "metadata": {},
     "output_type": "execute_result"
    }
   ],
   "source": [
    "nano1.model"
   ]
  },
  {
   "cell_type": "code",
   "execution_count": 88,
   "metadata": {},
   "outputs": [
    {
     "name": "stdout",
     "output_type": "stream",
     "text": [
      "Milege of car is : 20\n"
     ]
    }
   ],
   "source": [
    "nano1.milege1() "
   ]
  },
  {
   "cell_type": "code",
   "execution_count": 89,
   "metadata": {},
   "outputs": [
    {
     "data": {
      "text/plain": [
       "2"
      ]
     },
     "execution_count": 89,
     "metadata": {},
     "output_type": "execute_result"
    }
   ],
   "source": [
    "nano1.age(2022)"
   ]
  },
  {
   "cell_type": "code",
   "execution_count": 90,
   "metadata": {},
   "outputs": [
    {
     "data": {
      "text/plain": [
       "<__main__.car at 0x1feca18f790>"
      ]
     },
     "execution_count": 90,
     "metadata": {},
     "output_type": "execute_result"
    }
   ],
   "source": [
    "audiq71"
   ]
  },
  {
   "cell_type": "code",
   "execution_count": 91,
   "metadata": {},
   "outputs": [
    {
     "name": "stdout",
     "output_type": "stream",
     "text": [
      "This is my car class i have created \n"
     ]
    }
   ],
   "source": [
    "print(audiq71)"
   ]
  },
  {
   "cell_type": "code",
   "execution_count": 92,
   "metadata": {},
   "outputs": [
    {
     "name": "stdout",
     "output_type": "stream",
     "text": [
      "Kudrjavka is a Laika born in 1954.\n",
      "german is a coco born in 565.\n"
     ]
    }
   ],
   "source": [
    "class Dog:\n",
    "    def __init__(self, name, year_of_birth, breed):\n",
    "        self._name = name                           # name is Protected \n",
    "        self._year_of_birth = year_of_birth         # yob is Protected\n",
    "        self._breed = breed                         # breed is Protected\n",
    "\n",
    "    def __str__(self):\n",
    "        return \"%s is a %s born in %d.\" % (self._name, self._breed, self._year_of_birth)\n",
    "\n",
    "kudrjavka = Dog(\"Kudrjavka\", 1954, \"Laika\")\n",
    "dog1 = Dog(\"german\" ,565 , \"coco\")\n",
    "\n",
    "print(kudrjavka)\n",
    "print(dog1)"
   ]
  },
  {
   "cell_type": "code",
   "execution_count": 93,
   "metadata": {},
   "outputs": [
    {
     "name": "stdout",
     "output_type": "stream",
     "text": [
      "RK  454   iNeuron  xyz\n"
     ]
    }
   ],
   "source": [
    "class student:\n",
    "    \n",
    "    def __init__(self,name, student_id,school_name, address):\n",
    "        self.name = name \n",
    "        self.student_id = student_id\n",
    "        self.school_name = school_name\n",
    "        self.address = address\n",
    "        \n",
    "    def __str__(self):\n",
    "        return str(self.name) + \"  \" + str(self.student_id) + \"   \" + str(self.school_name) + \"  \"+ str( self.address)\n",
    "\n",
    "stu = student(\"RK\" , 454 , \"iNeuron\" , \"xyz\") \n",
    "print(stu)"
   ]
  },
  {
   "cell_type": "code",
   "execution_count": 94,
   "metadata": {},
   "outputs": [
    {
     "name": "stdout",
     "output_type": "stream",
     "text": [
      "the age is not within the range, you can not apply for exams. \n"
     ]
    }
   ],
   "source": [
    "class Error(Exception):\n",
    "    pass \n",
    "class dobException(Error):\n",
    "    pass \n",
    "class customgeneric(Error):\n",
    "    pass \n",
    "\n",
    "year = int(input(\"Enter the year of Birth\")) # 1988\n",
    "age = 2022 - year\n",
    "try:\n",
    "    if age<=30 & age > 20:\n",
    "        print(\"The age is within the range,You can apply for exams.\")\n",
    "    else:\n",
    "        raise dobException\n",
    "except dobException:\n",
    "    print(\"the age is not within the range, you can not apply for exams. \")"
   ]
  },
  {
   "cell_type": "code",
   "execution_count": 95,
   "metadata": {},
   "outputs": [],
   "source": [
    "class student:\n",
    "\n",
    "    def __init__(self,name,rollno,joining_date,current_topic):\n",
    "        self.name = name\n",
    "        self.rollno = rollno\n",
    "        self.joining_date = joining_date\n",
    "        self.current_topic = current_topic\n",
    "\n",
    "    def name_Parsing(self):\n",
    "        if type(self.name) == list:\n",
    "            for i in self.name:\n",
    "                print(\"Name of the student \",i)\n",
    "        else:\n",
    "            print(\"Provided name is not in a form of list\")\n",
    "\n",
    "    def crt_topic(self):\n",
    "        print(\"Current topic discussed in my class is \",self.current_topic)\n",
    "\n",
    "    def str_rollno(self):\n",
    "\n",
    "        try:\n",
    "            if type(self.rollno) == str:\n",
    "                print(\"Do Nothing\")\n",
    "            else:\n",
    "                return str(self.rollno)\n",
    "        except Exception as e:\n",
    "            print(\"This is my Error message\", e)\n",
    "\n",
    "    def duration(self,current_date):\n",
    "        print(\"Duration of student in my class is \",current_date - self.joining_date)\n",
    "\n",
    "    def __str__(self):\n",
    "        return \"This is student class where they can try to input there own data and they can try to fetch it\""
   ]
  },
  {
   "cell_type": "code",
   "execution_count": 96,
   "metadata": {},
   "outputs": [],
   "source": [
    "srini = student(\"srini\",\"####\",2021,\"OOPS\")"
   ]
  },
  {
   "cell_type": "code",
   "execution_count": 97,
   "metadata": {},
   "outputs": [
    {
     "name": "stdout",
     "output_type": "stream",
     "text": [
      "Duration of student in my class is  1\n"
     ]
    }
   ],
   "source": [
    "srini.duration(2022)"
   ]
  },
  {
   "cell_type": "code",
   "execution_count": 98,
   "metadata": {},
   "outputs": [
    {
     "name": "stdout",
     "output_type": "stream",
     "text": [
      "Do Nothing\n"
     ]
    }
   ],
   "source": [
    "srini.str_rollno()"
   ]
  },
  {
   "cell_type": "code",
   "execution_count": 99,
   "metadata": {},
   "outputs": [
    {
     "name": "stdout",
     "output_type": "stream",
     "text": [
      "This is student class where they can try to input there own data and they can try to fetch it\n"
     ]
    }
   ],
   "source": [
    "print(srini)"
   ]
  },
  {
   "cell_type": "code",
   "execution_count": 100,
   "metadata": {},
   "outputs": [],
   "source": [
    "marur = student(\"marur\",\"fgfsf\",657687,66)"
   ]
  },
  {
   "cell_type": "code",
   "execution_count": 101,
   "metadata": {},
   "outputs": [],
   "source": [
    "pawan = student([\"Naveen\",\"jay\",\"Himanshu\",\"Ronak\"],[234,466,763,8789,876,97],2021,\"OOPS\")"
   ]
  },
  {
   "cell_type": "code",
   "execution_count": 102,
   "metadata": {},
   "outputs": [
    {
     "name": "stdout",
     "output_type": "stream",
     "text": [
      "Name of the student  Naveen\n",
      "Name of the student  jay\n",
      "Name of the student  Himanshu\n",
      "Name of the student  Ronak\n"
     ]
    }
   ],
   "source": [
    "pawan.name_Parsing()"
   ]
  },
  {
   "cell_type": "code",
   "execution_count": 103,
   "metadata": {},
   "outputs": [
    {
     "data": {
      "text/plain": [
       "'D:\\\\Python Programs\\\\Python_Fast_Track\\\\Python_Basic\\\\Logging'"
      ]
     },
     "execution_count": 103,
     "metadata": {},
     "output_type": "execute_result"
    }
   ],
   "source": [
    "pwd"
   ]
  },
  {
   "cell_type": "code",
   "execution_count": 104,
   "metadata": {},
   "outputs": [
    {
     "name": "stdout",
     "output_type": "stream",
     "text": [
      "This is text file\n"
     ]
    }
   ],
   "source": [
    "import logging as lg\n",
    "lg.basicConfig(filename=\"OOPS.log\",level=lg.ERROR)\n",
    "class data:\n",
    "    def __init__(self,filename,filetype,date,size):\n",
    "        self.filename = filename\n",
    "        self.filetype = filetype\n",
    "        self.date = date\n",
    "        self.size = size\n",
    "\n",
    "    def file_open(self):\n",
    "        try:\n",
    "            f = open(self.filename,'x')\n",
    "            f.write(\"This is text file\")\n",
    "            f.close()\n",
    "        except Exception as e:\n",
    "            self.logging(e)\n",
    "\n",
    "    def file_read(self):\n",
    "        try:\n",
    "            f = open(self.filename,'r')\n",
    "            print(f.read())\n",
    "        except FileNotFoundError as e:\n",
    "            self.logging(e)\n",
    "        except Exception as e:\n",
    "            self.logging(e)\n",
    "\n",
    "\n",
    "    def file_append(self):\n",
    "        try:\n",
    "            f = open(self.filename,'a')\n",
    "            f.write('Hello....This is appended data')\n",
    "            f.close()\n",
    "        except Exception as e:\n",
    "            self.logging(e)\n",
    "\n",
    "    def logging(self,log):\n",
    "        lg.error(log)\n",
    "\n",
    "file1 = data('file1','txt','2022-3-6','2MB')\n",
    "file1.file_open()\n",
    "file1.file_read()\n",
    "file1.file_append()\n"
   ]
  },
  {
   "cell_type": "markdown",
   "metadata": {},
   "source": [
    "## Abstraction\n",
    "5/6/2022"
   ]
  },
  {
   "cell_type": "code",
   "execution_count": 105,
   "metadata": {},
   "outputs": [],
   "source": [
    "class test:\n",
    "    def __init__(self,a,b,c,d):\n",
    "        self.__a = a\n",
    "        self.b = b \n",
    "        self.c = c \n",
    "        self.d = d \n",
    "    def test_custome(self,v):\n",
    "        return v - self.__a \n",
    "\n",
    "    def __str__(self):\n",
    "        return \"This is my test code for abstraction\""
   ]
  },
  {
   "cell_type": "code",
   "execution_count": 106,
   "metadata": {},
   "outputs": [],
   "source": [
    "O = test(4,5,6,7)"
   ]
  },
  {
   "cell_type": "code",
   "execution_count": 107,
   "metadata": {},
   "outputs": [
    {
     "data": {
      "text/plain": [
       "3"
      ]
     },
     "execution_count": 107,
     "metadata": {},
     "output_type": "execute_result"
    }
   ],
   "source": [
    "O.test_custome(7)"
   ]
  },
  {
   "cell_type": "code",
   "execution_count": 108,
   "metadata": {},
   "outputs": [
    {
     "data": {
      "text/plain": [
       "4"
      ]
     },
     "execution_count": 108,
     "metadata": {},
     "output_type": "execute_result"
    }
   ],
   "source": [
    "O._test__a"
   ]
  },
  {
   "cell_type": "markdown",
   "metadata": {},
   "source": [
    "## Inheritance"
   ]
  },
  {
   "cell_type": "code",
   "execution_count": 109,
   "metadata": {},
   "outputs": [
    {
     "data": {
      "text/plain": [
       "6"
      ]
     },
     "execution_count": 109,
     "metadata": {},
     "output_type": "execute_result"
    }
   ],
   "source": [
    "class test1(test):\n",
    "    def __init__(self,j,*args):\n",
    "        super(test1,self).__init__(*args)\n",
    "        self.j = j\n",
    "\n",
    "m = test1(4,5,6,7,8)\n",
    "m.b "
   ]
  },
  {
   "cell_type": "code",
   "execution_count": 110,
   "metadata": {},
   "outputs": [
    {
     "data": {
      "text/plain": [
       "4"
      ]
     },
     "execution_count": 110,
     "metadata": {},
     "output_type": "execute_result"
    }
   ],
   "source": [
    "m.j"
   ]
  },
  {
   "cell_type": "code",
   "execution_count": 111,
   "metadata": {},
   "outputs": [
    {
     "data": {
      "text/plain": [
       "4"
      ]
     },
     "execution_count": 111,
     "metadata": {},
     "output_type": "execute_result"
    }
   ],
   "source": [
    "m.test_custome(9)"
   ]
  },
  {
   "cell_type": "code",
   "execution_count": 112,
   "metadata": {},
   "outputs": [
    {
     "data": {
      "text/plain": [
       "7"
      ]
     },
     "execution_count": 112,
     "metadata": {},
     "output_type": "execute_result"
    }
   ],
   "source": [
    "m.c "
   ]
  },
  {
   "cell_type": "markdown",
   "metadata": {},
   "source": [
    "### Task\n",
    "1. Create class test and test1\n",
    "2. Inherit test and test1 into test2\n",
    "3. function a in test\n",
    "4. function a in test1\n",
    "5. test2 should inherit function-a from test1 and test both"
   ]
  },
  {
   "cell_type": "code",
   "execution_count": 113,
   "metadata": {},
   "outputs": [
    {
     "name": "stdout",
     "output_type": "stream",
     "text": [
      "This is Test\n",
      "This is Test1\n"
     ]
    }
   ],
   "source": [
    "class Test:\n",
    "    def a(self):\n",
    "        print(\"This is Test\")\n",
    "\n",
    "class Test1:\n",
    "    def a(self):\n",
    "        print(\"This is Test1\")\n",
    "\n",
    "class Test2(Test,Test1):\n",
    "    def e(self):\n",
    "        Test.a(self)\n",
    "        Test1.a(self)\n",
    "\n",
    "t2 = Test2()\n",
    "t2.e()"
   ]
  },
  {
   "cell_type": "code",
   "execution_count": 114,
   "metadata": {},
   "outputs": [
    {
     "name": "stdout",
     "output_type": "stream",
     "text": [
      "the person drives the car\n"
     ]
    }
   ],
   "source": [
    "class Car():\n",
    "    def __init__(self,window,door,engine):\n",
    "        self.window = window\n",
    "        self.door = door\n",
    "        self.engine = engine\n",
    "    def drive(self):\n",
    "        print(\"the person drives the car\")\n",
    "\n",
    "\n",
    "car = Car(5,5,\"Petrol\")\n",
    "car.drive()"
   ]
  },
  {
   "cell_type": "code",
   "execution_count": 115,
   "metadata": {},
   "outputs": [
    {
     "name": "stdout",
     "output_type": "stream",
     "text": [
      "Audi support self driving\n"
     ]
    }
   ],
   "source": [
    "class audi(Car):\n",
    "    def __init__(self,window,door,engine,enableAi):\n",
    "        super().__init__(window,door,engine)\n",
    "        self.enableAi = enableAi\n",
    "    def selfdriving(self):\n",
    "        print(\"Audi support self driving\")\n",
    "\n",
    "audiQ7 = audi(5,5,\"Disel\",True)\n",
    "audiQ7.selfdriving()"
   ]
  },
  {
   "cell_type": "code",
   "execution_count": 116,
   "metadata": {},
   "outputs": [
    {
     "data": {
      "text/plain": [
       "True"
      ]
     },
     "execution_count": 116,
     "metadata": {},
     "output_type": "execute_result"
    }
   ],
   "source": [
    "audiQ7.enableAi"
   ]
  },
  {
   "cell_type": "code",
   "execution_count": 117,
   "metadata": {},
   "outputs": [
    {
     "name": "stdout",
     "output_type": "stream",
     "text": [
      "10 40\n"
     ]
    }
   ],
   "source": [
    "class parent :\n",
    "    \n",
    "    a = 10    # Global Variables\n",
    "    b = 40 \n",
    "    \n",
    "    def __init__(self,parent_a , parent_b):\n",
    "        self.parent_a = parent_a\n",
    "        self.parent_b = parent_b\n",
    "        \n",
    "class child(parent):\n",
    "    def __init__(self, *args):\n",
    "        super(child,self).__init__(*args)\n",
    "\n",
    "    def show(self):\n",
    "        print(self.a,self.b)\n",
    "\n",
    "ch = child(10,50)\n",
    "ch.show()"
   ]
  },
  {
   "cell_type": "markdown",
   "metadata": {},
   "source": [
    "### Single Inheritance"
   ]
  },
  {
   "cell_type": "code",
   "execution_count": 118,
   "metadata": {},
   "outputs": [
    {
     "name": "stdout",
     "output_type": "stream",
     "text": [
      "iNeuron Company was established in 2018\n"
     ]
    }
   ],
   "source": [
    "class Ineuron:\n",
    "    company_website = 'https://ineuron.ai/'\n",
    "    name = 'iNeuron'\n",
    " \n",
    "    def contact_details(self):\n",
    "        print('Contact us at ', self.company_website)\n",
    " \n",
    " \n",
    "class Datascience(Ineuron):\n",
    "    def __init__(self):\n",
    "        self.year_of_establishment= 2018\n",
    " \n",
    "    def est_details(self):\n",
    "        print('{0} Company was established in {1}'\n",
    "              .format(self.name,self.year_of_establishment))\n",
    " \n",
    " \n",
    "ds = Datascience()\n",
    "ds.est_details()"
   ]
  },
  {
   "cell_type": "markdown",
   "metadata": {},
   "source": [
    "### Multiple Inheritance"
   ]
  },
  {
   "cell_type": "code",
   "execution_count": 119,
   "metadata": {},
   "outputs": [
    {
     "name": "stdout",
     "output_type": "stream",
     "text": [
      "multi_task\n",
      "Name: Rushi\n"
     ]
    }
   ],
   "source": [
    "class OS:\n",
    "    multi_task = True\n",
    "    os_name = 'Windows OS'\n",
    "    name = \"Rushi\"\n",
    "\n",
    "class windows(OS, Ineuron):\n",
    "    def __init__(self):\n",
    "        if self.multi_task is True:\n",
    "            print('multi_task')\n",
    "        print('Name: {}'.format(self.name))\n",
    "\n",
    "windows = windows()"
   ]
  },
  {
   "cell_type": "code",
   "execution_count": 120,
   "metadata": {},
   "outputs": [
    {
     "name": "stdout",
     "output_type": "stream",
     "text": [
      "multi_task\n",
      "Name: iNeuron\n"
     ]
    }
   ],
   "source": [
    "class windows(Ineuron,OS): # Give first Priority\n",
    "    def __init__(self):\n",
    "        if self.multi_task is True:\n",
    "            print('multi_task')\n",
    "        print('Name: {}'.format(self.name))\n",
    " \n",
    " \n",
    "windows = windows()"
   ]
  },
  {
   "cell_type": "markdown",
   "metadata": {},
   "source": [
    "### Multilevel Inheritance"
   ]
  },
  {
   "cell_type": "code",
   "execution_count": 121,
   "metadata": {},
   "outputs": [
    {
     "name": "stdout",
     "output_type": "stream",
     "text": [
      "The company iNeuron offers total 12 different types of courses. Most trending course is Data-Science\n"
     ]
    }
   ],
   "source": [
    "class iNeuron:\n",
    "    num_of_courses = 12\n",
    " \n",
    " \n",
    "class Datascience(iNeuron):\n",
    "    course_type = 'Data-Science'\n",
    " \n",
    " \n",
    "class AI(Datascience):\n",
    "    def __init__(self):\n",
    "        self.company = \"iNeuron\"\n",
    "        print('The company {0} offers total {1} different types of courses. Most trending course is {2}'.format(self.company,self.num_of_courses,self.course_type))\n",
    " \n",
    " \n",
    "AI = AI()"
   ]
  },
  {
   "cell_type": "markdown",
   "metadata": {},
   "source": [
    "### Encapsulation"
   ]
  },
  {
   "cell_type": "code",
   "execution_count": 122,
   "metadata": {},
   "outputs": [
    {
     "name": "stdout",
     "output_type": "stream",
     "text": [
      "This is the return from my A class This is the return from my B class Rushi\n",
      "This is the return from my A class This is the return from my B class This is the return from my C class\n"
     ]
    }
   ],
   "source": [
    "class A:\n",
    "    def __init__(self,a,b,c):\n",
    "        self.a = a \n",
    "        self.b = b \n",
    "        self.c = c \n",
    "\n",
    "    def __str__(self):\n",
    "        return \"This is the return from my A class\"\n",
    "\n",
    "class B:\n",
    "    def __init__(self,a,b,c):\n",
    "        self.a = a \n",
    "        self.b = b \n",
    "        self.c = c \n",
    "\n",
    "    def __str__(self):\n",
    "        return \"This is the return from my B class\"\n",
    "\n",
    "class C:\n",
    "    def __init__(self,a,b,c):\n",
    "        self.a = a \n",
    "        self.b = b \n",
    "        self.c = c \n",
    "\n",
    "    def __str__(self):\n",
    "        return \"This is the return from my C class\"\n",
    "\n",
    "class final:\n",
    "    def __init__(self,x,y,z):\n",
    "        self.x = x \n",
    "        self.y = y \n",
    "        self.z = z \n",
    "\n",
    "    def __str__(self):\n",
    "        return str(self.x)+ \" \" +str(self.y)+ \" \" +str(self.z)\n",
    "\n",
    "t = A(4,5,6)\n",
    "t1 = B(3,4,5)\n",
    "t2 = C(5,6,7)\n",
    "f = final(t,t1,\"Rushi\")\n",
    "f1 = final(t,t1,t2)\n",
    "\n",
    "print(f)\n",
    "print(f1)"
   ]
  },
  {
   "cell_type": "markdown",
   "metadata": {},
   "source": [
    "6/6/2022"
   ]
  },
  {
   "cell_type": "code",
   "execution_count": 1,
   "metadata": {},
   "outputs": [
    {
     "name": "stdout",
     "output_type": "stream",
     "text": [
      "Tyres: \n",
      " \tBranch: Pirelli\n",
      " \tBelted-bias: True\n",
      " \tOptimal pressure: 2.0\n",
      "Engine: \n",
      " \tFuel type: Diesel\n",
      " \tNoise level:3\n",
      "Body:\n",
      " \tSize: Medium toyota\n"
     ]
    }
   ],
   "source": [
    "class Tyres:\n",
    "    def __init__(self, branch, belted_bias, opt_pressure):\n",
    "        self.branch = branch\n",
    "        self.belted_bias = belted_bias\n",
    "        self.opt_pressure = opt_pressure\n",
    "        \n",
    "    def __str__(self):\n",
    "        return (\"Tyres: \\n \\tBranch: \" + self.branch +\n",
    "               \"\\n \\tBelted-bias: \" + str(self.belted_bias) + \n",
    "               \"\\n \\tOptimal pressure: \" + str(self.opt_pressure))\n",
    "        \n",
    "class Engine:\n",
    "    def __init__(self, fuel_type, noise_level):\n",
    "        self.fuel_type = fuel_type\n",
    "        self.noise_level = noise_level\n",
    "        \n",
    "    def __str__(self):\n",
    "        return (\"Engine: \\n \\tFuel type: \" + self.fuel_type +\n",
    "                \"\\n \\tNoise level:\" + str(self.noise_level))\n",
    "        \n",
    "class Body:\n",
    "    def __init__(self, size):\n",
    "        self.size = size\n",
    "        \n",
    "    def __str__(self):\n",
    "        return \"Body:\\n \\tSize: \" + self.size\n",
    "        \n",
    "class Car:\n",
    "    def __init__(self,name , tyres, engine, body):\n",
    "        self.name = name \n",
    "        self.tyres = tyres\n",
    "        self.engine = engine\n",
    "        self.body = body\n",
    "        \n",
    "    def __str__(self):\n",
    "        return str(self.tyres) + \"\\n\" + str(self.engine) + \"\\n\" + str(self.body) + \" \" + str(self.name)\n",
    "\n",
    "        \n",
    "t = Tyres('Pirelli', True, 2.0)\n",
    "e = Engine('Diesel', 3)\n",
    "b = Body('Medium')\n",
    "c = Car(\"toyota\",t, e, b)\n",
    "print(c)"
   ]
  },
  {
   "cell_type": "code",
   "execution_count": 3,
   "metadata": {},
   "outputs": [
    {
     "name": "stdout",
     "output_type": "stream",
     "text": [
      "Kudrjavka is a Laika born in 1954.\n",
      "german is a coco born in 565.\n"
     ]
    }
   ],
   "source": [
    "class Dog:\n",
    "    def __init__(self, name, year_of_birth, breed):\n",
    "        self._name = name\n",
    "        self._year_of_birth = year_of_birth\n",
    "        self._breed = breed\n",
    "\n",
    "    def __str__(self):\n",
    "        return \"%s is a %s born in %d.\" % (self._name, self._breed, self._year_of_birth)\n",
    "\n",
    "kudrjavka = Dog(\"Kudrjavka\", 1954, \"Laika\")\n",
    "dog1 = Dog(\"german\" ,565 , \"coco\")\n",
    "dog2= Dog(\"german\" ,565 , \"coco\")\n",
    "\n",
    "\n",
    "print(kudrjavka)\n",
    "print(dog1)"
   ]
  },
  {
   "cell_type": "code",
   "execution_count": 4,
   "metadata": {},
   "outputs": [
    {
     "name": "stdout",
     "output_type": "stream",
     "text": [
      "RK  454   iNeuron  xyz\n"
     ]
    }
   ],
   "source": [
    "class student:\n",
    "    \n",
    "    def __init__(self,name, student_id,school_name, address):\n",
    "        self.name = name \n",
    "        self.student_id = student_id\n",
    "        self.school_name = school_name\n",
    "        self.address = address\n",
    "        \n",
    "        \n",
    "    def __str__(self):\n",
    "        return str(self.name) + \"  \" + str(self.student_id) + \"   \" + str(self.school_name) + \"  \"+ str( self.address)\n",
    "\n",
    "stu = student(\"RK\" , 454 , \"iNeuron\" , \"xyz\") \n",
    "print(stu)"
   ]
  },
  {
   "cell_type": "code",
   "execution_count": 5,
   "metadata": {},
   "outputs": [
    {
     "name": "stdout",
     "output_type": "stream",
     "text": [
      "Kudrjavka is a Laika born in 1954.  45   dog_sch  sdfdsf\n"
     ]
    }
   ],
   "source": [
    "dog = student(kudrjavka , 45 , \"dog_sch\" , \"sdfdsf\")\n",
    "print(dog)"
   ]
  },
  {
   "cell_type": "code",
   "execution_count": 6,
   "metadata": {},
   "outputs": [
    {
     "name": "stdout",
     "output_type": "stream",
     "text": [
      "german is a coco born in 565.  45   dog_sch  sdfdsf\n",
      "<class '__main__.student'>\n"
     ]
    }
   ],
   "source": [
    "dog2 = student(dog2 , 45 , \"dog_sch\" , \"sdfdsf\")\n",
    "print(dog2)\n",
    "print(type(dog2))"
   ]
  },
  {
   "cell_type": "code",
   "execution_count": 7,
   "metadata": {},
   "outputs": [],
   "source": [
    "class BonusDistribution:\n",
    "    \n",
    "    def __init__ (self,employeeId, employeeRating):\n",
    "    \n",
    "        self.empId = employeeId\n",
    "        self.empRating = employeeRating\n",
    "        self.__bonusforRatingA = \"70%\"              #making value private\n",
    "        self.__bonusforRatingB = \"60%\"              #making value private\n",
    "        self.__bonusforRatingC = \"50%\"              #making value private\n",
    "        self.__bonusforRatingD = \"30%\"              #making value private\n",
    "        self.__bonusforRatingForRest = \"No Bonus\"   #making value private\n",
    "        \n",
    "        \n",
    "    def bonusCalculator(self):\n",
    "        \n",
    "        if self.empRating == 'A':\n",
    "            bonus = self.__bonusforRatingA\n",
    "            msg = \"Bonus for this employee is :\"+ bonus\n",
    "            return msg\n",
    "        elif self.empRating == 'B':\n",
    "            bonus = self.__bonusforRatingB\n",
    "            msg = \"Bonus for this employee is :\"+ bonus\n",
    "            return msg\n",
    "        elif self.empRating == 'C':\n",
    "            bonus = self.__bonusforRatingC\n",
    "            msg = \"Bonus for this employee is :\"+ bonus\n",
    "            return msg\n",
    "        elif self.empRating == 'D':\n",
    "            bonus = self.__bonusforRatingD\n",
    "            msg = \"Bonus for this employee is :\"+ bonus\n",
    "            return msg\n",
    "        else:\n",
    "            bonus = self.__bonusforRatingForRest\n",
    "            msg = \"Bonus for this employee is :\"+ bonus\n",
    "            return msg\n",
    "        \n",
    "    def __changevariable(self , value): \n",
    "         self.__bonusforRatingB = value"
   ]
  },
  {
   "cell_type": "code",
   "execution_count": 8,
   "metadata": {},
   "outputs": [],
   "source": [
    "emp1 = BonusDistribution(1232,'B')\n",
    "emp2 = BonusDistribution(1342,'A')\n",
    "emp3 = BonusDistribution(1031,'B')"
   ]
  },
  {
   "cell_type": "code",
   "execution_count": 9,
   "metadata": {},
   "outputs": [
    {
     "data": {
      "text/plain": [
       "'Bonus for this employee is :70%'"
      ]
     },
     "execution_count": 9,
     "metadata": {},
     "output_type": "execute_result"
    }
   ],
   "source": [
    "emp2.bonusCalculator()"
   ]
  },
  {
   "cell_type": "code",
   "execution_count": 10,
   "metadata": {},
   "outputs": [
    {
     "data": {
      "text/plain": [
       "'Bonus for this employee is :60%'"
      ]
     },
     "execution_count": 10,
     "metadata": {},
     "output_type": "execute_result"
    }
   ],
   "source": [
    "emp1.bonusCalculator()"
   ]
  },
  {
   "cell_type": "code",
   "execution_count": 11,
   "metadata": {},
   "outputs": [
    {
     "data": {
      "text/plain": [
       "'Bonus for this employee is :90%'"
      ]
     },
     "execution_count": 11,
     "metadata": {},
     "output_type": "execute_result"
    }
   ],
   "source": [
    "emp1._BonusDistribution__bonusforRatingB = \"90%\"\n",
    "emp1.bonusCalculator()"
   ]
  },
  {
   "cell_type": "code",
   "execution_count": 15,
   "metadata": {},
   "outputs": [
    {
     "data": {
      "text/plain": [
       "'Bonus for this employee is :60%'"
      ]
     },
     "execution_count": 15,
     "metadata": {},
     "output_type": "execute_result"
    }
   ],
   "source": [
    "emp3.bonusCalculator()"
   ]
  },
  {
   "cell_type": "code",
   "execution_count": 16,
   "metadata": {},
   "outputs": [],
   "source": [
    "emp3._BonusDistribution__changevariable(\"67%\")"
   ]
  },
  {
   "cell_type": "code",
   "execution_count": 17,
   "metadata": {},
   "outputs": [
    {
     "data": {
      "text/plain": [
       "'Bonus for this employee is :67%'"
      ]
     },
     "execution_count": 17,
     "metadata": {},
     "output_type": "execute_result"
    }
   ],
   "source": [
    "emp3.bonusCalculator()"
   ]
  },
  {
   "cell_type": "markdown",
   "metadata": {},
   "source": [
    "### Operator Overloading"
   ]
  },
  {
   "cell_type": "code",
   "execution_count": 18,
   "metadata": {},
   "outputs": [
    {
     "data": {
      "text/plain": [
       "21"
      ]
     },
     "execution_count": 18,
     "metadata": {},
     "output_type": "execute_result"
    }
   ],
   "source": [
    "class multiplynumeric():\n",
    "    def __init__(self,a):\n",
    "        self.a = a \n",
    "\n",
    "    def __mul__(self,b):\n",
    "        return self.a + b.a   # *,-,+,/,%\n",
    "\n",
    "mul = multiplynumeric(9)\n",
    "mul1 = multiplynumeric(12)\n",
    "mul * mul1"
   ]
  },
  {
   "cell_type": "markdown",
   "metadata": {},
   "source": [
    "### Polymorphism"
   ]
  },
  {
   "cell_type": "code",
   "execution_count": 20,
   "metadata": {},
   "outputs": [
    {
     "name": "stdout",
     "output_type": "stream",
     "text": [
      "11\n",
      "sudh kumar\n",
      "[3, 4, 5, 6, 7, 8, 4, 5, 6, 7, 89]\n"
     ]
    }
   ],
   "source": [
    "def test(a , b):\n",
    "    return a + b \n",
    "\n",
    "print(test(5,6))\n",
    "print(test(\"sudh \" , \"kumar\"))\n",
    "print(test([3,4,5,6,7,8] , [4,5,6,7,89]))"
   ]
  },
  {
   "cell_type": "code",
   "execution_count": 21,
   "metadata": {},
   "outputs": [
    {
     "name": "stdout",
     "output_type": "stream",
     "text": [
      "This is a msg to iNeuron\n"
     ]
    }
   ],
   "source": [
    "class iNeuron:\n",
    "    def msg(self):\n",
    "        print(\"This is a msg to iNeuron\")\n",
    "\n",
    "class xyz:\n",
    "    def msg(self):\n",
    "        print(\"This is a msg to xyz\")\n",
    "\n",
    "def test(notes):\n",
    "    notes.msg()\n",
    "\n",
    "i = iNeuron()\n",
    "x = xyz()\n",
    "\n",
    "test(i)"
   ]
  },
  {
   "cell_type": "code",
   "execution_count": 22,
   "metadata": {},
   "outputs": [
    {
     "name": "stdout",
     "output_type": "stream",
     "text": [
      "This is a msg to xyz\n"
     ]
    }
   ],
   "source": [
    "test(x)"
   ]
  },
  {
   "cell_type": "code",
   "execution_count": null,
   "metadata": {},
   "outputs": [],
   "source": []
  }
 ],
 "metadata": {
  "interpreter": {
   "hash": "369f2c481f4da34e4445cda3fffd2e751bd1c4d706f27375911949ba6bb62e1c"
  },
  "kernelspec": {
   "display_name": "Python 3.10.0 64-bit",
   "language": "python",
   "name": "python3"
  },
  "language_info": {
   "codemirror_mode": {
    "name": "ipython",
    "version": 3
   },
   "file_extension": ".py",
   "mimetype": "text/x-python",
   "name": "python",
   "nbconvert_exporter": "python",
   "pygments_lexer": "ipython3",
   "version": "3.10.0"
  },
  "orig_nbformat": 4
 },
 "nbformat": 4,
 "nbformat_minor": 2
}
