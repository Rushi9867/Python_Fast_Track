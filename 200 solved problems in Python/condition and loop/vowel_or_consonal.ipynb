{
 "cells": [
  {
   "cell_type": "code",
   "execution_count": 1,
   "metadata": {
    "collapsed": true
   },
   "outputs": [
    {
     "name": "stdout",
     "output_type": "stream",
     "text": [
      "a is a vowel.\n",
      "b is a consonant.\n",
      "p is a consonant.\n"
     ]
    }
   ],
   "source": [
    "# Write a Python program to check whether an alphabet is a vowel or consonant\n",
    "def vowel_consonant(alphabet):\n",
    "    if alphabet in('a','e','i','o','u'):\n",
    "        return f\"{alphabet} is a vowel.\"\n",
    "    else:\n",
    "        return f\"{alphabet} is a consonant.\"\n",
    "    \n",
    "print(vowel_consonant('a'))\n",
    "print(vowel_consonant('b'))\n",
    "print(vowel_consonant('p'))"
   ]
  },
  {
   "cell_type": "code",
   "execution_count": null,
   "metadata": {},
   "outputs": [],
   "source": []
  }
 ],
 "metadata": {
  "kernelspec": {
   "display_name": "Python 3",
   "language": "python",
   "name": "python3"
  },
  "language_info": {
   "codemirror_mode": {
    "name": "ipython",
    "version": 3
   },
   "file_extension": ".py",
   "mimetype": "text/x-python",
   "name": "python",
   "nbconvert_exporter": "python",
   "pygments_lexer": "ipython3",
   "version": "3.11.0"
  }
 },
 "nbformat": 4,
 "nbformat_minor": 2
}
