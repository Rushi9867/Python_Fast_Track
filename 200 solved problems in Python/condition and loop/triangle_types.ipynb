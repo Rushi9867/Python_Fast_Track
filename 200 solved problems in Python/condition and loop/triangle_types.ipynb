{
 "cells": [
  {
   "cell_type": "code",
   "execution_count": 4,
   "metadata": {
    "collapsed": true
   },
   "outputs": [
    {
     "name": "stdout",
     "output_type": "stream",
     "text": [
      "Equilateral triangle\n",
      "Scalene triangle\n",
      "Isosceles triangle\n",
      "Isosceles triangle\n"
     ]
    }
   ],
   "source": [
    "# Write a Python program to check a triangle is equilateral, isosceles or scalene.\n",
    "# Note :\n",
    "# An equilateral triangle is a triangle in which all three sides are equal.\n",
    "# A scalene triangle is a triangle that has three unequal sides.\n",
    "# An isosceles triangle is a triangle with (at least) two equal sides.\n",
    "\n",
    "def check_triangle(l1,l2,l3):\n",
    "    if l1 == l2 == l3:\n",
    "        return \"Equilateral triangle\"\n",
    "    elif l1 != l2 != l3:\n",
    "        return \"Scalene triangle\"\n",
    "    else:\n",
    "        return \"Isosceles triangle\"\n",
    "    \n",
    "print(check_triangle(5,5,5))\n",
    "print(check_triangle(4,7,8))\n",
    "print(check_triangle(7,7,8))\n",
    "print(check_triangle(8,9,9))"
   ]
  },
  {
   "cell_type": "code",
   "execution_count": null,
   "metadata": {},
   "outputs": [],
   "source": []
  }
 ],
 "metadata": {
  "kernelspec": {
   "display_name": "Python 3",
   "language": "python",
   "name": "python3"
  },
  "language_info": {
   "codemirror_mode": {
    "name": "ipython",
    "version": 3
   },
   "file_extension": ".py",
   "mimetype": "text/x-python",
   "name": "python",
   "nbconvert_exporter": "python",
   "pygments_lexer": "ipython3",
   "version": "3.11.0"
  }
 },
 "nbformat": 4,
 "nbformat_minor": 2
}
