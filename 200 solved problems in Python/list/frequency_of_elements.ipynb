{
 "cells": [
  {
   "cell_type": "code",
   "execution_count": 6,
   "metadata": {
    "collapsed": true
   },
   "outputs": [
    {
     "data": {
      "text/plain": [
       "{10: 4, 20: 4, 40: 2, 50: 2, 30: 1}"
      ]
     },
     "execution_count": 6,
     "metadata": {},
     "output_type": "execute_result"
    }
   ],
   "source": [
    "# Write a Python program to get the frequency of the elements in a list.\n",
    "# input\n",
    "# my_list = [10,10,10,10,20,20,20,20,40,40,50,50,30]\n",
    "# outout\n",
    "# {10: 4, 20: 4, 40: 2, 50: 2, 30: 1}\n",
    "\n",
    "def frequency(lst):\n",
    "    count = 0\n",
    "    freq_dict = {}\n",
    "    for i in range(len(lst)):\n",
    "        count = lst.count(lst[i])\n",
    "        freq_dict[lst[i]] = count\n",
    "    return freq_dict\n",
    "\n",
    "my_list = [10,10,10,10,20,20,20,20,40,40,50,50,30]\n",
    "frequency(my_list)"
   ]
  },
  {
   "cell_type": "code",
   "execution_count": 4,
   "metadata": {},
   "outputs": [
    {
     "name": "stdout",
     "output_type": "stream",
     "text": [
      "[10, 10, 10, 10, 20, 20, 20, 20, 40, 40, 50, 50, 30]\n"
     ]
    }
   ],
   "source": [
    "my_list = [10,10,10,10,20,20,20,20,40,40,50,50,30]\n",
    "print(my_list)"
   ]
  },
  {
   "cell_type": "code",
   "execution_count": 42,
   "metadata": {},
   "outputs": [
    {
     "name": "stdout",
     "output_type": "stream",
     "text": [
      "40 : 2\n",
      "10 : 4\n",
      "50 : 2\n",
      "20 : 4\n",
      "30 : 1\n"
     ]
    }
   ],
   "source": [
    "a = set(my_list)\n",
    "\n",
    "for i in a: \n",
    "    print(i,\":\",my_list.count(i))"
   ]
  },
  {
   "cell_type": "code",
   "execution_count": null,
   "metadata": {},
   "outputs": [],
   "source": []
  }
 ],
 "metadata": {
  "kernelspec": {
   "display_name": "Python 3",
   "language": "python",
   "name": "python3"
  },
  "language_info": {
   "codemirror_mode": {
    "name": "ipython",
    "version": 3
   },
   "file_extension": ".py",
   "mimetype": "text/x-python",
   "name": "python",
   "nbconvert_exporter": "python",
   "pygments_lexer": "ipython3",
   "version": "3.11.0"
  }
 },
 "nbformat": 4,
 "nbformat_minor": 2
}
