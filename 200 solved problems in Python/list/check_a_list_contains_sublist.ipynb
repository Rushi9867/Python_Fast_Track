{
 "cells": [
  {
   "cell_type": "code",
   "execution_count": 11,
   "metadata": {
    "collapsed": true
   },
   "outputs": [
    {
     "name": "stdout",
     "output_type": "stream",
     "text": [
      "True\n",
      "True\n"
     ]
    }
   ],
   "source": [
    "# Write a Python program to check whether a list contains a sublist.\n",
    "# Input\n",
    "# a = [2,4,3,5,7]\n",
    "# b = [4,3]\n",
    "# c = [3,7]\n",
    "# print(is_Sublist(a, b))\n",
    "# print(is_Sublist(a, c))\n",
    "# Output\n",
    "def is_Sublist(a, b):\n",
    "    return set(a).issuperset(set(b))\n",
    "\n",
    "a = [2,4,3,5,7] \n",
    "b = [4,3]\n",
    "c = [3,7]\n",
    "\n",
    "print(is_Sublist(a, b))\n",
    "print(is_Sublist(a, c))"
   ]
  },
  {
   "cell_type": "code",
   "execution_count": 13,
   "metadata": {},
   "outputs": [
    {
     "name": "stdout",
     "output_type": "stream",
     "text": [
      "True\n",
      "True\n"
     ]
    }
   ],
   "source": [
    "a = [2,4,3,5,7] \n",
    "a_1 = set(a)\n",
    "b = [4,3]\n",
    "b_1 = set(b)\n",
    "c = [3,7]\n",
    "c_1 = set(c)\n",
    "print(a_1.issuperset(b_1))\n",
    "print(a_1.issuperset(c_1))"
   ]
  },
  {
   "cell_type": "code",
   "execution_count": null,
   "metadata": {},
   "outputs": [],
   "source": []
  }
 ],
 "metadata": {
  "kernelspec": {
   "display_name": "Python 3",
   "language": "python",
   "name": "python3"
  },
  "language_info": {
   "codemirror_mode": {
    "name": "ipython",
    "version": 3
   },
   "file_extension": ".py",
   "mimetype": "text/x-python",
   "name": "python",
   "nbconvert_exporter": "python",
   "pygments_lexer": "ipython3",
   "version": "3.11.0"
  }
 },
 "nbformat": 4,
 "nbformat_minor": 2
}
