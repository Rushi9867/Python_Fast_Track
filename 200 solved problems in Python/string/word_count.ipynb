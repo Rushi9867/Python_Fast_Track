{
 "cells": [
  {
   "cell_type": "code",
   "execution_count": 1,
   "metadata": {
    "collapsed": true
   },
   "outputs": [
    {
     "name": "stdout",
     "output_type": "stream",
     "text": [
      "{'Hello': 1, 'world,': 1, 'this': 1, 'is': 1, 'a': 1, 'test': 1, 'sentence.': 1}\n"
     ]
    }
   ],
   "source": [
    "#  Write a Python program to count the occurrences of each word in a given sentence\n",
    "\n",
    "def count_words(sentence):\n",
    "    dict = {}\n",
    "    for word in sentence:\n",
    "        keys = dict.keys()\n",
    "        if word in keys:\n",
    "            dict[word] += 1\n",
    "        else:\n",
    "            dict[word] = 1\n",
    "    return dict\n",
    "\n",
    "sentence = \"Hello world, this is a test sentence.\"\n",
    "\n",
    "print(count_words(sentence.split()))"
   ]
  },
  {
   "cell_type": "code",
   "execution_count": null,
   "metadata": {},
   "outputs": [],
   "source": []
  }
 ],
 "metadata": {
  "kernelspec": {
   "display_name": "Python 3",
   "language": "python",
   "name": "python3"
  },
  "language_info": {
   "codemirror_mode": {
    "name": "ipython",
    "version": 3
   },
   "file_extension": ".py",
   "mimetype": "text/x-python",
   "name": "python",
   "nbconvert_exporter": "python",
   "pygments_lexer": "ipython3",
   "version": "3.11.0"
  }
 },
 "nbformat": 4,
 "nbformat_minor": 2
}
