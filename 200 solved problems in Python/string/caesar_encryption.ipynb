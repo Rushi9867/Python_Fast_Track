{
 "cells": [
  {
   "cell_type": "code",
   "execution_count": 5,
   "metadata": {
    "collapsed": true
   },
   "outputs": [
    {
     "name": "stdout",
     "output_type": "stream",
     "text": [
      "Lowercase Index:  3\n",
      "Lowercase Index:  4\n",
      "Lowercase Index:  5\n",
      "Lowercase Index:  4\n",
      "Lowercase Index:  13\n",
      "Lowercase Index:  3\n",
      "Lowercase Index:  19\n",
      "Lowercase Index:  7\n",
      "Lowercase Index:  4\n",
      "Lowercase Index:  4\n",
      "Lowercase Index:  0\n",
      "Lowercase Index:  18\n",
      "Lowercase Index:  19\n",
      "Lowercase Index:  22\n",
      "Lowercase Index:  0\n",
      "Lowercase Index:  11\n",
      "Lowercase Index:  11\n",
      "Lowercase Index:  14\n",
      "Lowercase Index:  5\n",
      "Lowercase Index:  19\n",
      "Lowercase Index:  7\n",
      "Lowercase Index:  4\n",
      "Lowercase Index:  2\n",
      "Lowercase Index:  0\n",
      "Lowercase Index:  18\n",
      "Lowercase Index:  19\n",
      "Lowercase Index:  11\n",
      "Lowercase Index:  4\n",
      "['e', 'f', 'g', 'f', 'o', 'e', 'u', 'i', 'f', 'f', 'b', 't', 'u', 'x', 'b', 'm', 'm', 'p', 'g', 'u', 'i', 'f', 'd', 'b', 't', 'u', 'm', 'f']\n"
     ]
    }
   ],
   "source": [
    "# ---------------------------------------------------------------\n",
    "# python best courses https://courses.tanpham.org/\n",
    "# ---------------------------------------------------------------\n",
    "# Write a Python program to create a Caesar encryption\n",
    "\n",
    "# Note : In cryptography, a Caesar cipher, also known as Caesar's cipher, the shift cipher, \n",
    "# Caesar's code or Caesar shift, is one of the simplest and most widely known encryption techniques.\n",
    "# It is a type of substitution cipher in which each letter in the plaintext is replaced by a letter \n",
    "# some fixed number of positions down the alphabet.\n",
    "# For example, with a left shift of 3, D would be replaced by A, E would become B, and so on.\n",
    "# The method is named after Julius Caesar, who used it in his private correspondence.\n",
    "\n",
    "# plaintext:  defend the east wall of the castle\n",
    "# ciphertext: efgfoe uif fbtu xbmm pg uif dbtumf\n",
    "\n",
    "def caesar_cipher(realtext,step):\n",
    "    outText = []\n",
    "    newText = []\n",
    "    \n",
    "    uppercase = [\"A\",\"B\",\"C\",\"D\",\"E\",\"F\",\"G\",\"H\",\"I\",\"J\",\"K\",\"L\",\"M\",\"N\",\"O\",\"P\",\"Q\",\"R\",\"S\",\"T\",\"U\",\"V\",\"W\",\"X\",\"Y\",\"Z\"]\n",
    "    lowercase = [\"a\",\"b\",\"c\",\"d\",\"e\",\"f\",\"g\",\"h\",\"i\",\"j\",\"k\",\"l\",\"m\",\"n\",\"o\",\"p\",\"q\",\"r\",\"s\",\"t\",\"u\",\"v\",\"w\",\"x\",\"y\",\"z\"]\n",
    "    \n",
    "    for eachletter in realtext:\n",
    "        if eachletter in uppercase:\n",
    "            index = uppercase.index(eachletter)\n",
    "            print(\"Uppercase Index: \",index)\n",
    "            crypting = (index + step) % 26\n",
    "            newText.append(crypting)\n",
    "            newLetter = uppercase[crypting]\n",
    "            outText.append(newLetter)\n",
    "        elif eachletter in lowercase:\n",
    "            index = lowercase.index(eachletter)\n",
    "            print(\"Lowercase Index: \",index)\n",
    "            crypting = (index + step) % 26\n",
    "            newText.append(crypting)\n",
    "            newLetter = lowercase[crypting]\n",
    "            outText.append(newLetter)\n",
    "    return outText\n",
    "\n",
    "code = caesar_cipher('defend the east wall of the castle', 1)\n",
    "print(code)"
   ]
  },
  {
   "cell_type": "code",
   "execution_count": null,
   "metadata": {},
   "outputs": [],
   "source": []
  }
 ],
 "metadata": {
  "kernelspec": {
   "display_name": "Python 3",
   "language": "python",
   "name": "python3"
  },
  "language_info": {
   "codemirror_mode": {
    "name": "ipython",
    "version": 3
   },
   "file_extension": ".py",
   "mimetype": "text/x-python",
   "name": "python",
   "nbconvert_exporter": "python",
   "pygments_lexer": "ipython3",
   "version": "3.11.0"
  }
 },
 "nbformat": 4,
 "nbformat_minor": 2
}
