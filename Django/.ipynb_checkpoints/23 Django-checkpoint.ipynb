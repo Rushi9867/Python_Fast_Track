{
 "cells": [
  {
   "cell_type": "markdown",
   "metadata": {
    "colab_type": "text",
    "id": "dUNuyDl2yJoi"
   },
   "source": [
    "<img src=\"https://d24cdstip7q8pz.cloudfront.net/t/ineuron1/content/common/images/final%20logo.png\" height=60 alt-text=\"iNeuron.ai logo\">"
   ]
  },
  {
   "cell_type": "markdown",
   "metadata": {
    "colab_type": "text",
    "id": "ND3wF0WuyIsO"
   },
   "source": [
    "## 23.1 Django web-framework\n",
    "\n",
    "Django is a high-level Python Web framework that encourages rapid development and clean, pragmatic design. Built by experienced developers, with Django, you can take Web applications from concept to launch in a matter of hours. Django takes care of much of the hassle of Web development, so you can focus on writing your app without needing to reinvent the wheel. It’s free and open source.\n",
    "\n",
    "-- https://www.djangoproject.com/\n",
    "\n",
    "Django was developed for a fast pace development environment for a news web application by Adrian Holovaty and Simon Willison. In 2003, They stopped using PHP for their development and started using python. Then they made continuous improvements to their framework and finally it was made open source in 2005.\n",
    "Django is named after Django Reinhardt, a jazz guitarist."
   ]
  },
  {
   "cell_type": "markdown",
   "metadata": {
    "colab_type": "text",
    "id": "OnUzvC_OyIsT"
   },
   "source": [
    "## 23.2 Advantages of using django framework"
   ]
  },
  {
   "cell_type": "markdown",
   "metadata": {
    "colab_type": "text",
    "id": "SuiVVoiNyIsV"
   },
   "source": [
    "### Ridiculously fast\n",
    "\n",
    "Django was designed to help developers take applications from concept to completion as quickly as possible because of default functionality provided by django."
   ]
  },
  {
   "cell_type": "markdown",
   "metadata": {
    "colab_type": "text",
    "id": "C_hg6aKMyIsZ"
   },
   "source": [
    "### Fully loaded\n",
    "\n",
    "Django includes dozens of extra features which we can use to handle common Web development tasks. Django takes care of user authentication, content administration, site maps, RSS feeds, and many more tasks — right out of the box. We can however customize as well as we can use default one for quick building application."
   ]
  },
  {
   "cell_type": "markdown",
   "metadata": {
    "colab_type": "text",
    "id": "XaeBUsw6yIsd"
   },
   "source": [
    "### Reassuringly secure\n",
    "\n",
    "Django takes security seriously and helps developers avoid many common security mistakes, such as SQL injection, cross-site scripting, cross-site request forgery(CSRF) and clickjacking. Its user authentication system provides a secure way to manage user accounts and passwords."
   ]
  },
  {
   "cell_type": "markdown",
   "metadata": {
    "colab_type": "text",
    "id": "CibocMDryIsg"
   },
   "source": [
    "### Exceedingly scalable\n",
    "\n",
    "Some of the busiest sites on the planet use Django’s ability to quickly and flexibly scale to meet the heaviest traffic demands."
   ]
  },
  {
   "cell_type": "markdown",
   "metadata": {
    "colab_type": "text",
    "id": "adYckD5_yIsi"
   },
   "source": [
    "### Incredibly versatile\n",
    "\n",
    "Companies, organizations and governments have used Django to build all sorts of things — from content management systems to social networks to scientific computing platforms."
   ]
  },
  {
   "cell_type": "markdown",
   "metadata": {
    "colab_type": "text",
    "id": "o3sRm1kDyIsk"
   },
   "source": [
    "For more detail about the features, you can refer to official django documentation:-\n",
    "   >**https://www.djangoproject.com/start/overview/**"
   ]
  },
  {
   "cell_type": "markdown",
   "metadata": {
    "colab_type": "text",
    "id": "SNtChZFEyIsl"
   },
   "source": [
    "The Django framework is following a Model-View-template (MVT) architecture together making an entire web application. \n",
    "\n",
    "-> Model will be responsible for handling with the actual data part.\n",
    "\n",
    "-> View contains actual business logic from where response will be sent to client \n",
    "\n",
    "-> Template will consist HTML output with dnamic content. \n",
    "\n",
    "If you are familiar with MVC architecture, then you can relate it easily. Eventhough, we will look into detail while doing actual project.\n",
    "\n",
    "We will learn from django installation to starting a Django project with the main blocks of the Django framework – urls,\n",
    "templates, views,apps – and how they work with one another to set up whole app. We will check about django adminnas well."
   ]
  },
  {
   "cell_type": "markdown",
   "metadata": {
    "colab_type": "text",
    "id": "ZWrkzt9TyIsm"
   },
   "source": [
    "<img src=\"img/django_flow.png\">"
   ]
  },
  {
   "cell_type": "markdown",
   "metadata": {
    "colab_type": "text",
    "id": "Lm6YRrVPyIsn"
   },
   "source": [
    "## 23.3 Django Design Principles\n",
    "\n",
    "We have already seen some tof the features of django ,now will check some other important design principles:-"
   ]
  },
  {
   "cell_type": "markdown",
   "metadata": {
    "colab_type": "text",
    "id": "1iD7k122yIsp"
   },
   "source": [
    "### Don’t repeat yourself (DRY)\n",
    "\n",
    "Every distinct concept and/or piece of data should live in one, and only one, place. Redundancy is bad. Normalization is good.\n",
    "\n",
    "The framework, within reason, should deduce as much as possible from as little as possible.\n",
    "\n",
    "For example,With a single line statement like models.TextField(max_length=30) you can\n",
    "generate an HTML form or create database table with define schema, this is what DRY is."
   ]
  },
  {
   "cell_type": "markdown",
   "metadata": {
    "colab_type": "text",
    "id": "mSjYkT1ByIst"
   },
   "source": [
    "### Explicit Is Better Than Implicit\n",
    "\n",
    "This is a core Python principle listed in PEP 20, and it means Django shouldn’t do too much “magic.” Magic shouldn’t happen unless there’s a really good reason for it. Magic is worth using only if it creates a huge convenience unattainable in other ways, and it isn’t implemented in a way that confuses developers who are trying to learn how to use the feature.\n",
    "\n",
    "Fields shouldn’t assume certain behaviors based solely on the name of the field. This requires too much knowledge of the system and is prone to errors. Instead, behaviors should be based on keyword arguments and, in some cases, on the type of the field.\n",
    "\n",
    "A view method in django is similar to Controler in an MVC framework,responsible for handling incoming client/web requests, applying business logic defined in views, and then giving an appropriate response. This is what explicit is.\n",
    "\n",
    "This feature gives the developer a lot of control and flexibility to write whatever they want instead of doing unnecessary things implicitly."
   ]
  },
  {
   "cell_type": "markdown",
   "metadata": {
    "colab_type": "text",
    "id": "lrwq5pG6yIsw"
   },
   "source": [
    "### Quick Development\n",
    "\n",
    "Django is providing lots of default features so that for writing code manually will not take much time and as the number of lines to be written is reduced, and the framework itself takes care of the dependencies, the development/ enhancement time gets drastically reduced."
   ]
  },
  {
   "cell_type": "markdown",
   "metadata": {
    "colab_type": "text",
    "id": "HCDeqh1ByIsz"
   },
   "source": [
    "### Consistency\n",
    "\n",
    "The framework should be consistent at all levels. Consistency applies to everything from low-level (the Python coding style used) to high-level (the “experience” of using Django)."
   ]
  },
  {
   "cell_type": "markdown",
   "metadata": {
    "colab_type": "text",
    "id": "GYRvFQZGyIs1"
   },
   "source": [
    "## 23.4 Installation of django\n",
    "\n",
    "There are various ways to install django"
   ]
  },
  {
   "cell_type": "markdown",
   "metadata": {
    "colab_type": "text",
    "id": "bacVWlpvyIs2"
   },
   "source": [
    "### Installing an official release with pip\n",
    "\n",
    "This is the recommended way to install Django.\n",
    "\n",
    "1) Install pip. The easiest is to use the standalone pip installer. If your distribution already has pip installed, you might need to update it if it’s outdated. If it’s outdated, you’ll know because installation won’t work.\n",
    "\n",
    "2) Take a look at venv. This tool provides isolated Python environments, which are more practical than installing packages systemwide. It also allows installing packages without administrator privileges. The contributing tutorial walks through how to create a virtual environment.\n",
    "\n",
    "3) After you’ve created and activated a virtual environment, enter the command:\n",
    "\n",
    "```python\n",
    "python -m pip install Django\n",
    "```"
   ]
  },
  {
   "cell_type": "markdown",
   "metadata": {
    "colab_type": "text",
    "id": "OGy3QZHwyIs4"
   },
   "source": [
    "### Installing the development version\n",
    "\n",
    "If you’d like to be able to update your Django code occasionally with the latest bug fixes and improvements, follow these instructions:\n",
    "\n",
    "1) Make sure that you have Git installed and that you can run its commands from a shell. (Enter git help at a shell prompt to test this.)\n",
    "\n",
    "2) Check out Django’s main development branch like so:\n",
    "    \n",
    "   ```git clone https://github.com/django/django.git```\n",
    "        \n",
    "  This will create a directory django in your current directory.\n",
    "\n",
    "3) Make sure that the Python interpreter can load Django’s code. The most convenient way to do this is to use a virtual environment and pip. The contributing tutorial walks through how to create a virtual environment.\n",
    "\n",
    "4) After setting up and activating the virtual environment, run the following command:\n",
    "    \n",
    "    ```python -m pip install -e django/```\n",
    "    \n",
    "  This will make Django’s code importable, and will also make the django-admin utility command available. In other words, you’re all set!\n",
    "\n",
    "When you want to update your copy of the Django source code, run the command git pull from within the django directory. When you do this, Git will download any changes.\n",
    "\n",
    "But the recommended way of installing django is using pip only defined in previous step."
   ]
  },
  {
   "cell_type": "markdown",
   "metadata": {
    "colab_type": "text",
    "id": "YM2i6XK-yIs5"
   },
   "source": [
    "To verify that Django can be seen by Python, type python from your shell. Then at the Python prompt, try to import Django:\n"
   ]
  },
  {
   "cell_type": "markdown",
   "metadata": {
    "colab_type": "text",
    "id": "FIHism9QyIs6"
   },
   "source": [
    "<img src=\"img/django_install.png\">"
   ]
  },
  {
   "cell_type": "markdown",
   "metadata": {
    "colab_type": "text",
    "id": "usbT0FG6yIs7"
   },
   "source": [
    ">**Note:** It is recommended to have separate environments for separate projects"
   ]
  },
  {
   "cell_type": "markdown",
   "metadata": {
    "colab_type": "text",
    "id": "BC5s-eCiNC1g"
   },
   "source": [
    "## 23.5 Hello world django example"
   ]
  },
  {
   "cell_type": "code",
   "execution_count": null,
   "metadata": {
    "colab": {},
    "colab_type": "code",
    "id": "hwqHxaEqyIs8"
   },
   "outputs": [],
   "source": [
    "# Let's start with simple hello world program"
   ]
  },
  {
   "cell_type": "markdown",
   "metadata": {
    "colab_type": "text",
    "id": "371-d5-3yItH"
   },
   "source": [
    "To create django project, go to the desired directory where you want to create django project and enter the below command:-\n",
    "        \n",
    "        django-admin startproject hello_world"
   ]
  },
  {
   "cell_type": "markdown",
   "metadata": {
    "colab_type": "text",
    "id": "skvQfRIiyItI"
   },
   "source": [
    "<img src=\"img/step1.png\">"
   ]
  },
  {
   "cell_type": "markdown",
   "metadata": {
    "colab_type": "text",
    "id": "XCy9k4IDyItK"
   },
   "source": [
    "This type of folder structure will created after executing above command:"
   ]
  },
  {
   "cell_type": "markdown",
   "metadata": {
    "colab_type": "text",
    "id": "_pJ0zYI2yItL"
   },
   "source": [
    "<img src=\"img/step2.png\">"
   ]
  },
  {
   "cell_type": "markdown",
   "metadata": {
    "colab_type": "text",
    "id": "PvVhhtQdyItN"
   },
   "source": [
    "The whole above files will be responsible for some functionality. Lets check one by one:-\n",
    "    \n",
    "**1)** The **outer hello_world/** root directory is a container for your project. Its name doesn’t matter to Django; you can rename it to anything you like.\n",
    "\n",
    "**2) manage.py:** A command-line utility that lets you interact with this Django project in various ways. For more details you can refer here:- https://docs.djangoproject.com/en/3.1/ref/django-admin/\n",
    "\n",
    "**3)** The **inner hello_world/** directory is the actual Python package for your project. Its name is the Python package name you’ll need to use to import anything inside it (e.g. hello_world.urls).\n",
    "\n",
    "**4) hello_world/__init__.py:** An empty file that tells Python that this directory should be considered a Python package. You must know about this things at this stage.\n",
    " \n",
    "**5) hello_world/settings.py:** Settings/configuration for this Django project. Django settings will tell you all about how settings work. It includes every settings like, yout static files, database settings, templates settings, or any other settings goes into this file.\n",
    "\n",
    "**6) hello_world/urls.py:** The URL declarations for this Django project; a “table of contents” of your Django-powered site. You will define every other application of this project in this url. we will see later on how this file will look.\n",
    "\n",
    "**7) hello_world/wsgi.py:** An entry-point for WSGI-compatible web servers to serve your project. This will concern with your deployment plan."
   ]
  },
  {
   "cell_type": "markdown",
   "metadata": {
    "colab_type": "text",
    "id": "wR2I-UQiyItO"
   },
   "source": [
    "Manage.py file:-"
   ]
  },
  {
   "cell_type": "markdown",
   "metadata": {
    "colab_type": "text",
    "id": "n4ZrnS3byItP"
   },
   "source": [
    "<img src=\"img/manage.png\">"
   ]
  },
  {
   "cell_type": "markdown",
   "metadata": {
    "colab_type": "text",
    "id": "TnftlSZvyItQ"
   },
   "source": [
    "This hello_world.settings file is the one which django is looking for for settings, you can define another file as well or you can change the file as per different enviornments different settings file."
   ]
  },
  {
   "cell_type": "markdown",
   "metadata": {
    "colab_type": "text",
    "id": "-U87JXITyItS"
   },
   "source": [
    "Urls.py file will look like this:-"
   ]
  },
  {
   "cell_type": "markdown",
   "metadata": {
    "colab_type": "text",
    "id": "L6zyutRByItT"
   },
   "source": [
    "<img src=\"img/url.png\">"
   ]
  },
  {
   "cell_type": "markdown",
   "metadata": {
    "colab_type": "text",
    "id": "wIpGoqL8yItU"
   },
   "source": [
    "Here, in highlighted section you can define the number of applications in the entire project, so django will route things from the apps defined from this url. Will see when we will progress further."
   ]
  },
  {
   "cell_type": "markdown",
   "metadata": {
    "colab_type": "text",
    "id": "-TjcPPT7yItW"
   },
   "source": [
    "Let's run our webserver to verify, as we don't include anything yet, but we can verify default django page by running below command. Just make sure you are in outer hello_world directory\n",
    "\n",
    "```python manage.py runserver```"
   ]
  },
  {
   "cell_type": "markdown",
   "metadata": {
    "colab_type": "text",
    "id": "cn8tsvtByItX"
   },
   "source": [
    "<img src=\"img/step3.png\">"
   ]
  },
  {
   "cell_type": "markdown",
   "metadata": {
    "colab_type": "text",
    "id": "MVBOc_lXyItY"
   },
   "source": [
    "Now, got to http://127.0.0.1/8000/ to check if our development server is running:-"
   ]
  },
  {
   "cell_type": "markdown",
   "metadata": {
    "colab_type": "text",
    "id": "bxvK4z7JyItZ"
   },
   "source": [
    "You should get following if everything is fine:"
   ]
  },
  {
   "cell_type": "markdown",
   "metadata": {
    "colab_type": "text",
    "id": "r5rtT3KEyItb"
   },
   "source": [
    "<img src=\"img/step4.png\">"
   ]
  },
  {
   "cell_type": "markdown",
   "metadata": {
    "colab_type": "text",
    "id": "yJiIBg_AyItc"
   },
   "source": [
    "To create a new app called ‘hello_app’. We’ll write the logic of printing hello_world here.Run the command \n",
    "\n",
    "```python manage.py startapp hello_app```\n",
    "\n",
    "The project structure looks like:"
   ]
  },
  {
   "cell_type": "markdown",
   "metadata": {
    "colab_type": "text",
    "id": "x2hCSwuNyItd"
   },
   "source": [
    "<img src=\"img/step5.png\">"
   ]
  },
  {
   "cell_type": "markdown",
   "metadata": {
    "colab_type": "text",
    "id": "expcgkXCyItf"
   },
   "source": [
    "Now, Let's write simple hello world logic in views.py file:-"
   ]
  },
  {
   "cell_type": "markdown",
   "metadata": {
    "colab_type": "text",
    "id": "TzbqbMokyItg"
   },
   "source": [
    "<img src=\"img/step6.png\">"
   ]
  },
  {
   "cell_type": "markdown",
   "metadata": {
    "colab_type": "text",
    "id": "PntQaQGEyIth"
   },
   "source": [
    "This is the simplest view possible in Django. To call the view, we need to map it to a URL - and for this we need a URLconf.\n",
    "\n",
    "To create a URLconf in the hello_app directory, create a file called urls.py and paste code written as below:-"
   ]
  },
  {
   "cell_type": "markdown",
   "metadata": {
    "colab_type": "text",
    "id": "r_4z2RMQyIti"
   },
   "source": [
    "<img src=\"img/step7.png\">"
   ]
  },
  {
   "cell_type": "markdown",
   "metadata": {
    "colab_type": "text",
    "id": "17EKTbkVyItj"
   },
   "source": [
    "The next step is to point the root URLconf at the hello_world.urls main module. In hello_world/urls.py, add an import for django.urls.include and insert an include() in the urlpatterns list, so django will look into hello_app application and in that urls we have index defined so it is able to call that view in this way:"
   ]
  },
  {
   "cell_type": "markdown",
   "metadata": {
    "colab_type": "text",
    "id": "i1-bfS4NyItk"
   },
   "source": [
    "<img src=\"img/step8.png\">"
   ]
  },
  {
   "cell_type": "markdown",
   "metadata": {
    "colab_type": "text",
    "id": "bRgt8YPuyItk"
   },
   "source": [
    "Now, if you run server , you will get something like this:-"
   ]
  },
  {
   "cell_type": "markdown",
   "metadata": {
    "colab_type": "text",
    "id": "qKQHvJPlyItl"
   },
   "source": [
    "<img src=\"img/step9.png\">"
   ]
  },
  {
   "cell_type": "markdown",
   "metadata": {
    "colab_type": "text",
    "id": "Dhqk6GgLyItm"
   },
   "source": [
    "We will check about templates with UI and database in another project."
   ]
  },
  {
   "cell_type": "markdown",
   "metadata": {
    "colab_type": "text",
    "id": "VUxZ0RiQyItm"
   },
   "source": [
    " For more detailed level explanation, refer django's official documentation. It's an excellent documentation we can refer for in depth understanding:-\n",
    "   >**https://docs.djangoproject.com/en/3.1/**"
   ]
  },
  {
   "cell_type": "code",
   "execution_count": null,
   "metadata": {
    "colab": {},
    "colab_type": "code",
    "id": "vJeZ0BufyItn"
   },
   "outputs": [],
   "source": []
  }
 ],
 "metadata": {
  "colab": {
   "collapsed_sections": [],
   "name": "23 Django.ipynb",
   "provenance": [],
   "toc_visible": true
  },
  "kernelspec": {
   "display_name": "Python 3",
   "language": "python",
   "name": "python3"
  },
  "language_info": {
   "codemirror_mode": {
    "name": "ipython",
    "version": 3
   },
   "file_extension": ".py",
   "mimetype": "text/x-python",
   "name": "python",
   "nbconvert_exporter": "python",
   "pygments_lexer": "ipython3",
   "version": "3.8.5"
  }
 },
 "nbformat": 4,
 "nbformat_minor": 1
}
