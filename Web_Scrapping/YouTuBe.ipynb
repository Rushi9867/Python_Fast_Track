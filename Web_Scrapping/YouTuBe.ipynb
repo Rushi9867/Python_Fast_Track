{
 "cells": [
  {
   "cell_type": "code",
   "execution_count": 1,
   "metadata": {},
   "outputs": [],
   "source": [
    "# !pip install autoscraper"
   ]
  },
  {
   "cell_type": "code",
   "execution_count": 2,
   "metadata": {},
   "outputs": [],
   "source": [
    "#from autoscraper import AutoScraper"
   ]
  },
  {
   "cell_type": "code",
   "execution_count": 1,
   "metadata": {},
   "outputs": [],
   "source": [
    "import requests\n",
    "from bs4 import BeautifulSoup as bs\n",
    "from urllib.request import urlopen as urReq\n",
    "import json\n",
    "import re"
   ]
  },
  {
   "cell_type": "code",
   "execution_count": 2,
   "metadata": {},
   "outputs": [
    {
     "data": {
      "text/plain": [
       "'https://www.youtube.com/user/krishnaik06/videos'"
      ]
     },
     "execution_count": 2,
     "metadata": {},
     "output_type": "execute_result"
    }
   ],
   "source": [
    "link = \"https://www.youtube.com/user/krishnaik06/videos\"\n",
    "#link = \"https://www.youtube.com/c/Telusko/videos\"\n",
    "link"
   ]
  },
  {
   "cell_type": "code",
   "execution_count": 45,
   "metadata": {},
   "outputs": [],
   "source": [
    "from selenium import webdriver\n",
    "from selenium.webdriver.chrome.service import Service\n",
    "from webdriver_manager.chrome import ChromeDriverManager\n",
    "from bs4 import BeautifulSoup\n",
    "\n",
    "#driver =webdriver.Chrome(executable_path=\"D:\\Softwares\\Chrome Driver\\chromedriver.exe\")"
   ]
  },
  {
   "cell_type": "code",
   "execution_count": 61,
   "metadata": {},
   "outputs": [],
   "source": [
    "driver = webdriver.Chrome(service=Service(ChromeDriverManager().install()))\n",
    "driver.get('https://www.youtube.com/user/{}/videos?view=0&sort=p&flow=grid'.format(link))\n",
    "driver.execute_script(\"window.scrollTo(0, document.body.scrollHeight)\")\n",
    "time.sleep(3)\n",
    "content = driver.page_source.encode('utf-8').strip()\n",
    "soup = BeautifulSoup(content,'html.parser')\n",
    "titles = soup.find_all('a',id='video-title')\n",
    "#print(titles)\n",
    "title = []\n",
    "for i in titles:\n",
    "    title.append(i.text)"
   ]
  },
  {
   "cell_type": "code",
   "execution_count": 62,
   "metadata": {},
   "outputs": [
    {
     "data": {
      "text/plain": [
       "['AI VS ML VS DL VS Data Science',\n",
       " 'How To Learn Data Science Smartly?',\n",
       " 'Complete Road Map To Be Expert In Python- Follow My Way',\n",
       " 'OTT Platform For Education OneNeuron- Education As A Service',\n",
       " \"Negotiating Salaries With HR for Any Job Is An Art. Learn IT Before It's Late 😭😭😭😭\",\n",
       " 'Complete Road Map To Prepare NLP-Follow This Video-You Will Able to Crack Any DS Interviews🔥🔥',\n",
       " 'Live- Implementation of End To End Kaggle Machine Learning Project With Deployment',\n",
       " 'How To Learn Data Science by Self Study and For Free',\n",
       " 'Complete Roadmap For Becoming A Blockchain Developer In 2022',\n",
       " 'Learning Data Science In 2022- Step By Step Plan',\n",
       " '6 Certifications In Data Science But No Jobs- Sharing A True Story-Focus More On Data Science Jobs',\n",
       " 'RoadMap With Minimal Skills To Become Data Analyst In 2022',\n",
       " 'Tutorial 32- All About P Value,T test,Chi Square Test, Anova Test  and When  to Use What?',\n",
       " 'My Salary As A Data Scientist From Starting Of My Career',\n",
       " 'Live Day 1- Introduction To Machine Learning Algorithms For Data Science',\n",
       " '7 Days Plan To Learn Statistics For Data Analyst And Data Scientist',\n",
       " 'Stock Price Prediction And Forecasting Using Stacked LSTM- Deep Learning',\n",
       " 'Tutorial 1- Anaconda Installation and Python Basics',\n",
       " 'Live Day 1- Introduction To statistics In Data Science',\n",
       " 'How Did I Learn Machine Learning in 3 Months',\n",
       " 'Tutorial 1- Introduction to Neural Network and Deep Learning',\n",
       " 'Tutorial 43-Random Forest Classifier and Regressor',\n",
       " 'Support Vector Machine (SVM) Basic Intuition- Part 1| Machine Learning',\n",
       " 'Interview Prep Day 1-How To Learn Machine Learning Algorithms For Interviews- Naive Bayes Classifier',\n",
       " 'Online Courses for Data Science Specialization',\n",
       " 'History Of Machine Learning- Dicussing The Entire Timeline',\n",
       " 'Complete Roadmap To Follow To  Prepare Machine Learning With All Videos And Materials',\n",
       " 'Step By Step Action Plan For Learning Data Science in 2020',\n",
       " 'Tutorial 26- Linear Regression Indepth Maths Intuition- Data Science',\n",
       " 'AI In Hardware']"
      ]
     },
     "execution_count": 62,
     "metadata": {},
     "output_type": "execute_result"
    }
   ],
   "source": [
    "title"
   ]
  },
  {
   "cell_type": "code",
   "execution_count": 67,
   "metadata": {},
   "outputs": [
    {
     "data": {
      "text/plain": [
       "'AI VS ML VS DL VS Data Science'"
      ]
     },
     "execution_count": 67,
     "metadata": {},
     "output_type": "execute_result"
    }
   ],
   "source": [
    "t = soup.find_all('a',id='video-title')\n",
    "t[0].text"
   ]
  },
  {
   "cell_type": "markdown",
   "metadata": {},
   "source": [
    "## Witcher Series Scraping "
   ]
  },
  {
   "cell_type": "code",
   "execution_count": 21,
   "metadata": {},
   "outputs": [],
   "source": [
    "import pandas as pd \n",
    "from selenium import webdriver \n",
    "from webdriver_manager.chrome import ChromeDriverManager \n",
    "import time "
   ]
  },
  {
   "cell_type": "code",
   "execution_count": 22,
   "metadata": {},
   "outputs": [
    {
     "name": "stderr",
     "output_type": "stream",
     "text": [
      "C:\\Users\\HP\\AppData\\Local\\Temp\\ipykernel_9588\\3226908433.py:1: DeprecationWarning: executable_path has been deprecated, please pass in a Service object\n",
      "  driver = webdriver.Chrome(ChromeDriverManager().install())\n"
     ]
    }
   ],
   "source": [
    "driver = webdriver.Chrome(ChromeDriverManager().install())\n",
    "page_url = 'https://witcher.fandom.com/wiki/Category:Characters_in_the_stories'\n",
    "driver.get(page_url)"
   ]
  },
  {
   "cell_type": "code",
   "execution_count": 23,
   "metadata": {},
   "outputs": [],
   "source": [
    "from selenium.webdriver.common.by import By\n",
    "book_category = driver.find_elements(By.CLASS_NAME, \"category-page__member-link\")\n",
    "\n",
    "books = []\n",
    "for i in book_category:\n",
    "    book_url = i.get_attribute('href')\n",
    "    book_name = i.text \n",
    "    books.append({'Book_Name':book_name,'URL':book_url})"
   ]
  },
  {
   "cell_type": "code",
   "execution_count": 24,
   "metadata": {},
   "outputs": [
    {
     "data": {
      "text/plain": [
       "[{'Book_Name': 'Category:Baptism of Fire characters',\n",
       "  'URL': 'https://witcher.fandom.com/wiki/Category:Baptism_of_Fire_characters'},\n",
       " {'Book_Name': 'Category:Blood of Elves characters',\n",
       "  'URL': 'https://witcher.fandom.com/wiki/Category:Blood_of_Elves_characters'},\n",
       " {'Book_Name': \"Godamba Thaess'en\",\n",
       "  'URL': 'https://witcher.fandom.com/wiki/Godamba_Thaess%27en'},\n",
       " {'Book_Name': 'Category:Season of Storms characters',\n",
       "  'URL': 'https://witcher.fandom.com/wiki/Category:Season_of_Storms_characters'},\n",
       " {'Book_Name': 'Category:Something Ends, Something Begins characters',\n",
       "  'URL': 'https://witcher.fandom.com/wiki/Category:Something_Ends,_Something_Begins_characters'},\n",
       " {'Book_Name': 'Category:Sword of Destiny characters',\n",
       "  'URL': 'https://witcher.fandom.com/wiki/Category:Sword_of_Destiny_characters'},\n",
       " {'Book_Name': 'Category:Szpony i kły characters',\n",
       "  'URL': 'https://witcher.fandom.com/wiki/Category:Szpony_i_k%C5%82y_characters'},\n",
       " {'Book_Name': 'Category:Tales from the world of The Witcher characters',\n",
       "  'URL': 'https://witcher.fandom.com/wiki/Category:Tales_from_the_world_of_The_Witcher_characters'},\n",
       " {'Book_Name': 'Category:The Lady of the Lake characters',\n",
       "  'URL': 'https://witcher.fandom.com/wiki/Category:The_Lady_of_the_Lake_characters'},\n",
       " {'Book_Name': 'Category:The Last Wish characters',\n",
       "  'URL': 'https://witcher.fandom.com/wiki/Category:The_Last_Wish_characters'},\n",
       " {'Book_Name': 'Category:The Tower of the Swallow characters',\n",
       "  'URL': 'https://witcher.fandom.com/wiki/Category:The_Tower_of_the_Swallow_characters'},\n",
       " {'Book_Name': 'Category:Time of Contempt characters',\n",
       "  'URL': 'https://witcher.fandom.com/wiki/Category:Time_of_Contempt_characters'}]"
      ]
     },
     "execution_count": 24,
     "metadata": {},
     "output_type": "execute_result"
    }
   ],
   "source": [
    "books"
   ]
  },
  {
   "cell_type": "code",
   "execution_count": 25,
   "metadata": {},
   "outputs": [],
   "source": [
    "character_list =[]\n",
    "for i in books:\n",
    "    driver.get(i['URL'])\n",
    "    char_elems = driver.find_elements(By.CLASS_NAME, \"category-page__member-link\")\n",
    "\n",
    "    for j in char_elems:\n",
    "        character_list.append({'Book':i['Book_Name'],'Character':j.text})"
   ]
  },
  {
   "cell_type": "code",
   "execution_count": 26,
   "metadata": {},
   "outputs": [],
   "source": [
    "driver.close()"
   ]
  },
  {
   "cell_type": "code",
   "execution_count": 31,
   "metadata": {},
   "outputs": [
    {
     "data": {
      "text/html": [
       "<div>\n",
       "<style scoped>\n",
       "    .dataframe tbody tr th:only-of-type {\n",
       "        vertical-align: middle;\n",
       "    }\n",
       "\n",
       "    .dataframe tbody tr th {\n",
       "        vertical-align: top;\n",
       "    }\n",
       "\n",
       "    .dataframe thead th {\n",
       "        text-align: right;\n",
       "    }\n",
       "</style>\n",
       "<table border=\"1\" class=\"dataframe\">\n",
       "  <thead>\n",
       "    <tr style=\"text-align: right;\">\n",
       "      <th></th>\n",
       "      <th>Book</th>\n",
       "      <th>Character</th>\n",
       "    </tr>\n",
       "  </thead>\n",
       "  <tbody>\n",
       "    <tr>\n",
       "      <th>0</th>\n",
       "      <td>Category:Baptism of Fire characters</td>\n",
       "      <td>Adalia</td>\n",
       "    </tr>\n",
       "    <tr>\n",
       "      <th>1</th>\n",
       "      <td>Category:Baptism of Fire characters</td>\n",
       "      <td>Adela</td>\n",
       "    </tr>\n",
       "    <tr>\n",
       "      <th>2</th>\n",
       "      <td>Category:Baptism of Fire characters</td>\n",
       "      <td>Aen Saevherne</td>\n",
       "    </tr>\n",
       "    <tr>\n",
       "      <th>3</th>\n",
       "      <td>Category:Baptism of Fire characters</td>\n",
       "      <td>Aevenien</td>\n",
       "    </tr>\n",
       "    <tr>\n",
       "      <th>4</th>\n",
       "      <td>Category:Baptism of Fire characters</td>\n",
       "      <td>Aglaïs</td>\n",
       "    </tr>\n",
       "    <tr>\n",
       "      <th>...</th>\n",
       "      <td>...</td>\n",
       "      <td>...</td>\n",
       "    </tr>\n",
       "    <tr>\n",
       "      <th>1270</th>\n",
       "      <td>Category:Time of Contempt characters</td>\n",
       "      <td>Yanna of Murivel</td>\n",
       "    </tr>\n",
       "    <tr>\n",
       "      <th>1271</th>\n",
       "      <td>Category:Time of Contempt characters</td>\n",
       "      <td>Yarpen Zigrin</td>\n",
       "    </tr>\n",
       "    <tr>\n",
       "      <th>1272</th>\n",
       "      <td>Category:Time of Contempt characters</td>\n",
       "      <td>Yennefer of Vengerberg</td>\n",
       "    </tr>\n",
       "    <tr>\n",
       "      <th>1273</th>\n",
       "      <td>Category:Time of Contempt characters</td>\n",
       "      <td>Yiolenta Suarez</td>\n",
       "    </tr>\n",
       "    <tr>\n",
       "      <th>1274</th>\n",
       "      <td>Category:Time of Contempt characters</td>\n",
       "      <td>Zyvik</td>\n",
       "    </tr>\n",
       "  </tbody>\n",
       "</table>\n",
       "<p>1275 rows × 2 columns</p>\n",
       "</div>"
      ],
      "text/plain": [
       "                                      Book               Character\n",
       "0      Category:Baptism of Fire characters                  Adalia\n",
       "1      Category:Baptism of Fire characters                   Adela\n",
       "2      Category:Baptism of Fire characters           Aen Saevherne\n",
       "3      Category:Baptism of Fire characters                Aevenien\n",
       "4      Category:Baptism of Fire characters                  Aglaïs\n",
       "...                                    ...                     ...\n",
       "1270  Category:Time of Contempt characters        Yanna of Murivel\n",
       "1271  Category:Time of Contempt characters           Yarpen Zigrin\n",
       "1272  Category:Time of Contempt characters  Yennefer of Vengerberg\n",
       "1273  Category:Time of Contempt characters         Yiolenta Suarez\n",
       "1274  Category:Time of Contempt characters                   Zyvik\n",
       "\n",
       "[1275 rows x 2 columns]"
      ]
     },
     "execution_count": 31,
     "metadata": {},
     "output_type": "execute_result"
    }
   ],
   "source": [
    "df = pd.DataFrame(character_list)\n",
    "df "
   ]
  },
  {
   "cell_type": "code",
   "execution_count": 37,
   "metadata": {},
   "outputs": [
    {
     "data": {
      "image/png": "[encoded data removed]",
      "text/plain": [
       "<Figure size 640x480 with 1 Axes>"
      ]
     },
     "metadata": {},
     "output_type": "display_data"
    }
   ],
   "source": [
    "import matplotlib.pyplot as plt\n",
    "df['Book'].value_counts().plot(kind='bar')\n",
    "plt.show()"
   ]
  },
  {
   "cell_type": "code",
   "execution_count": 38,
   "metadata": {},
   "outputs": [
    {
     "data": {
      "text/plain": [
       "Category:The Lady of the Lake characters                   200\n",
       "Category:Time of Contempt characters                       196\n",
       "Category:The Tower of the Swallow characters               186\n",
       "Category:Baptism of Fire characters                        147\n",
       "Category:The Last Wish characters                          126\n",
       "Category:Blood of Elves characters                         123\n",
       "Category:Sword of Destiny characters                       117\n",
       "Category:Season of Storms characters                       106\n",
       "Category:Something Ends, Something Begins characters        70\n",
       "Category:Szpony i kły characters                             3\n",
       "Category:Tales from the world of The Witcher characters      1\n",
       "Name: Book, dtype: int64"
      ]
     },
     "execution_count": 38,
     "metadata": {},
     "output_type": "execute_result"
    }
   ],
   "source": [
    "df['Book'].value_counts()"
   ]
  },
  {
   "cell_type": "code",
   "execution_count": null,
   "metadata": {},
   "outputs": [],
   "source": []
  }
 ],
 "metadata": {
  "kernelspec": {
   "display_name": "Python 3.10.0 64-bit",
   "language": "python",
   "name": "python3"
  },
  "language_info": {
   "codemirror_mode": {
    "name": "ipython",
    "version": 3
   },
   "file_extension": ".py",
   "mimetype": "text/x-python",
   "name": "python",
   "nbconvert_exporter": "python",
   "pygments_lexer": "ipython3",
   "version": "3.10.0"
  },
  "orig_nbformat": 4,
  "vscode": {
   "interpreter": {
    "hash": "369f2c481f4da34e4445cda3fffd2e751bd1c4d706f27375911949ba6bb62e1c"
   }
  }
 },
 "nbformat": 4,
 "nbformat_minor": 2
}
