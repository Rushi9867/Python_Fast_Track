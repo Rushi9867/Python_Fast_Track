{
 "cells": [
  {
   "cell_type": "markdown",
   "metadata": {},
   "source": [
    "### MYSQL\n",
    "8/6/2022"
   ]
  },
  {
   "cell_type": "code",
   "execution_count": 1,
   "metadata": {},
   "outputs": [
    {
     "name": "stdout",
     "output_type": "stream",
     "text": [
      "[('carbon',), ('fitbit',), ('glass',), ('information_schema',), ('mysql',), ('performance_schema',), ('raudin',), ('raudin1',), ('rushi1',), ('sakila',), ('student',), ('student1',), ('sys',), ('test123',), ('world',)]\n"
     ]
    }
   ],
   "source": [
    "import mysql.connector as connection\n",
    "\n",
    "try:\n",
    "    mydb = connection.connect(host=\"localhost\",user=\"root\",passwd=\"R@ud!n$0903\",use_pure=True)\n",
    "\n",
    "    query = \"SHOW DATABASES\"\n",
    "\n",
    "    cursor = mydb.cursor()\n",
    "    cursor.execute(query)\n",
    "    print(cursor.fetchall())\n",
    "\n",
    "except Exception as e:\n",
    "    mydb.close()\n",
    "    print(str(e))"
   ]
  },
  {
   "cell_type": "code",
   "execution_count": 2,
   "metadata": {},
   "outputs": [],
   "source": [
    "conn = connection.connect(host=\"localhost\",user=\"root\",passwd=\"R@ud!n$0903\",use_pure=True)"
   ]
  },
  {
   "cell_type": "code",
   "execution_count": 3,
   "metadata": {},
   "outputs": [
    {
     "data": {
      "text/plain": [
       "<mysql.connector.cursor.MySQLCursor at 0x1f257c2beb0>"
      ]
     },
     "execution_count": 3,
     "metadata": {},
     "output_type": "execute_result"
    }
   ],
   "source": [
    "conn.cursor()"
   ]
  },
  {
   "cell_type": "code",
   "execution_count": 4,
   "metadata": {},
   "outputs": [],
   "source": [
    "cur = conn.cursor()"
   ]
  },
  {
   "cell_type": "code",
   "execution_count": 5,
   "metadata": {},
   "outputs": [
    {
     "data": {
      "text/plain": [
       "NoneType"
      ]
     },
     "execution_count": 5,
     "metadata": {},
     "output_type": "execute_result"
    }
   ],
   "source": [
    "type(cur.execute(\"Show Databases\"))"
   ]
  },
  {
   "cell_type": "code",
   "execution_count": 6,
   "metadata": {},
   "outputs": [
    {
     "data": {
      "text/plain": [
       "[('carbon',),\n",
       " ('fitbit',),\n",
       " ('glass',),\n",
       " ('information_schema',),\n",
       " ('mysql',),\n",
       " ('performance_schema',),\n",
       " ('raudin',),\n",
       " ('raudin1',),\n",
       " ('rushi1',),\n",
       " ('sakila',),\n",
       " ('student',),\n",
       " ('student1',),\n",
       " ('sys',),\n",
       " ('test123',),\n",
       " ('world',)]"
      ]
     },
     "execution_count": 6,
     "metadata": {},
     "output_type": "execute_result"
    }
   ],
   "source": [
    "res = cur.fetchall()\n",
    "res"
   ]
  },
  {
   "cell_type": "code",
   "execution_count": 7,
   "metadata": {},
   "outputs": [
    {
     "name": "stdout",
     "output_type": "stream",
     "text": [
      "carbon\n",
      "fitbit\n",
      "glass\n",
      "information_schema\n",
      "mysql\n",
      "performance_schema\n",
      "raudin\n",
      "raudin1\n",
      "rushi1\n",
      "sakila\n",
      "student\n",
      "student1\n",
      "sys\n",
      "test123\n",
      "world\n"
     ]
    }
   ],
   "source": [
    "for i in res:\n",
    "    print(i[0])"
   ]
  },
  {
   "cell_type": "code",
   "execution_count": 8,
   "metadata": {},
   "outputs": [
    {
     "name": "stdout",
     "output_type": "stream",
     "text": [
      "True\n",
      "Database Created!!\n"
     ]
    }
   ],
   "source": [
    "import mysql.connector as connection \n",
    "\n",
    "try:\n",
    "    mydb = connection.connect(host=\"localhost\",user=\"root\",passwd=\"R@ud!n$0903\",use_pure=True)\n",
    "    print(mydb.is_connected())\n",
    "    query = \"Drop Database IF EXISTS Student\"\n",
    "    query1 = \"Create Database Student;\"\n",
    "    cursor = mydb.cursor()\n",
    "    cursor.execute(query)\n",
    "    cursor.execute(query1)\n",
    "    print(\"Database Created!!\")\n",
    "    mydb.close()\n",
    "except Exception as e:\n",
    "    mydb.close()\n",
    "    print(str(e))"
   ]
  },
  {
   "cell_type": "code",
   "execution_count": 9,
   "metadata": {},
   "outputs": [
    {
     "name": "stdout",
     "output_type": "stream",
     "text": [
      "True\n",
      "93\n"
     ]
    }
   ],
   "source": [
    "mydb = connection.connect(host=\"localhost\",database = \"Student\" ,user=\"root\",passwd=\"R@ud!n$0903\",use_pure=True)\n",
    "print(mydb.is_connected())\n",
    "print(mydb.connection_id)"
   ]
  },
  {
   "cell_type": "code",
   "execution_count": 10,
   "metadata": {},
   "outputs": [],
   "source": [
    "cur = mydb.cursor()\n",
    "cur.execute(\"Create Table test(x1 INT(5),x2 VARCHAR(20), x3 DATE)\")"
   ]
  },
  {
   "cell_type": "code",
   "execution_count": 11,
   "metadata": {},
   "outputs": [],
   "source": [
    "cur = mydb.cursor()\n",
    "cur.execute(\"Insert into test VALUES(5,'HI','2022-06-08')\")"
   ]
  },
  {
   "cell_type": "code",
   "execution_count": 12,
   "metadata": {},
   "outputs": [],
   "source": [
    "mydb.commit()"
   ]
  },
  {
   "cell_type": "code",
   "execution_count": 13,
   "metadata": {},
   "outputs": [],
   "source": [
    "cur.execute(\"Insert into test VALUES(8,'Rushi','2022-06-08')\")"
   ]
  },
  {
   "cell_type": "code",
   "execution_count": 14,
   "metadata": {},
   "outputs": [],
   "source": [
    "cur.execute(\"Insert into test VALUES(15,'Sangam','2022-06-08')\")\n",
    "cur.execute(\"Insert into test VALUES(87,'Viraj','2022-06-08')\")\n",
    "cur.execute(\"Insert into test VALUES(98,'Pritam','2022-06-08')\")\n",
    "cur.execute(\"Insert into test VALUES(54,'Suchit','2022-06-08')\")\n",
    "cur.execute(\"Insert into test VALUES(34,'Vandana','2022-06-08')\")\n",
    "cur.execute(\"Insert into test VALUES(9,'Saurabh','2022-06-08')\")\n",
    "cur.execute(\"Insert into test VALUES(6,'Musab','2022-06-08')\")"
   ]
  },
  {
   "cell_type": "code",
   "execution_count": 15,
   "metadata": {},
   "outputs": [],
   "source": [
    "mydb.commit()"
   ]
  },
  {
   "cell_type": "markdown",
   "metadata": {},
   "source": [
    "Fetch the Data"
   ]
  },
  {
   "cell_type": "code",
   "execution_count": 16,
   "metadata": {},
   "outputs": [
    {
     "data": {
      "text/plain": [
       "[(5, 'HI', datetime.date(2022, 6, 8)),\n",
       " (8, 'Rushi', datetime.date(2022, 6, 8)),\n",
       " (15, 'Sangam', datetime.date(2022, 6, 8)),\n",
       " (87, 'Viraj', datetime.date(2022, 6, 8)),\n",
       " (98, 'Pritam', datetime.date(2022, 6, 8)),\n",
       " (54, 'Suchit', datetime.date(2022, 6, 8)),\n",
       " (34, 'Vandana', datetime.date(2022, 6, 8)),\n",
       " (9, 'Saurabh', datetime.date(2022, 6, 8)),\n",
       " (6, 'Musab', datetime.date(2022, 6, 8))]"
      ]
     },
     "execution_count": 16,
     "metadata": {},
     "output_type": "execute_result"
    }
   ],
   "source": [
    "cur.execute(\"select *from test\")\n",
    "cur.fetchall()"
   ]
  },
  {
   "cell_type": "code",
   "execution_count": 17,
   "metadata": {},
   "outputs": [
    {
     "name": "stdout",
     "output_type": "stream",
     "text": [
      "(5, 'HI')\n",
      "(8, 'Rushi')\n",
      "(15, 'Sangam')\n",
      "(87, 'Viraj')\n",
      "(98, 'Pritam')\n",
      "(54, 'Suchit')\n",
      "(34, 'Vandana')\n",
      "(9, 'Saurabh')\n",
      "(6, 'Musab')\n"
     ]
    }
   ],
   "source": [
    "cur.execute(\"select x1,x2 from test\")\n",
    "for i in cur.fetchall():\n",
    "    print(i)"
   ]
  },
  {
   "cell_type": "code",
   "execution_count": 18,
   "metadata": {},
   "outputs": [],
   "source": [
    "import pandas as pd\n",
    "import csv"
   ]
  },
  {
   "cell_type": "code",
   "execution_count": 20,
   "metadata": {},
   "outputs": [
    {
     "data": {
      "text/plain": [
       "True"
      ]
     },
     "execution_count": 20,
     "metadata": {},
     "output_type": "execute_result"
    }
   ],
   "source": [
    "mydb.is_connected()"
   ]
  },
  {
   "cell_type": "code",
   "execution_count": 21,
   "metadata": {},
   "outputs": [
    {
     "data": {
      "text/html": [
       "<div>\n",
       "<style scoped>\n",
       "    .dataframe tbody tr th:only-of-type {\n",
       "        vertical-align: middle;\n",
       "    }\n",
       "\n",
       "    .dataframe tbody tr th {\n",
       "        vertical-align: top;\n",
       "    }\n",
       "\n",
       "    .dataframe thead th {\n",
       "        text-align: right;\n",
       "    }\n",
       "</style>\n",
       "<table border=\"1\" class=\"dataframe\">\n",
       "  <thead>\n",
       "    <tr style=\"text-align: right;\">\n",
       "      <th></th>\n",
       "      <th>x1</th>\n",
       "      <th>x2</th>\n",
       "      <th>x3</th>\n",
       "    </tr>\n",
       "  </thead>\n",
       "  <tbody>\n",
       "    <tr>\n",
       "      <th>0</th>\n",
       "      <td>5</td>\n",
       "      <td>HI</td>\n",
       "      <td>2022-06-08</td>\n",
       "    </tr>\n",
       "    <tr>\n",
       "      <th>1</th>\n",
       "      <td>8</td>\n",
       "      <td>Rushi</td>\n",
       "      <td>2022-06-08</td>\n",
       "    </tr>\n",
       "    <tr>\n",
       "      <th>2</th>\n",
       "      <td>15</td>\n",
       "      <td>Sangam</td>\n",
       "      <td>2022-06-08</td>\n",
       "    </tr>\n",
       "    <tr>\n",
       "      <th>3</th>\n",
       "      <td>87</td>\n",
       "      <td>Viraj</td>\n",
       "      <td>2022-06-08</td>\n",
       "    </tr>\n",
       "    <tr>\n",
       "      <th>4</th>\n",
       "      <td>98</td>\n",
       "      <td>Pritam</td>\n",
       "      <td>2022-06-08</td>\n",
       "    </tr>\n",
       "    <tr>\n",
       "      <th>5</th>\n",
       "      <td>54</td>\n",
       "      <td>Suchit</td>\n",
       "      <td>2022-06-08</td>\n",
       "    </tr>\n",
       "    <tr>\n",
       "      <th>6</th>\n",
       "      <td>34</td>\n",
       "      <td>Vandana</td>\n",
       "      <td>2022-06-08</td>\n",
       "    </tr>\n",
       "    <tr>\n",
       "      <th>7</th>\n",
       "      <td>9</td>\n",
       "      <td>Saurabh</td>\n",
       "      <td>2022-06-08</td>\n",
       "    </tr>\n",
       "    <tr>\n",
       "      <th>8</th>\n",
       "      <td>6</td>\n",
       "      <td>Musab</td>\n",
       "      <td>2022-06-08</td>\n",
       "    </tr>\n",
       "  </tbody>\n",
       "</table>\n",
       "</div>"
      ],
      "text/plain": [
       "   x1       x2          x3\n",
       "0   5       HI  2022-06-08\n",
       "1   8    Rushi  2022-06-08\n",
       "2  15   Sangam  2022-06-08\n",
       "3  87    Viraj  2022-06-08\n",
       "4  98   Pritam  2022-06-08\n",
       "5  54   Suchit  2022-06-08\n",
       "6  34  Vandana  2022-06-08\n",
       "7   9  Saurabh  2022-06-08\n",
       "8   6    Musab  2022-06-08"
      ]
     },
     "execution_count": 21,
     "metadata": {},
     "output_type": "execute_result"
    }
   ],
   "source": [
    "a = pd.read_sql(\"select *from Student.test\",mydb)\n",
    "a"
   ]
  },
  {
   "cell_type": "code",
   "execution_count": 22,
   "metadata": {},
   "outputs": [],
   "source": [
    "a.to_csv(\"mydata.csv\")"
   ]
  },
  {
   "cell_type": "code",
   "execution_count": 23,
   "metadata": {},
   "outputs": [],
   "source": [
    "cur = mydb.cursor()\n",
    "cur.execute(\"Create table mydata(n1 int(20) , n2 varchar(20), n3 date)\")"
   ]
  },
  {
   "cell_type": "code",
   "execution_count": 24,
   "metadata": {},
   "outputs": [
    {
     "data": {
      "text/html": [
       "<div>\n",
       "<style scoped>\n",
       "    .dataframe tbody tr th:only-of-type {\n",
       "        vertical-align: middle;\n",
       "    }\n",
       "\n",
       "    .dataframe tbody tr th {\n",
       "        vertical-align: top;\n",
       "    }\n",
       "\n",
       "    .dataframe thead th {\n",
       "        text-align: right;\n",
       "    }\n",
       "</style>\n",
       "<table border=\"1\" class=\"dataframe\">\n",
       "  <thead>\n",
       "    <tr style=\"text-align: right;\">\n",
       "      <th></th>\n",
       "      <th>Unnamed: 0</th>\n",
       "      <th>x1</th>\n",
       "      <th>x2</th>\n",
       "      <th>x3</th>\n",
       "    </tr>\n",
       "  </thead>\n",
       "  <tbody>\n",
       "    <tr>\n",
       "      <th>0</th>\n",
       "      <td>0</td>\n",
       "      <td>5</td>\n",
       "      <td>HI</td>\n",
       "      <td>2022-06-08</td>\n",
       "    </tr>\n",
       "    <tr>\n",
       "      <th>1</th>\n",
       "      <td>1</td>\n",
       "      <td>8</td>\n",
       "      <td>Rushi</td>\n",
       "      <td>2022-06-08</td>\n",
       "    </tr>\n",
       "    <tr>\n",
       "      <th>2</th>\n",
       "      <td>2</td>\n",
       "      <td>15</td>\n",
       "      <td>Sangam</td>\n",
       "      <td>2022-06-08</td>\n",
       "    </tr>\n",
       "    <tr>\n",
       "      <th>3</th>\n",
       "      <td>3</td>\n",
       "      <td>87</td>\n",
       "      <td>Viraj</td>\n",
       "      <td>2022-06-08</td>\n",
       "    </tr>\n",
       "    <tr>\n",
       "      <th>4</th>\n",
       "      <td>4</td>\n",
       "      <td>98</td>\n",
       "      <td>Pritam</td>\n",
       "      <td>2022-06-08</td>\n",
       "    </tr>\n",
       "    <tr>\n",
       "      <th>5</th>\n",
       "      <td>5</td>\n",
       "      <td>54</td>\n",
       "      <td>Suchit</td>\n",
       "      <td>2022-06-08</td>\n",
       "    </tr>\n",
       "    <tr>\n",
       "      <th>6</th>\n",
       "      <td>6</td>\n",
       "      <td>34</td>\n",
       "      <td>Vandana</td>\n",
       "      <td>2022-06-08</td>\n",
       "    </tr>\n",
       "    <tr>\n",
       "      <th>7</th>\n",
       "      <td>7</td>\n",
       "      <td>9</td>\n",
       "      <td>Saurabh</td>\n",
       "      <td>2022-06-08</td>\n",
       "    </tr>\n",
       "    <tr>\n",
       "      <th>8</th>\n",
       "      <td>8</td>\n",
       "      <td>6</td>\n",
       "      <td>Musab</td>\n",
       "      <td>2022-06-08</td>\n",
       "    </tr>\n",
       "  </tbody>\n",
       "</table>\n",
       "</div>"
      ],
      "text/plain": [
       "   Unnamed: 0  x1       x2          x3\n",
       "0           0   5       HI  2022-06-08\n",
       "1           1   8    Rushi  2022-06-08\n",
       "2           2  15   Sangam  2022-06-08\n",
       "3           3  87    Viraj  2022-06-08\n",
       "4           4  98   Pritam  2022-06-08\n",
       "5           5  54   Suchit  2022-06-08\n",
       "6           6  34  Vandana  2022-06-08\n",
       "7           7   9  Saurabh  2022-06-08\n",
       "8           8   6    Musab  2022-06-08"
      ]
     },
     "execution_count": 24,
     "metadata": {},
     "output_type": "execute_result"
    }
   ],
   "source": [
    "data = pd.read_csv('mydata.csv')\n",
    "data"
   ]
  },
  {
   "cell_type": "code",
   "execution_count": 25,
   "metadata": {},
   "outputs": [
    {
     "data": {
      "text/html": [
       "<div>\n",
       "<style scoped>\n",
       "    .dataframe tbody tr th:only-of-type {\n",
       "        vertical-align: middle;\n",
       "    }\n",
       "\n",
       "    .dataframe tbody tr th {\n",
       "        vertical-align: top;\n",
       "    }\n",
       "\n",
       "    .dataframe thead th {\n",
       "        text-align: right;\n",
       "    }\n",
       "</style>\n",
       "<table border=\"1\" class=\"dataframe\">\n",
       "  <thead>\n",
       "    <tr style=\"text-align: right;\">\n",
       "      <th></th>\n",
       "      <th>x1</th>\n",
       "      <th>x2</th>\n",
       "      <th>x3</th>\n",
       "    </tr>\n",
       "  </thead>\n",
       "  <tbody>\n",
       "    <tr>\n",
       "      <th>0</th>\n",
       "      <td>5</td>\n",
       "      <td>HI</td>\n",
       "      <td>2022-06-08</td>\n",
       "    </tr>\n",
       "    <tr>\n",
       "      <th>1</th>\n",
       "      <td>8</td>\n",
       "      <td>Rushi</td>\n",
       "      <td>2022-06-08</td>\n",
       "    </tr>\n",
       "    <tr>\n",
       "      <th>2</th>\n",
       "      <td>15</td>\n",
       "      <td>Sangam</td>\n",
       "      <td>2022-06-08</td>\n",
       "    </tr>\n",
       "    <tr>\n",
       "      <th>3</th>\n",
       "      <td>87</td>\n",
       "      <td>Viraj</td>\n",
       "      <td>2022-06-08</td>\n",
       "    </tr>\n",
       "    <tr>\n",
       "      <th>4</th>\n",
       "      <td>98</td>\n",
       "      <td>Pritam</td>\n",
       "      <td>2022-06-08</td>\n",
       "    </tr>\n",
       "    <tr>\n",
       "      <th>5</th>\n",
       "      <td>54</td>\n",
       "      <td>Suchit</td>\n",
       "      <td>2022-06-08</td>\n",
       "    </tr>\n",
       "    <tr>\n",
       "      <th>6</th>\n",
       "      <td>34</td>\n",
       "      <td>Vandana</td>\n",
       "      <td>2022-06-08</td>\n",
       "    </tr>\n",
       "    <tr>\n",
       "      <th>7</th>\n",
       "      <td>9</td>\n",
       "      <td>Saurabh</td>\n",
       "      <td>2022-06-08</td>\n",
       "    </tr>\n",
       "    <tr>\n",
       "      <th>8</th>\n",
       "      <td>6</td>\n",
       "      <td>Musab</td>\n",
       "      <td>2022-06-08</td>\n",
       "    </tr>\n",
       "  </tbody>\n",
       "</table>\n",
       "</div>"
      ],
      "text/plain": [
       "   x1       x2          x3\n",
       "0   5       HI  2022-06-08\n",
       "1   8    Rushi  2022-06-08\n",
       "2  15   Sangam  2022-06-08\n",
       "3  87    Viraj  2022-06-08\n",
       "4  98   Pritam  2022-06-08\n",
       "5  54   Suchit  2022-06-08\n",
       "6  34  Vandana  2022-06-08\n",
       "7   9  Saurabh  2022-06-08\n",
       "8   6    Musab  2022-06-08"
      ]
     },
     "execution_count": 25,
     "metadata": {},
     "output_type": "execute_result"
    }
   ],
   "source": [
    "pd.read_sql('select *from test',mydb)"
   ]
  },
  {
   "cell_type": "code",
   "execution_count": 1,
   "metadata": {},
   "outputs": [
    {
     "data": {
      "text/plain": [
       "True"
      ]
     },
     "execution_count": 1,
     "metadata": {},
     "output_type": "execute_result"
    }
   ],
   "source": [
    "import mysql.connector as connection\n",
    "mydb = connection.connect(host=\"localhost\" , user=\"root\", passwd=\"R@ud!n$0903\",use_pure=True)\n",
    "mydb.is_connected()"
   ]
  },
  {
   "cell_type": "code",
   "execution_count": 2,
   "metadata": {},
   "outputs": [],
   "source": [
    "cur = mydb.cursor()\n",
    "cur.execute(\"Drop Database IF EXISTS Glass\")\n",
    "cur.execute(\"Create Database Glass\")\n",
    "cur.execute(\"CREATE TABLE Glass.GlassData1 (Index_Number INT(10),RI float(10,5), Na float(10,5), Mg float(10,5),Al float(10,5),\" \\\n",
    "            \" Si float(10,5), K float(10,5), Ca float(10,5), Ba float(10,5), Fe float(10,5), Class INT(5))\")"
   ]
  },
  {
   "cell_type": "code",
   "execution_count": 3,
   "metadata": {},
   "outputs": [
    {
     "name": "stdout",
     "output_type": "stream",
     "text": [
      "<_csv.reader object at 0x00000246A32B8220>\n",
      "all the data inserted \n"
     ]
    }
   ],
   "source": [
    "import csv\n",
    "with open(\"D:\\Python Programs\\Basic\\DataBase\\glass.data\",\"r\") as data:\n",
    "    next(data)\n",
    "    data_csv = csv.reader(data,delimiter=\"\\n\")\n",
    "    print(data_csv)\n",
    "    for i in enumerate(data_csv):\n",
    "        #print(i)\n",
    "        for j in i[1]:\n",
    "            #print(type(j))\n",
    "            cur.execute('insert into Glass.GlassData1 values ({data})'.format(data=(j)))\n",
    "    print(\"all the data inserted \")\n",
    "mydb.commit()"
   ]
  },
  {
   "cell_type": "code",
   "execution_count": 4,
   "metadata": {},
   "outputs": [
    {
     "name": "stdout",
     "output_type": "stream",
     "text": [
      "<_csv.reader object at 0x00000246A31C59C0>\n",
      "all the data inserted\n"
     ]
    }
   ],
   "source": [
    "import csv\n",
    "cur = mydb.cursor()\n",
    "cur.execute(\"CREATE TABLE Glass.GlassData2 (Index_Number INT(10),RI float(10,5), Na float(10,5), Mg float(10,5),Al float(10,5),\" \\\n",
    "            \" Si float(10,5), K float(10,5), Ca float(10,5), Ba float(10,5), Fe float(10,5), Class INT(5))\")\n",
    "with open(\"D:\\Python Programs\\Basic\\DataBase\\glass.data\",\"r\") as data:\n",
    "    next(data)\n",
    "    data_csv = csv.reader(data,delimiter=\"\\n\")\n",
    "    print(data_csv)\n",
    "    for j in data_csv:\n",
    "        cur.execute(\"insert into Glass.GlassData2 values({data})\".format(data=(str(j[0]))))\n",
    "    print(\"all the data inserted\")\n",
    "mydb.commit()"
   ]
  },
  {
   "cell_type": "markdown",
   "metadata": {},
   "source": [
    "9/6/2022"
   ]
  },
  {
   "cell_type": "code",
   "execution_count": 34,
   "metadata": {},
   "outputs": [
    {
     "data": {
      "text/plain": [
       "True"
      ]
     },
     "execution_count": 34,
     "metadata": {},
     "output_type": "execute_result"
    }
   ],
   "source": [
    "import mysql.connector as connect \n",
    "mydb = connection.connect(host=\"localhost\" , user = \"root\" ,passwd = \"R@ud!n$0903\" ,use_pure = True)\n",
    "mydb.is_connected()"
   ]
  },
  {
   "cell_type": "code",
   "execution_count": 35,
   "metadata": {},
   "outputs": [],
   "source": [
    "cur = mydb.cursor()\n",
    "cur.execute(\"Drop Database IF EXISTS raudin1\")\n",
    "cur.execute(\"Create DataBase raudin1\")"
   ]
  },
  {
   "cell_type": "code",
   "execution_count": 36,
   "metadata": {},
   "outputs": [],
   "source": [
    "mydb = connection.connect(host=\"localhost\",database=\"raudin1\",user=\"root\",passwd=\"R@ud!n$0903\",use_pure=True)\n",
    "cur = mydb.cursor()\n",
    "cur.execute(\"Create Table Book(bookid int(4),Title varchar(20) , Price float(5,2))\")"
   ]
  },
  {
   "cell_type": "code",
   "execution_count": 37,
   "metadata": {},
   "outputs": [],
   "source": [
    "cur.execute(\"INSERT INTO BOOK(bookid,Title,Price) VALUES (1,'Python',345)\")\n",
    "mydb.commit()"
   ]
  },
  {
   "cell_type": "code",
   "execution_count": 38,
   "metadata": {},
   "outputs": [],
   "source": [
    "S = \"INSERT INTO BOOK(bookid,Title,Price) VALUES (%s,%s,%s)\"\n",
    "books = [(2,'Statistics',135),(3,'Machine Learning',450),(4,'NLP',200),(5,'CV',267),(6,'AIOPS',324)]\n",
    "cur.executemany(S,books)\n",
    "mydb.commit()"
   ]
  },
  {
   "cell_type": "code",
   "execution_count": 39,
   "metadata": {},
   "outputs": [
    {
     "data": {
      "text/plain": [
       "[(1, 'Python', 345.0),\n",
       " (2, 'Statistics', 135.0),\n",
       " (3, 'Machine Learning', 450.0),\n",
       " (4, 'NLP', 200.0),\n",
       " (5, 'CV', 267.0),\n",
       " (6, 'AIOPS', 324.0)]"
      ]
     },
     "execution_count": 39,
     "metadata": {},
     "output_type": "execute_result"
    }
   ],
   "source": [
    "cur.execute(\"Select *from book\")\n",
    "result = cur.fetchall()\n",
    "result"
   ]
  },
  {
   "cell_type": "code",
   "execution_count": 40,
   "metadata": {},
   "outputs": [],
   "source": [
    "cur.execute(\"UPDATE book SET Price = Price+10 WHERE Price >= 200\")\n",
    "mydb.commit()"
   ]
  },
  {
   "cell_type": "code",
   "execution_count": 41,
   "metadata": {},
   "outputs": [
    {
     "data": {
      "text/plain": [
       "[(1, 'Python', 355.0),\n",
       " (2, 'Statistics', 135.0),\n",
       " (3, 'Machine Learning', 460.0),\n",
       " (4, 'NLP', 210.0),\n",
       " (5, 'CV', 277.0),\n",
       " (6, 'AIOPS', 334.0)]"
      ]
     },
     "execution_count": 41,
     "metadata": {},
     "output_type": "execute_result"
    }
   ],
   "source": [
    "cur.execute(\"Select *from book\")\n",
    "result = cur.fetchall()\n",
    "result"
   ]
  },
  {
   "cell_type": "code",
   "execution_count": 42,
   "metadata": {},
   "outputs": [],
   "source": [
    "cur.execute(\"DELETE FROM book WHERE Price < 200\")\n",
    "mydb.commit()"
   ]
  },
  {
   "cell_type": "code",
   "execution_count": 43,
   "metadata": {},
   "outputs": [
    {
     "data": {
      "text/plain": [
       "'d:\\\\Python Programs\\\\Basic\\\\DataBase'"
      ]
     },
     "execution_count": 43,
     "metadata": {},
     "output_type": "execute_result"
    }
   ],
   "source": [
    "pwd"
   ]
  },
  {
   "cell_type": "markdown",
   "metadata": {},
   "source": [
    "### Carbon Nanotubes Data"
   ]
  },
  {
   "cell_type": "markdown",
   "metadata": {},
   "source": [
    "https://archive.ics.uci.edu/ml/machine-learning-databases/00448/"
   ]
  },
  {
   "cell_type": "code",
   "execution_count": 2,
   "metadata": {},
   "outputs": [
    {
     "name": "stderr",
     "output_type": "stream",
     "text": [
      "2022-09-05 19:48:58,666 - Logging Started\n",
      "2022-09-05 19:48:58,666 - Logging Started\n",
      "2022-09-05 19:48:58,679 - Establishing connection........\n",
      "2022-09-05 19:48:58,679 - Establishing connection........\n",
      "2022-09-05 19:48:58,680 - Connection Established with the database!!\n",
      "2022-09-05 19:48:58,680 - Connection Established with the database!!\n",
      "2022-09-05 19:48:58,709 - Creating Table.......\n",
      "2022-09-05 19:48:58,709 - Creating Table.......\n",
      "2022-09-05 19:48:58,750 - Table Created!!\n",
      "2022-09-05 19:48:58,750 - Table Created!!\n",
      "2022-09-05 19:48:58,752 - Starting Record insertion....\n",
      "\n",
      "2022-09-05 19:48:58,752 - Starting Record insertion....\n",
      "\n",
      "2022-09-05 19:49:00,963 - Record 10721 Inserted\n",
      "2022-09-05 19:49:00,963 - Record 10721 Inserted\n",
      "2022-09-05 19:49:00,964 - All Records Inserted\n",
      "2022-09-05 19:49:00,964 - All Records Inserted\n",
      "2022-09-05 19:49:00,980 - Connection Closed\n",
      "2022-09-05 19:49:00,980 - Connection Closed\n"
     ]
    }
   ],
   "source": [
    "import mysql.connector as connection\n",
    "import csv\n",
    "import logging as lg\n",
    "import os \n",
    "\n",
    "if os.path.exists('database.log'):\n",
    "    os.remove('database.log')\n",
    "\n",
    "lg.basicConfig(filename = 'database.log',level=lg.INFO,format='%(asctime)s - %(message)s')\n",
    "console_log = lg.StreamHandler()\n",
    "console_log.setLevel(lg.DEBUG)\n",
    "format = lg.Formatter('%(asctime)s - %(message)s')\n",
    "console_log.setFormatter(format)\n",
    "lg.getLogger('').addHandler(console_log)\n",
    "lg.info(\"Logging Started\")\n",
    "\n",
    "try:\n",
    "    mydb = connection.connect(host=\"localhost\",database=\"Carbon\",user=\"root\",passwd=\"R@ud!n$0903\")\n",
    "    if mydb.is_connected():\n",
    "        lg.info('Establishing connection........')\n",
    "        lg.info('Connection Established with the database!!')\n",
    "\n",
    "        cur = mydb.cursor()\n",
    "        cur.execute('Drop TABLE IF EXISTS carbon_Nanotubes')\n",
    "        lg.info('Creating Table.......')\n",
    "        cur.execute(\"Create Table carbon_nanotubes(Chiral_indice_n INT(7), Chiracl_indice_m INT(7),Initial_atomic_coordinate_u INT(7),Initial_atomic_coordinate_v INT(7),Initial_atomic_coordinate_w INT(7),Calculated_atomic_coordinate_u INT(7),Calculated_atomic_coordiante_v INT(7),Calculated_atomic_coordinate_w INT(7))\")\n",
    "        lg.info(\"Table Created!!\")\n",
    "        \n",
    "        with open('carbon_nanotubes.csv','r') as data:\n",
    "            lg.info('Starting Record insertion....\\n')\n",
    "            next(data)\n",
    "            data_csv = csv.reader(data,delimiter='\\n')\n",
    "            for num,record in enumerate(data_csv,start = 1):\n",
    "                rec = record[0].split(';')\n",
    "                record_processed = [int(i.split(',')[1]) if len(i.split(',')) > 1 else int(i) for i in rec]\n",
    "                record_processed = ','.join([str(elem) for elem in record_processed])\n",
    "                cur.execute(\"Insert Into carbon_nanotubes values({values})\".format(values = record_processed))\n",
    "                \n",
    "        lg.info(f'Record {num} Inserted')\n",
    "        lg.info(\"All Records Inserted\")\n",
    "        mydb.commit()\n",
    "\n",
    "except Exception as e:\n",
    "    lg.error(str(e))\n",
    "    mydb.close()\n",
    "\n",
    "finally:\n",
    "    if mydb.is_connected():\n",
    "        cur.close()\n",
    "        lg.info(\"Connection Closed\")\n",
    "        lg.shutdown()"
   ]
  },
  {
   "cell_type": "code",
   "execution_count": 3,
   "metadata": {},
   "outputs": [
    {
     "name": "stderr",
     "output_type": "stream",
     "text": [
      "2022-09-05 19:49:42,708 - NumExpr defaulting to 4 threads.\n",
      "2022-09-05 19:49:42,708 - NumExpr defaulting to 4 threads.\n"
     ]
    },
    {
     "name": "stdout",
     "output_type": "stream",
     "text": [
      "True\n",
      "       Chiral_indice_n  Chiracl_indice_m  Initial_atomic_coordinate_u  \\\n",
      "0                    2                 1                       679005   \n",
      "1                    2                 1                       717298   \n",
      "2                    2                 1                       489336   \n",
      "3                    2                 1                       413957   \n",
      "4                    2                 1                       334292   \n",
      "...                ...               ...                          ...   \n",
      "10716               12                 6                       834201   \n",
      "10717               12                 6                       698374   \n",
      "10718               12                 6                       923823   \n",
      "10719               12                 6                       934978   \n",
      "10720               12                 6                       953664   \n",
      "\n",
      "       Initial_atomic_coordinate_v  Initial_atomic_coordinate_w  \\\n",
      "0                           701318                        17033   \n",
      "1                           642129                       231319   \n",
      "2                           303751                        88462   \n",
      "3                           632996                        40843   \n",
      "4                           543401                        15989   \n",
      "...                            ...                          ...   \n",
      "10716                       399891                        89127   \n",
      "10717                        24471                       962699   \n",
      "10718                       568913                       819842   \n",
      "10719                       602319                       938889   \n",
      "10720                       698374                       962699   \n",
      "\n",
      "       Calculated_atomic_coordinate_u  Calculated_atomic_coordiante_v  \\\n",
      "0                              721039                          730232   \n",
      "1                              738414                           65675   \n",
      "2                              477676                          263221   \n",
      "3                              408823                          657897   \n",
      "4                              303349                          558807   \n",
      "...                               ...                             ...   \n",
      "10716                          841858                          405882   \n",
      "10717                          706555                          248416   \n",
      "10718                          929403                          576284   \n",
      "10719                          941844                          610608   \n",
      "10720                          961243                          707812   \n",
      "\n",
      "       Calculated_atomic_coordinate_w  \n",
      "0                               17014  \n",
      "1                              232369  \n",
      "2                               88712  \n",
      "3                               39796  \n",
      "4                              157373  \n",
      "...                               ...  \n",
      "10716                          891356  \n",
      "10717                          962833  \n",
      "10718                          819879  \n",
      "10719                          938755  \n",
      "10720                          962605  \n",
      "\n",
      "[10721 rows x 8 columns]\n"
     ]
    }
   ],
   "source": [
    "import mysql.connector as connect\n",
    "import pandas as pd\n",
    "import csv \n",
    "mydb = connect.connect(host=\"localhost\",database=\"Carbon\",user=\"root\",passwd=\"R@ud!n$0903\")\n",
    "print(mydb.is_connected())\n",
    "a = pd.read_sql(\"select *from Carbon.carbon_nanotubes\",mydb)\n",
    "print(a)\n",
    "a.to_csv(\"New_Carbon_nanotubes.csv\")"
   ]
  },
  {
   "cell_type": "code",
   "execution_count": 4,
   "metadata": {},
   "outputs": [
    {
     "data": {
      "text/html": [
       "<div>\n",
       "<style scoped>\n",
       "    .dataframe tbody tr th:only-of-type {\n",
       "        vertical-align: middle;\n",
       "    }\n",
       "\n",
       "    .dataframe tbody tr th {\n",
       "        vertical-align: top;\n",
       "    }\n",
       "\n",
       "    .dataframe thead th {\n",
       "        text-align: right;\n",
       "    }\n",
       "</style>\n",
       "<table border=\"1\" class=\"dataframe\">\n",
       "  <thead>\n",
       "    <tr style=\"text-align: right;\">\n",
       "      <th></th>\n",
       "      <th>Unnamed: 0</th>\n",
       "      <th>Chiral_indice_n</th>\n",
       "      <th>Chiracl_indice_m</th>\n",
       "      <th>Initial_atomic_coordinate_u</th>\n",
       "      <th>Initial_atomic_coordinate_v</th>\n",
       "      <th>Initial_atomic_coordinate_w</th>\n",
       "      <th>Calculated_atomic_coordinate_u</th>\n",
       "      <th>Calculated_atomic_coordiante_v</th>\n",
       "      <th>Calculated_atomic_coordinate_w</th>\n",
       "    </tr>\n",
       "  </thead>\n",
       "  <tbody>\n",
       "    <tr>\n",
       "      <th>0</th>\n",
       "      <td>0</td>\n",
       "      <td>2</td>\n",
       "      <td>1</td>\n",
       "      <td>679005</td>\n",
       "      <td>701318</td>\n",
       "      <td>17033</td>\n",
       "      <td>721039</td>\n",
       "      <td>730232</td>\n",
       "      <td>17014</td>\n",
       "    </tr>\n",
       "    <tr>\n",
       "      <th>1</th>\n",
       "      <td>1</td>\n",
       "      <td>2</td>\n",
       "      <td>1</td>\n",
       "      <td>717298</td>\n",
       "      <td>642129</td>\n",
       "      <td>231319</td>\n",
       "      <td>738414</td>\n",
       "      <td>65675</td>\n",
       "      <td>232369</td>\n",
       "    </tr>\n",
       "    <tr>\n",
       "      <th>2</th>\n",
       "      <td>2</td>\n",
       "      <td>2</td>\n",
       "      <td>1</td>\n",
       "      <td>489336</td>\n",
       "      <td>303751</td>\n",
       "      <td>88462</td>\n",
       "      <td>477676</td>\n",
       "      <td>263221</td>\n",
       "      <td>88712</td>\n",
       "    </tr>\n",
       "    <tr>\n",
       "      <th>3</th>\n",
       "      <td>3</td>\n",
       "      <td>2</td>\n",
       "      <td>1</td>\n",
       "      <td>413957</td>\n",
       "      <td>632996</td>\n",
       "      <td>40843</td>\n",
       "      <td>408823</td>\n",
       "      <td>657897</td>\n",
       "      <td>39796</td>\n",
       "    </tr>\n",
       "    <tr>\n",
       "      <th>4</th>\n",
       "      <td>4</td>\n",
       "      <td>2</td>\n",
       "      <td>1</td>\n",
       "      <td>334292</td>\n",
       "      <td>543401</td>\n",
       "      <td>15989</td>\n",
       "      <td>303349</td>\n",
       "      <td>558807</td>\n",
       "      <td>157373</td>\n",
       "    </tr>\n",
       "    <tr>\n",
       "      <th>...</th>\n",
       "      <td>...</td>\n",
       "      <td>...</td>\n",
       "      <td>...</td>\n",
       "      <td>...</td>\n",
       "      <td>...</td>\n",
       "      <td>...</td>\n",
       "      <td>...</td>\n",
       "      <td>...</td>\n",
       "      <td>...</td>\n",
       "    </tr>\n",
       "    <tr>\n",
       "      <th>10716</th>\n",
       "      <td>10716</td>\n",
       "      <td>12</td>\n",
       "      <td>6</td>\n",
       "      <td>834201</td>\n",
       "      <td>399891</td>\n",
       "      <td>89127</td>\n",
       "      <td>841858</td>\n",
       "      <td>405882</td>\n",
       "      <td>891356</td>\n",
       "    </tr>\n",
       "    <tr>\n",
       "      <th>10717</th>\n",
       "      <td>10717</td>\n",
       "      <td>12</td>\n",
       "      <td>6</td>\n",
       "      <td>698374</td>\n",
       "      <td>24471</td>\n",
       "      <td>962699</td>\n",
       "      <td>706555</td>\n",
       "      <td>248416</td>\n",
       "      <td>962833</td>\n",
       "    </tr>\n",
       "    <tr>\n",
       "      <th>10718</th>\n",
       "      <td>10718</td>\n",
       "      <td>12</td>\n",
       "      <td>6</td>\n",
       "      <td>923823</td>\n",
       "      <td>568913</td>\n",
       "      <td>819842</td>\n",
       "      <td>929403</td>\n",
       "      <td>576284</td>\n",
       "      <td>819879</td>\n",
       "    </tr>\n",
       "    <tr>\n",
       "      <th>10719</th>\n",
       "      <td>10719</td>\n",
       "      <td>12</td>\n",
       "      <td>6</td>\n",
       "      <td>934978</td>\n",
       "      <td>602319</td>\n",
       "      <td>938889</td>\n",
       "      <td>941844</td>\n",
       "      <td>610608</td>\n",
       "      <td>938755</td>\n",
       "    </tr>\n",
       "    <tr>\n",
       "      <th>10720</th>\n",
       "      <td>10720</td>\n",
       "      <td>12</td>\n",
       "      <td>6</td>\n",
       "      <td>953664</td>\n",
       "      <td>698374</td>\n",
       "      <td>962699</td>\n",
       "      <td>961243</td>\n",
       "      <td>707812</td>\n",
       "      <td>962605</td>\n",
       "    </tr>\n",
       "  </tbody>\n",
       "</table>\n",
       "<p>10721 rows × 9 columns</p>\n",
       "</div>"
      ],
      "text/plain": [
       "       Unnamed: 0  Chiral_indice_n  Chiracl_indice_m  \\\n",
       "0               0                2                 1   \n",
       "1               1                2                 1   \n",
       "2               2                2                 1   \n",
       "3               3                2                 1   \n",
       "4               4                2                 1   \n",
       "...           ...              ...               ...   \n",
       "10716       10716               12                 6   \n",
       "10717       10717               12                 6   \n",
       "10718       10718               12                 6   \n",
       "10719       10719               12                 6   \n",
       "10720       10720               12                 6   \n",
       "\n",
       "       Initial_atomic_coordinate_u  Initial_atomic_coordinate_v  \\\n",
       "0                           679005                       701318   \n",
       "1                           717298                       642129   \n",
       "2                           489336                       303751   \n",
       "3                           413957                       632996   \n",
       "4                           334292                       543401   \n",
       "...                            ...                          ...   \n",
       "10716                       834201                       399891   \n",
       "10717                       698374                        24471   \n",
       "10718                       923823                       568913   \n",
       "10719                       934978                       602319   \n",
       "10720                       953664                       698374   \n",
       "\n",
       "       Initial_atomic_coordinate_w  Calculated_atomic_coordinate_u  \\\n",
       "0                            17033                          721039   \n",
       "1                           231319                          738414   \n",
       "2                            88462                          477676   \n",
       "3                            40843                          408823   \n",
       "4                            15989                          303349   \n",
       "...                            ...                             ...   \n",
       "10716                        89127                          841858   \n",
       "10717                       962699                          706555   \n",
       "10718                       819842                          929403   \n",
       "10719                       938889                          941844   \n",
       "10720                       962699                          961243   \n",
       "\n",
       "       Calculated_atomic_coordiante_v  Calculated_atomic_coordinate_w  \n",
       "0                              730232                           17014  \n",
       "1                               65675                          232369  \n",
       "2                              263221                           88712  \n",
       "3                              657897                           39796  \n",
       "4                              558807                          157373  \n",
       "...                               ...                             ...  \n",
       "10716                          405882                          891356  \n",
       "10717                          248416                          962833  \n",
       "10718                          576284                          819879  \n",
       "10719                          610608                          938755  \n",
       "10720                          707812                          962605  \n",
       "\n",
       "[10721 rows x 9 columns]"
      ]
     },
     "execution_count": 4,
     "metadata": {},
     "output_type": "execute_result"
    }
   ],
   "source": [
    "data = pd.read_csv('New_Carbon_nanotubes.csv')\n",
    "data"
   ]
  },
  {
   "cell_type": "markdown",
   "metadata": {},
   "source": [
    "### Pymongo  MongoDB"
   ]
  },
  {
   "cell_type": "code",
   "execution_count": 1,
   "metadata": {},
   "outputs": [],
   "source": [
    "# !python -m pip install pymongo"
   ]
  },
  {
   "cell_type": "code",
   "execution_count": 4,
   "metadata": {},
   "outputs": [
    {
     "name": "stdout",
     "output_type": "stream",
     "text": [
      "Requirement already satisfied: pymongo[srv] in c:\\python310\\lib\\site-packages (4.0.1)\n",
      "Requirement already satisfied: dnspython<3.0.0,>=1.16.0 in c:\\python310\\lib\\site-packages (from pymongo[srv]) (2.2.1)\n"
     ]
    }
   ],
   "source": [
    "%pip install pymongo[srv]"
   ]
  },
  {
   "cell_type": "markdown",
   "metadata": {},
   "source": [
    "MongoDB Compass"
   ]
  },
  {
   "cell_type": "code",
   "execution_count": 1,
   "metadata": {},
   "outputs": [
    {
     "data": {
      "text/plain": [
       "MongoClient(host=['localhost:27017'], document_class=dict, tz_aware=False, connect=True)"
      ]
     },
     "execution_count": 1,
     "metadata": {},
     "output_type": "execute_result"
    }
   ],
   "source": [
    "import pymongo\n",
    "client = pymongo.MongoClient(\"mongodb://localhost:27017\")\n",
    "client"
   ]
  },
  {
   "cell_type": "markdown",
   "metadata": {},
   "source": [
    "### STEP 1: Create a DB"
   ]
  },
  {
   "cell_type": "code",
   "execution_count": 2,
   "metadata": {},
   "outputs": [],
   "source": [
    "db_1 = client[\"Rushikesh\"]"
   ]
  },
  {
   "cell_type": "code",
   "execution_count": 3,
   "metadata": {},
   "outputs": [
    {
     "data": {
      "text/plain": [
       "['Courses',\n",
       " 'Employee',\n",
       " 'Rushi',\n",
       " 'Rushikesh',\n",
       " 'Students1',\n",
       " 'admin',\n",
       " 'config',\n",
       " 'local',\n",
       " 'mylib',\n",
       " 'oldStudents',\n",
       " 'slab',\n",
       " 'students']"
      ]
     },
     "execution_count": 3,
     "metadata": {},
     "output_type": "execute_result"
    }
   ],
   "source": [
    "client.list_database_names()"
   ]
  },
  {
   "cell_type": "markdown",
   "metadata": {},
   "source": [
    "### STEP 2: Create a collection"
   ]
  },
  {
   "cell_type": "code",
   "execution_count": 4,
   "metadata": {},
   "outputs": [
    {
     "data": {
      "text/plain": [
       "Collection(Database(MongoClient(host=['localhost:27017'], document_class=dict, tz_aware=False, connect=True), 'Rushikesh'), 'Test')"
      ]
     },
     "execution_count": 4,
     "metadata": {},
     "output_type": "execute_result"
    }
   ],
   "source": [
    "collection = db_1[\"Test\"]\n",
    "collection"
   ]
  },
  {
   "cell_type": "markdown",
   "metadata": {},
   "source": [
    "### STEP 3: Insert a record in the collection"
   ]
  },
  {
   "cell_type": "code",
   "execution_count": 6,
   "metadata": {},
   "outputs": [
    {
     "data": {
      "text/plain": [
       "<pymongo.results.InsertOneResult at 0x2ba7aadbd40>"
      ]
     },
     "execution_count": 6,
     "metadata": {},
     "output_type": "execute_result"
    }
   ],
   "source": [
    "record = {'companyName':'iNeuron','product':'Affordable AI','courseoffered':'Deep Learnning for Computer vision'}\n",
    "collection.insert_one(record)"
   ]
  },
  {
   "cell_type": "code",
   "execution_count": 7,
   "metadata": {},
   "outputs": [
    {
     "data": {
      "text/plain": [
       "<pymongo.results.InsertOneResult at 0x2ba7a573cc0>"
      ]
     },
     "execution_count": 7,
     "metadata": {},
     "output_type": "execute_result"
    }
   ],
   "source": [
    "record = {'companyName':'iNeuron','product':'Affordable AI',\n",
    "        'courseoffered':'Deep Learnning for Computer vision',\n",
    "        'name':[\"Rushi\",\"Kesh\",985643]}\n",
    "collection.insert_one(record)"
   ]
  },
  {
   "cell_type": "markdown",
   "metadata": {},
   "source": [
    "### STEP 4: Insert multiple records"
   ]
  },
  {
   "cell_type": "code",
   "execution_count": 8,
   "metadata": {},
   "outputs": [],
   "source": [
    "list_of_records = [\n",
    "    {'companyName': 'iNeuron',\n",
    "     'product': 'Affordable AI',\n",
    "     'courseOffered': 'Machine Learning with Deployment'},\n",
    "    \n",
    "    {'companyName': 'iNeuron',\n",
    "     'product': 'Affordable AI',\n",
    "     'courseOffered': 'Deep Learning for NLP and Computer vision'},\n",
    "    \n",
    "    {'companyName': 'iNeuron',\n",
    "     'product': 'Master Program',\n",
    "     'courseOffered': 'Data Science Masters Program',\n",
    "    \"test\" : \"ffsdfsffsf\",\n",
    "     \"complex\" : [{\"name\" : \"sudhanshu\",\"list\" : [554,545,454,54,5,4]},{\"email_id\" :\"sudhanshu@dffsf\"},{\"phone_no\":345345345353},[4,54,534,5,45,5,45,4]]\n",
    "    }]\n",
    "    \n",
    "rec = collection.insert_many(list_of_records)"
   ]
  },
  {
   "cell_type": "code",
   "execution_count": 9,
   "metadata": {},
   "outputs": [
    {
     "data": {
      "text/plain": [
       "{'_id': ObjectId('62a46c10d912b0c961a7d526'),\n",
       " 'companyName': 'iNeuron',\n",
       " 'product': 'Affordable AI',\n",
       " 'courseoffered': 'Deep Learnning for Computer vision'}"
      ]
     },
     "execution_count": 9,
     "metadata": {},
     "output_type": "execute_result"
    }
   ],
   "source": [
    "collection.find_one()"
   ]
  },
  {
   "cell_type": "code",
   "execution_count": 10,
   "metadata": {},
   "outputs": [
    {
     "name": "stdout",
     "output_type": "stream",
     "text": [
      "0. 62a46c13d912b0c961a7d528\n",
      "1. 62a46c13d912b0c961a7d529\n",
      "2. 62a46c13d912b0c961a7d52a\n"
     ]
    }
   ],
   "source": [
    "# lets print the unique ID that of the record that we have inserted -\n",
    "\n",
    "inserted_IDs = rec.inserted_ids\n",
    "\n",
    "for idx, unique_ids in enumerate(inserted_IDs):\n",
    "    print(f\"{idx}. {unique_ids}\")"
   ]
  },
  {
   "cell_type": "code",
   "execution_count": 11,
   "metadata": {},
   "outputs": [],
   "source": [
    "COLLECTION_NAME = \"iNeuron_Faculties\"\n",
    "faculties = db_1[COLLECTION_NAME]\n",
    "\n",
    "list_of_records_user_defined_id = [\n",
    "    {\"_id\": \"6\",\n",
    "    \"companyName\": \"iNeuron\",\n",
    "    \"Faculty\": \"Sudhanshu Kumar\"},\n",
    "    {\"_id\": \"8\",\n",
    "    \"companyName\": \"iNeuron\",\n",
    "    \"Faculty\": \"Virat Sagar\"},\n",
    "]\n",
    "\n",
    "faculties_record = faculties.insert_many(list_of_records_user_defined_id)"
   ]
  },
  {
   "cell_type": "markdown",
   "metadata": {},
   "source": [
    "### STEP 5: Find method in MongoDB"
   ]
  },
  {
   "cell_type": "code",
   "execution_count": 12,
   "metadata": {},
   "outputs": [
    {
     "name": "stdout",
     "output_type": "stream",
     "text": [
      "The first record of collection: \n",
      "iNeuron_Faculties is=\n",
      "{'_id': '6', 'companyName': 'iNeuron', 'Faculty': 'Sudhanshu Kumar'}\n"
     ]
    }
   ],
   "source": [
    "find_first_record = faculties.find_one()\n",
    "\n",
    "print(f\"The first record of collection: \\n{COLLECTION_NAME} is=\\\n",
    "\\n{find_first_record}\")"
   ]
  },
  {
   "cell_type": "code",
   "execution_count": 13,
   "metadata": {},
   "outputs": [
    {
     "name": "stdout",
     "output_type": "stream",
     "text": [
      "{'_id': '6', 'companyName': 'iNeuron', 'Faculty': 'Sudhanshu Kumar'}\n",
      "{'_id': '8', 'companyName': 'iNeuron', 'Faculty': 'Virat Sagar'}\n"
     ]
    }
   ],
   "source": [
    "for i in faculties.find():\n",
    "    print(i)"
   ]
  },
  {
   "cell_type": "code",
   "execution_count": 14,
   "metadata": {},
   "outputs": [
    {
     "name": "stdout",
     "output_type": "stream",
     "text": [
      "{'_id': ObjectId('62a46c10d912b0c961a7d526'), 'companyName': 'iNeuron', 'product': 'Affordable AI', 'courseoffered': 'Deep Learnning for Computer vision'}\n",
      "{'_id': ObjectId('62a46c11d912b0c961a7d527'), 'companyName': 'iNeuron', 'product': 'Affordable AI', 'courseoffered': 'Deep Learnning for Computer vision', 'name': ['Rushi', 'Kesh', 985643]}\n",
      "{'_id': ObjectId('62a46c13d912b0c961a7d528'), 'companyName': 'iNeuron', 'product': 'Affordable AI', 'courseOffered': 'Machine Learning with Deployment'}\n",
      "{'_id': ObjectId('62a46c13d912b0c961a7d529'), 'companyName': 'iNeuron', 'product': 'Affordable AI', 'courseOffered': 'Deep Learning for NLP and Computer vision'}\n",
      "{'_id': ObjectId('62a46c13d912b0c961a7d52a'), 'companyName': 'iNeuron', 'product': 'Master Program', 'courseOffered': 'Data Science Masters Program', 'test': 'ffsdfsffsf', 'complex': [{'name': 'sudhanshu', 'list': [554, 545, 454, 54, 5, 4]}, {'email_id': 'sudhanshu@dffsf'}, {'phone_no': 345345345353}, [4, 54, 534, 5, 45, 5, 45, 4]]}\n"
     ]
    }
   ],
   "source": [
    "for i in collection.find():\n",
    "    print(i)"
   ]
  },
  {
   "cell_type": "markdown",
   "metadata": {},
   "source": [
    "### STEP 6: Query or filter out data in MongoDB"
   ]
  },
  {
   "cell_type": "code",
   "execution_count": 15,
   "metadata": {},
   "outputs": [
    {
     "name": "stdout",
     "output_type": "stream",
     "text": [
      "{'_id': '8', 'companyName': 'iNeuron', 'Faculty': 'Virat Sagar'}\n"
     ]
    }
   ],
   "source": [
    "for i in faculties.find({'Faculty':\"Virat Sagar\"}):\n",
    "    print(i)"
   ]
  },
  {
   "cell_type": "code",
   "execution_count": 16,
   "metadata": {},
   "outputs": [
    {
     "name": "stdout",
     "output_type": "stream",
     "text": [
      "{'_id': '6', 'companyName': 'iNeuron', 'Faculty': 'Sudhanshu Kumar'}\n",
      "{'_id': '8', 'companyName': 'iNeuron', 'Faculty': 'Virat Sagar'}\n"
     ]
    }
   ],
   "source": [
    "for i in faculties.find({'_id':{'$gt':'1'}}):\n",
    "    print(i)"
   ]
  },
  {
   "cell_type": "code",
   "execution_count": 17,
   "metadata": {},
   "outputs": [
    {
     "data": {
      "text/plain": [
       "<pymongo.results.InsertManyResult at 0x2ba7a9e9600>"
      ]
     },
     "execution_count": 17,
     "metadata": {},
     "output_type": "execute_result"
    }
   ],
   "source": [
    "# Lets add some random data in faculties\n",
    "random_data = [\n",
    "    {'_id': '3', 'companyName': 'iNeuron', 'Faculty': 'XYZ'},\n",
    "    {'_id': '4', 'companyName': 'iNeuron', 'Faculty': 'ABC'},\n",
    "    {'_id': '5', 'companyName': 'iNeuron', 'Faculty': 'PQR'},\n",
    "]\n",
    "\n",
    "faculties.insert_many(random_data)"
   ]
  },
  {
   "cell_type": "markdown",
   "metadata": {},
   "source": [
    "### STEP 7: Delete one or many documents in MongoDB"
   ]
  },
  {
   "cell_type": "code",
   "execution_count": 20,
   "metadata": {},
   "outputs": [
    {
     "data": {
      "text/plain": [
       "<pymongo.results.DeleteResult at 0x2ba7a5724c0>"
      ]
     },
     "execution_count": 20,
     "metadata": {},
     "output_type": "execute_result"
    }
   ],
   "source": [
    "# Lets delete one document in faculties\n",
    "query_to_delete = {\"Faculty\": \"XYZ\"}\n",
    "\n",
    "faculties.delete_one(query_to_delete)"
   ]
  },
  {
   "cell_type": "code",
   "execution_count": 21,
   "metadata": {},
   "outputs": [
    {
     "name": "stdout",
     "output_type": "stream",
     "text": [
      "{'_id': '4', 'companyName': 'iNeuron', 'Faculty': 'ABC'}\n",
      "{'_id': '5', 'companyName': 'iNeuron', 'Faculty': 'PQR'}\n",
      "{'_id': '6', 'companyName': 'iNeuron', 'Faculty': 'Sudhanshu Kumar'}\n",
      "{'_id': '8', 'companyName': 'iNeuron', 'Faculty': 'Virat Sagar'}\n"
     ]
    }
   ],
   "source": [
    "for i in faculties.find({\"_id\": {\"$gte\": \"3\"}}):\n",
    "    print(i)"
   ]
  },
  {
   "cell_type": "code",
   "execution_count": 22,
   "metadata": {},
   "outputs": [
    {
     "data": {
      "text/plain": [
       "<pymongo.results.DeleteResult at 0x2ba7a4d7b00>"
      ]
     },
     "execution_count": 22,
     "metadata": {},
     "output_type": "execute_result"
    }
   ],
   "source": [
    "faculties.delete_many({\"_id\": {\"$gte\": \"6\"}})"
   ]
  },
  {
   "cell_type": "code",
   "execution_count": 23,
   "metadata": {},
   "outputs": [
    {
     "data": {
      "text/plain": [
       "<pymongo.results.DeleteResult at 0x2ba78af7440>"
      ]
     },
     "execution_count": 23,
     "metadata": {},
     "output_type": "execute_result"
    }
   ],
   "source": [
    "multi_query_to_delete = {\"_id\":{\"$gte\":\"6\"}}\n",
    "faculties.delete_many(multi_query_to_delete)"
   ]
  },
  {
   "cell_type": "markdown",
   "metadata": {},
   "source": [
    "### STEP 8: Drop the entire collection"
   ]
  },
  {
   "cell_type": "code",
   "execution_count": 24,
   "metadata": {},
   "outputs": [],
   "source": [
    "faculties.drop()"
   ]
  },
  {
   "cell_type": "markdown",
   "metadata": {},
   "source": [
    "### STEP 9: Update"
   ]
  },
  {
   "cell_type": "code",
   "execution_count": 33,
   "metadata": {},
   "outputs": [
    {
     "name": "stdout",
     "output_type": "stream",
     "text": [
      "{'_id': ObjectId('62a46c10d912b0c961a7d526'), 'companyName': 'iNeuron', 'product': 'Affordable AI', 'courseoffered': 'Deep Learnning for Computer vision'}\n",
      "\n",
      "{'_id': ObjectId('62a46c11d912b0c961a7d527'), 'companyName': 'iNeuron', 'product': 'Affordable AI', 'courseoffered': 'Deep Learnning for Computer vision', 'name': ['Rushi', 'Kesh', 985643]}\n",
      "\n",
      "{'_id': ObjectId('62a46c13d912b0c961a7d528'), 'companyName': 'iNeuron', 'product': 'Affordable AI', 'courseOffered': 'Machine Learning with Deployment'}\n",
      "\n",
      "{'_id': ObjectId('62a46c13d912b0c961a7d529'), 'companyName': 'iNeuron', 'product': 'Affordable AI', 'courseOffered': 'Deep Learning for NLP and Computer vision'}\n",
      "\n",
      "{'_id': ObjectId('62a46c13d912b0c961a7d52a'), 'companyName': 'iNeuron', 'product': 'Master Program', 'courseOffered': 'Data Science Masters Program', 'test': 'ffsdfsffsf', 'complex': [{'name': 'sudhanshu', 'list': [554, 545, 454, 54, 5, 4]}, {'email_id': 'sudhanshu@dffsf'}, {'phone_no': 345345345353}, [4, 54, 534, 5, 45, 5, 45, 4]]}\n",
      "\n"
     ]
    }
   ],
   "source": [
    "COLLECTION_NAME = \"Test\"\n",
    "\n",
    "products = db_1[COLLECTION_NAME]\n",
    "\n",
    "all_record = products.find()\n",
    "\n",
    "for idx, record in enumerate(all_record):\n",
    "    print(f\"{record}\\n\")"
   ]
  },
  {
   "cell_type": "code",
   "execution_count": 34,
   "metadata": {},
   "outputs": [],
   "source": [
    "present_data = {'courseOffered': 'Machine Learning with Deployment'}\n",
    "new_data = {\"$set\":{'courseOffered': 'ML and DL with Deployment'}}"
   ]
  },
  {
   "cell_type": "code",
   "execution_count": 35,
   "metadata": {},
   "outputs": [
    {
     "data": {
      "text/plain": [
       "<pymongo.results.UpdateResult at 0x2ba7ab2acc0>"
      ]
     },
     "execution_count": 35,
     "metadata": {},
     "output_type": "execute_result"
    }
   ],
   "source": [
    "products.update_one(present_data, new_data)"
   ]
  },
  {
   "cell_type": "code",
   "execution_count": 36,
   "metadata": {},
   "outputs": [
    {
     "name": "stdout",
     "output_type": "stream",
     "text": [
      "{'_id': ObjectId('62a46c10d912b0c961a7d526'), 'companyName': 'iNeuron', 'product': 'Affordable AI', 'courseoffered': 'Deep Learnning for Computer vision'}\n",
      "\n",
      "{'_id': ObjectId('62a46c11d912b0c961a7d527'), 'companyName': 'iNeuron', 'product': 'Affordable AI', 'courseoffered': 'Deep Learnning for Computer vision', 'name': ['Rushi', 'Kesh', 985643]}\n",
      "\n",
      "{'_id': ObjectId('62a46c13d912b0c961a7d528'), 'companyName': 'iNeuron', 'product': 'Affordable AI', 'courseOffered': 'ML and DL with Deployment'}\n",
      "\n",
      "{'_id': ObjectId('62a46c13d912b0c961a7d529'), 'companyName': 'iNeuron', 'product': 'Affordable AI', 'courseOffered': 'Deep Learning for NLP and Computer vision'}\n",
      "\n",
      "{'_id': ObjectId('62a46c13d912b0c961a7d52a'), 'companyName': 'iNeuron', 'product': 'Master Program', 'courseOffered': 'Data Science Masters Program', 'test': 'ffsdfsffsf', 'complex': [{'name': 'sudhanshu', 'list': [554, 545, 454, 54, 5, 4]}, {'email_id': 'sudhanshu@dffsf'}, {'phone_no': 345345345353}, [4, 54, 534, 5, 45, 5, 45, 4]]}\n",
      "\n"
     ]
    }
   ],
   "source": [
    "all_record = products.find()\n",
    "\n",
    "for idx, record in enumerate(all_record):\n",
    "    print(f\"{record}\\n\")"
   ]
  },
  {
   "cell_type": "code",
   "execution_count": 38,
   "metadata": {},
   "outputs": [
    {
     "data": {
      "text/plain": [
       "<pymongo.results.UpdateResult at 0x2ba7aae5e40>"
      ]
     },
     "execution_count": 38,
     "metadata": {},
     "output_type": "execute_result"
    }
   ],
   "source": [
    "present_data = {'companyName': 'iNeuron'}\n",
    "new_data = {\"$set\": {'companyName': 'iNeuron.ai'}}\n",
    "products.update_many(present_data, new_data)"
   ]
  },
  {
   "cell_type": "code",
   "execution_count": 39,
   "metadata": {},
   "outputs": [
    {
     "name": "stdout",
     "output_type": "stream",
     "text": [
      "{'_id': ObjectId('62a46c10d912b0c961a7d526'), 'companyName': 'iNeuron.ai', 'product': 'Affordable AI', 'courseoffered': 'Deep Learnning for Computer vision'}\n",
      "\n",
      "{'_id': ObjectId('62a46c11d912b0c961a7d527'), 'companyName': 'iNeuron.ai', 'product': 'Affordable AI', 'courseoffered': 'Deep Learnning for Computer vision', 'name': ['Rushi', 'Kesh', 985643]}\n",
      "\n",
      "{'_id': ObjectId('62a46c13d912b0c961a7d528'), 'companyName': 'iNeuron.ai', 'product': 'Affordable AI', 'courseOffered': 'ML and DL with Deployment'}\n",
      "\n",
      "{'_id': ObjectId('62a46c13d912b0c961a7d529'), 'companyName': 'iNeuron.ai', 'product': 'Affordable AI', 'courseOffered': 'Deep Learning for NLP and Computer vision'}\n",
      "\n",
      "{'_id': ObjectId('62a46c13d912b0c961a7d52a'), 'companyName': 'iNeuron.ai', 'product': 'Master Program', 'courseOffered': 'Data Science Masters Program', 'test': 'ffsdfsffsf', 'complex': [{'name': 'sudhanshu', 'list': [554, 545, 454, 54, 5, 4]}, {'email_id': 'sudhanshu@dffsf'}, {'phone_no': 345345345353}, [4, 54, 534, 5, 45, 5, 45, 4]]}\n",
      "\n"
     ]
    }
   ],
   "source": [
    "all_record = products.find()\n",
    "\n",
    "for idx, record in enumerate(all_record):\n",
    "    print(f\"{record}\\n\")"
   ]
  },
  {
   "cell_type": "markdown",
   "metadata": {},
   "source": [
    "### STEP 9: Set limit to view N records"
   ]
  },
  {
   "cell_type": "code",
   "execution_count": 40,
   "metadata": {},
   "outputs": [
    {
     "name": "stdout",
     "output_type": "stream",
     "text": [
      "{'_id': ObjectId('62a46c10d912b0c961a7d526'), 'companyName': 'iNeuron.ai', 'product': 'Affordable AI', 'courseoffered': 'Deep Learnning for Computer vision'}\n",
      "\n",
      "{'_id': ObjectId('62a46c11d912b0c961a7d527'), 'companyName': 'iNeuron.ai', 'product': 'Affordable AI', 'courseoffered': 'Deep Learnning for Computer vision', 'name': ['Rushi', 'Kesh', 985643]}\n",
      "\n",
      "{'_id': ObjectId('62a46c13d912b0c961a7d528'), 'companyName': 'iNeuron.ai', 'product': 'Affordable AI', 'courseOffered': 'ML and DL with Deployment'}\n",
      "\n"
     ]
    }
   ],
   "source": [
    "N_records = 3\n",
    "\n",
    "N_record = products.find().limit(N_records)\n",
    "\n",
    "for idx, record in enumerate(N_record):\n",
    "    print(f\"{record}\\n\")"
   ]
  },
  {
   "cell_type": "markdown",
   "metadata": {},
   "source": [
    "14/6/2022"
   ]
  },
  {
   "cell_type": "code",
   "execution_count": 1,
   "metadata": {},
   "outputs": [],
   "source": [
    "import pymongo\n",
    "client = pymongo.MongoClient('mongodb://127.0.0.1:27017/')\n",
    "mydb = client['Employee']"
   ]
  },
  {
   "cell_type": "code",
   "execution_count": 2,
   "metadata": {},
   "outputs": [],
   "source": [
    "information = mydb.empinfo"
   ]
  },
  {
   "cell_type": "code",
   "execution_count": 3,
   "metadata": {},
   "outputs": [
    {
     "data": {
      "text/plain": [
       "<pymongo.results.InsertOneResult at 0x1bc3d59a480>"
      ]
     },
     "execution_count": 3,
     "metadata": {},
     "output_type": "execute_result"
    }
   ],
   "source": [
    "record = { 'firstname':'Rushi','lastname':'Khandare','department':'AI Engineer'}\n",
    "information.insert_one(record)"
   ]
  },
  {
   "cell_type": "code",
   "execution_count": 4,
   "metadata": {},
   "outputs": [
    {
     "data": {
      "text/plain": [
       "<pymongo.results.InsertManyResult at 0x1bc3d716b00>"
      ]
     },
     "execution_count": 4,
     "metadata": {},
     "output_type": "execute_result"
    }
   ],
   "source": [
    "records = [{'firstname':'Krish','lastname':'Naik','department':'Analytics'},\n",
    "           {'firstname':'Sudhanshu','lastname':'Kumar','department':'CEO of iNeuron'},\n",
    "           {'firstname':'Hitesh','lastname':'Chaudhary','department':'CTO of iNeuron'}]\n",
    "information.insert_many(records)"
   ]
  },
  {
   "cell_type": "code",
   "execution_count": 10,
   "metadata": {},
   "outputs": [
    {
     "data": {
      "text/plain": [
       "<pymongo.results.InsertManyResult at 0x1bc3d6de8c0>"
      ]
     },
     "execution_count": 10,
     "metadata": {},
     "output_type": "execute_result"
    }
   ],
   "source": [
    "records = [{'firstname':'Sunny','lastname':'Dhalape','department':'Analytics','qualification':'BSC','age':22},\n",
    "           {'firstname':'Snehal','lastname':'Randive','department':'Civil','qualificatin':'BE','age':24},\n",
    "           {'firstname':'Ramkrishna','lastname':'Pise','department':'IT','qualification':'BE','age':21},\n",
    "           {'firstname':'Ketaki','lastname':'Badave','department':'Software Development','qualification':'phd','age':27},\n",
    "           {'firstname':'Vinod','lastname':'Khandare','department':'ICICI','qualification':'B.COM','age':36},\n",
    "           {'firstname':'Aniket','lastname':'Changan','department':'Agriculture','qualification':'BSC','age':22}]\n",
    "information.insert_many(records)"
   ]
  },
  {
   "cell_type": "code",
   "execution_count": 11,
   "metadata": {},
   "outputs": [
    {
     "data": {
      "text/plain": [
       "{'_id': ObjectId('62a8896d7e1c3a7e6fde3bce'),\n",
       " 'firstname': 'Rushi',\n",
       " 'lastname': 'Khandare',\n",
       " 'department': 'AI Engineer'}"
      ]
     },
     "execution_count": 11,
     "metadata": {},
     "output_type": "execute_result"
    }
   ],
   "source": [
    "information.find_one()"
   ]
  },
  {
   "cell_type": "code",
   "execution_count": 12,
   "metadata": {},
   "outputs": [
    {
     "name": "stdout",
     "output_type": "stream",
     "text": [
      "{'_id': ObjectId('62a8896d7e1c3a7e6fde3bce'), 'firstname': 'Rushi', 'lastname': 'Khandare', 'department': 'AI Engineer'}\n",
      "{'_id': ObjectId('62a88abf7e1c3a7e6fde3bcf'), 'firstname': 'Krish', 'lastname': 'Naik', 'department': 'Analytics'}\n",
      "{'_id': ObjectId('62a88abf7e1c3a7e6fde3bd0'), 'firstname': 'Sudhanshu', 'lastname': 'Kumar', 'department': 'CEO of iNeuron'}\n",
      "{'_id': ObjectId('62a88abf7e1c3a7e6fde3bd1'), 'firstname': 'Hitesh', 'lastname': 'Chaudhary', 'department': 'CTO of iNeuron'}\n",
      "{'_id': ObjectId('62a895717e1c3a7e6fde3bd2'), 'firstname': 'Sunny', 'lastname': 'Dhalape', 'department': 'Analytics', 'qualification': 'BSC', 'age': 22}\n",
      "{'_id': ObjectId('62a895717e1c3a7e6fde3bd3'), 'firstname': 'Snehal', 'lastname': 'Randive', 'department': 'Civil', 'qualificatin': 'BE', 'age': 24}\n",
      "{'_id': ObjectId('62a895717e1c3a7e6fde3bd4'), 'firstname': 'Ramkrishna', 'lastname': 'Pise', 'department': 'IT', 'qualification': 'BE', 'age': 21}\n",
      "{'_id': ObjectId('62a895717e1c3a7e6fde3bd5'), 'firstname': 'Ketaki', 'lastname': 'Badave', 'department': 'Software Development', 'qualification': 'phd', 'age': 27}\n",
      "{'_id': ObjectId('62a895717e1c3a7e6fde3bd6'), 'firstname': 'Vinod', 'lastname': 'Khandare', 'department': 'ICICI', 'qualification': 'B.COM', 'age': 36}\n",
      "{'_id': ObjectId('62a895717e1c3a7e6fde3bd7'), 'firstname': 'Aniket', 'lastname': 'Changan', 'department': 'Agriculture', 'qualification': 'BSC', 'age': 22}\n"
     ]
    }
   ],
   "source": [
    "for i in information.find({}):\n",
    "    print(i)"
   ]
  },
  {
   "cell_type": "code",
   "execution_count": 13,
   "metadata": {},
   "outputs": [
    {
     "name": "stdout",
     "output_type": "stream",
     "text": [
      "{'_id': ObjectId('62a8896d7e1c3a7e6fde3bce'), 'firstname': 'Rushi', 'lastname': 'Khandare', 'department': 'AI Engineer'}\n"
     ]
    }
   ],
   "source": [
    "for i in information.find({'firstname':'Rushi'}):\n",
    "    print(i)"
   ]
  },
  {
   "cell_type": "code",
   "execution_count": 14,
   "metadata": {},
   "outputs": [
    {
     "name": "stdout",
     "output_type": "stream",
     "text": [
      "{'_id': ObjectId('62a895717e1c3a7e6fde3bd4'), 'firstname': 'Ramkrishna', 'lastname': 'Pise', 'department': 'IT', 'qualification': 'BE', 'age': 21}\n",
      "{'_id': ObjectId('62a895717e1c3a7e6fde3bd5'), 'firstname': 'Ketaki', 'lastname': 'Badave', 'department': 'Software Development', 'qualification': 'phd', 'age': 27}\n"
     ]
    }
   ],
   "source": [
    "for i in information.find({'qualification':{'$in':['phd','BE']}}):\n",
    "    print(i)"
   ]
  },
  {
   "cell_type": "code",
   "execution_count": 15,
   "metadata": {},
   "outputs": [
    {
     "name": "stdout",
     "output_type": "stream",
     "text": [
      "{'_id': ObjectId('62a895717e1c3a7e6fde3bd2'), 'firstname': 'Sunny', 'lastname': 'Dhalape', 'department': 'Analytics', 'qualification': 'BSC', 'age': 22}\n",
      "{'_id': ObjectId('62a895717e1c3a7e6fde3bd7'), 'firstname': 'Aniket', 'lastname': 'Changan', 'department': 'Agriculture', 'qualification': 'BSC', 'age': 22}\n"
     ]
    }
   ],
   "source": [
    "for i in information.find({'qualification':'BSC','age':{'$lt':25}}):\n",
    "    print(i)"
   ]
  },
  {
   "cell_type": "code",
   "execution_count": 16,
   "metadata": {},
   "outputs": [
    {
     "name": "stdout",
     "output_type": "stream",
     "text": [
      "{'_id': ObjectId('62a895717e1c3a7e6fde3bd3'), 'firstname': 'Snehal', 'lastname': 'Randive', 'department': 'Civil', 'qualificatin': 'BE', 'age': 24}\n",
      "{'_id': ObjectId('62a895717e1c3a7e6fde3bd4'), 'firstname': 'Ramkrishna', 'lastname': 'Pise', 'department': 'IT', 'qualification': 'BE', 'age': 21}\n"
     ]
    }
   ],
   "source": [
    "for i in information.find({'$or':[{'firstname':'Snehal'},{'qualification':'BE'}]}):\n",
    "    print(i)"
   ]
  },
  {
   "cell_type": "code",
   "execution_count": 17,
   "metadata": {},
   "outputs": [],
   "source": [
    "inventory = mydb.inventory"
   ]
  },
  {
   "cell_type": "code",
   "execution_count": 18,
   "metadata": {},
   "outputs": [
    {
     "data": {
      "text/plain": [
       "<pymongo.results.InsertManyResult at 0x1bc3d752500>"
      ]
     },
     "execution_count": 18,
     "metadata": {},
     "output_type": "execute_result"
    }
   ],
   "source": [
    "inventory.insert_many( [\n",
    "   { 'item': \"journal\", 'qty': 25, 'size': { 'h': 14, 'w': 21,'uom': \"cm\" }, 'status': \"A\" },\n",
    "   { 'item': \"notebook\", 'qty': 50,'size': { 'h': 8.5, 'w': 11,'uom': \"in\" },'status': \"A\" },\n",
    "   { 'item': \"paper\", 'qty': 100, 'size': { 'h': 8.5, 'w': 11,'uom': \"in\" },'status': \"D\" },\n",
    "   { 'item': \"planner\", 'qty': 75, 'size': { 'h': 22.85,'w': 30,'uom': \"cm\" },'status': \"D\" },\n",
    "   { 'item': \"postcard\", 'qty': 45, 'size': { 'h': 10, 'w': 15.25,'uom': \"cm\" },'status': \"A\" }\n",
    "])"
   ]
  },
  {
   "cell_type": "code",
   "execution_count": 20,
   "metadata": {},
   "outputs": [
    {
     "data": {
      "text/plain": [
       "<pymongo.results.InsertManyResult at 0x1bc3d0ecb40>"
      ]
     },
     "execution_count": 20,
     "metadata": {},
     "output_type": "execute_result"
    }
   ],
   "source": [
    "inventory.insert_many([\n",
    "    {\"item\": \"canvas\",\n",
    "     \"qty\": 100,\n",
    "     \"size\": {\"h\": 28, \"w\": 35.5, \"uom\": \"cm\"},\n",
    "     \"status\": \"A\"},\n",
    "    {\"item\": \"mat\",\n",
    "     \"qty\": 85,\n",
    "     \"size\": {\"h\": 27.9, \"w\": 35.5, \"uom\": \"cm\"},\n",
    "     \"status\": \"A\"},\n",
    "    {\"item\": \"mousepad\",\n",
    "     \"qty\": 25,\n",
    "     \"size\": {\"h\": 19, \"w\": 22.85, \"uom\": \"cm\"},\n",
    "     \"status\": \"P\"},\n",
    "    {\"item\": \"sketchbook\",\n",
    "     \"qty\": 80,\n",
    "     \"size\": {\"h\": 14, \"w\": 21, \"uom\": \"cm\"},\n",
    "     \"status\": \"A\"},\n",
    "    {\"item\": \"sketch pad\",\n",
    "     \"qty\": 95,\n",
    "     \"size\": {\"h\": 22.85, \"w\": 30.5, \"uom\": \"cm\"},\n",
    "     \"status\": \"A\"}])"
   ]
  },
  {
   "cell_type": "code",
   "execution_count": 21,
   "metadata": {},
   "outputs": [
    {
     "name": "stdout",
     "output_type": "stream",
     "text": [
      "{'_id': ObjectId('62a899ca7e1c3a7e6fde3bda'), 'item': 'paper', 'qty': 100, 'size': {'h': 8.5, 'w': 11, 'uom': 'in'}, 'status': 'D'}\n",
      "{'_id': ObjectId('62a89e3b7e1c3a7e6fde3bdd'), 'item': 'canvas', 'qty': 100, 'size': {'h': 28, 'w': 35.5, 'uom': 'cm'}, 'status': 'A'}\n"
     ]
    }
   ],
   "source": [
    "for i in inventory.find({'qty':100}):\n",
    "    print(i)"
   ]
  },
  {
   "cell_type": "markdown",
   "metadata": {},
   "source": [
    "### MongoDb with python Updating Json Documents\n",
    "Functions to Discuss\n",
    "1. pymongo.collection.Collection.update_one()\n",
    "2. pymongo.collection.Collection.update_many()\n",
    "3. pymongo.collection.Collection.replace_one()"
   ]
  },
  {
   "cell_type": "code",
   "execution_count": 22,
   "metadata": {},
   "outputs": [
    {
     "data": {
      "text/plain": [
       "<pymongo.results.UpdateResult at 0x1bc3d52cd80>"
      ]
     },
     "execution_count": 22,
     "metadata": {},
     "output_type": "execute_result"
    }
   ],
   "source": [
    "inventory.update_one({'item':'canvas'},{'$set':{'size.uom':'m','status':'P'},'$currentDate':{'lastModified':True}})"
   ]
  },
  {
   "cell_type": "code",
   "execution_count": 24,
   "metadata": {},
   "outputs": [
    {
     "name": "stdout",
     "output_type": "stream",
     "text": [
      "{'_id': ObjectId('62a89e3b7e1c3a7e6fde3bdd'), 'item': 'canvas', 'qty': 100, 'size': {'h': 28, 'w': 35.5, 'uom': 'm'}, 'status': 'P', 'lastModified': datetime.datetime(2022, 6, 14, 14, 44, 43, 802000)}\n"
     ]
    }
   ],
   "source": [
    "for i in inventory.find({'item':'canvas'}):\n",
    "    print(i)"
   ]
  },
  {
   "cell_type": "code",
   "execution_count": 25,
   "metadata": {},
   "outputs": [
    {
     "data": {
      "text/plain": [
       "<pymongo.results.UpdateResult at 0x1bc3d0f5a40>"
      ]
     },
     "execution_count": 25,
     "metadata": {},
     "output_type": "execute_result"
    }
   ],
   "source": [
    "inventory.update_many({'qty':{'$lt':50}},{'$set':{'size.uom':'in','status':'P'},'$currentDate':{'lastModified':True}})"
   ]
  },
  {
   "cell_type": "code",
   "execution_count": 27,
   "metadata": {},
   "outputs": [
    {
     "name": "stdout",
     "output_type": "stream",
     "text": [
      "{'_id': ObjectId('62a899ca7e1c3a7e6fde3bd8'), 'item': 'journal', 'qty': 25, 'size': {'h': 14, 'w': 21, 'uom': 'in'}, 'status': 'P', 'lastModified': datetime.datetime(2022, 6, 14, 14, 49, 21, 512000)}\n",
      "{'_id': ObjectId('62a899ca7e1c3a7e6fde3bdc'), 'item': 'postcard', 'qty': 45, 'size': {'h': 10, 'w': 15.25, 'uom': 'in'}, 'status': 'P', 'lastModified': datetime.datetime(2022, 6, 14, 14, 49, 21, 512000)}\n",
      "{'_id': ObjectId('62a89e3b7e1c3a7e6fde3bdf'), 'item': 'mousepad', 'qty': 25, 'size': {'h': 19, 'w': 22.85, 'uom': 'in'}, 'status': 'P', 'lastModified': datetime.datetime(2022, 6, 14, 14, 49, 21, 512000)}\n"
     ]
    }
   ],
   "source": [
    "for i in inventory.find({'qty':{'$lt':50}}):\n",
    "    print(i)"
   ]
  },
  {
   "cell_type": "code",
   "execution_count": 28,
   "metadata": {},
   "outputs": [
    {
     "data": {
      "text/plain": [
       "<pymongo.results.UpdateResult at 0x1bc3fa76cc0>"
      ]
     },
     "execution_count": 28,
     "metadata": {},
     "output_type": "execute_result"
    }
   ],
   "source": [
    "inventory.replace_one({'item':'paper'},{'item':'paper','instock':[{'warehouse':'A','qty':60},{'warehouse':'B','qty':'40'}]})"
   ]
  },
  {
   "cell_type": "code",
   "execution_count": 29,
   "metadata": {},
   "outputs": [
    {
     "name": "stdout",
     "output_type": "stream",
     "text": [
      "{'_id': ObjectId('62a899ca7e1c3a7e6fde3bda'), 'item': 'paper', 'instock': [{'warehouse': 'A', 'qty': 60}, {'warehouse': 'B', 'qty': '40'}]}\n"
     ]
    }
   ],
   "source": [
    "for i in inventory.find({'item':'paper'}):\n",
    "    print(i)"
   ]
  },
  {
   "cell_type": "markdown",
   "metadata": {},
   "source": [
    "### Mongodb Aggregate And Group\n",
    "1. avg\n",
    "2. sum\n",
    "3. project"
   ]
  },
  {
   "cell_type": "code",
   "execution_count": 39,
   "metadata": {},
   "outputs": [
    {
     "data": {
      "text/plain": [
       "<pymongo.results.InsertManyResult at 0x1bc3d6f2980>"
      ]
     },
     "execution_count": 39,
     "metadata": {},
     "output_type": "execute_result"
    }
   ],
   "source": [
    "import pymongo\n",
    "client = pymongo.MongoClient(\"mongodb://localhost:27017/\")  \n",
    "mydatabase = client['Students1']  \n",
    "collection = mydatabase['studentscores']  \n",
    "data = [ \n",
    "    {\"user\":\"Krish\", \"subject\":\"Database\", \"score\":80}, \n",
    "    {\"user\":\"Amit\",  \"subject\":\"JavaScript\", \"score\":90}, \n",
    "    {\"user\":\"Amit\",  \"title\":\"Database\", \"score\":85}, \n",
    "    {\"user\":\"Krish\",  \"title\":\"JavaScript\", \"score\":75}, \n",
    "    {\"user\":\"Amit\",  \"title\":\"Data Science\", \"score\":60},\n",
    "    {\"user\":\"Krish\",  \"title\":\"Data Science\", \"score\":95}] \n",
    "  \n",
    "collection.insert_many(data) "
   ]
  },
  {
   "cell_type": "code",
   "execution_count": 42,
   "metadata": {},
   "outputs": [
    {
     "name": "stdout",
     "output_type": "stream",
     "text": [
      "{'_id': ObjectId('62a8a4507e1c3a7e6fde3bf8'), 'user': 'Krish', 'subject': 'Database', 'score': 80}\n",
      "{'_id': ObjectId('62a8a4507e1c3a7e6fde3bf9'), 'user': 'Amit', 'subject': 'JavaScript', 'score': 90}\n",
      "{'_id': ObjectId('62a8a4507e1c3a7e6fde3bfa'), 'user': 'Amit', 'title': 'Database', 'score': 85}\n",
      "{'_id': ObjectId('62a8a4507e1c3a7e6fde3bfb'), 'user': 'Krish', 'title': 'JavaScript', 'score': 75}\n",
      "{'_id': ObjectId('62a8a4507e1c3a7e6fde3bfc'), 'user': 'Amit', 'title': 'Data Science', 'score': 60}\n",
      "{'_id': ObjectId('62a8a4507e1c3a7e6fde3bfd'), 'user': 'Krish', 'title': 'Data Science', 'score': 95}\n"
     ]
    }
   ],
   "source": [
    "for i in collection.find({}):\n",
    "    print(i)"
   ]
  },
  {
   "cell_type": "code",
   "execution_count": 43,
   "metadata": {},
   "outputs": [
    {
     "name": "stdout",
     "output_type": "stream",
     "text": [
      "{'_id': 'Amit', 'Total Subject': 3}\n",
      "{'_id': 'Krish', 'Total Subject': 3}\n"
     ]
    }
   ],
   "source": [
    "agg_result = collection.aggregate([{'$group':{'_id':'$user','Total Subject':{'$sum':1}}}])\n",
    "\n",
    "for i in agg_result:\n",
    "    print(i)"
   ]
  },
  {
   "cell_type": "code",
   "execution_count": 44,
   "metadata": {},
   "outputs": [
    {
     "name": "stdout",
     "output_type": "stream",
     "text": [
      "{'_id': 'Krish', 'Total Marks': 250}\n",
      "{'_id': 'Amit', 'Total Marks': 235}\n"
     ]
    }
   ],
   "source": [
    "agg_result = collection.aggregate([{'$group':{'_id':'$user','Total Marks':{'$sum':'$score'}}}])\n",
    "\n",
    "for i in agg_result:\n",
    "    print(i)"
   ]
  },
  {
   "cell_type": "code",
   "execution_count": 45,
   "metadata": {},
   "outputs": [
    {
     "name": "stdout",
     "output_type": "stream",
     "text": [
      "{'_id': 'Krish', 'StudentScoreAverage': 83.33333333333333}\n",
      "{'_id': 'Amit', 'StudentScoreAverage': 78.33333333333333}\n"
     ]
    }
   ],
   "source": [
    "agg_result = collection.aggregate([{'$group':{'_id':'$user','StudentScoreAverage':{'$avg':'$score'}}}])\n",
    "\n",
    "for i in agg_result:\n",
    "    print(i)"
   ]
  },
  {
   "cell_type": "code",
   "execution_count": 46,
   "metadata": {},
   "outputs": [],
   "source": [
    "import datetime as datetime"
   ]
  },
  {
   "cell_type": "code",
   "execution_count": 47,
   "metadata": {},
   "outputs": [],
   "source": [
    "data=[{ \"_id\" : 1, \"item\" : \"abc\", \"price\" : 10, \"quantity\" : 2, \"date\" : datetime.datetime.utcnow()},\n",
    "{ \"_id\" : 2, \"item\" : \"jkl\", \"price\" : 20, \"quantity\" : 1, \"date\" : datetime.datetime.utcnow() },\n",
    "{ \"_id\" : 3, \"item\" : \"xyz\", \"price\" : 5, \"quantity\" : 5, \"date\" : datetime.datetime.utcnow() },\n",
    "{ \"_id\" : 4, \"item\" : \"abc\", \"price\" : 10, \"quantity\" : 10, \"date\" : datetime.datetime.utcnow() },\n",
    "{ \"_id\" : 5, \"item\" : \"xyz\", \"price\" : 5, \"quantity\" : 10, \"date\" :datetime.datetime.utcnow() }]"
   ]
  },
  {
   "cell_type": "code",
   "execution_count": 48,
   "metadata": {},
   "outputs": [
    {
     "data": {
      "text/plain": [
       "[{'_id': 1,\n",
       "  'item': 'abc',\n",
       "  'price': 10,\n",
       "  'quantity': 2,\n",
       "  'date': datetime.datetime(2022, 6, 14, 15, 31, 15, 492780)},\n",
       " {'_id': 2,\n",
       "  'item': 'jkl',\n",
       "  'price': 20,\n",
       "  'quantity': 1,\n",
       "  'date': datetime.datetime(2022, 6, 14, 15, 31, 15, 492780)},\n",
       " {'_id': 3,\n",
       "  'item': 'xyz',\n",
       "  'price': 5,\n",
       "  'quantity': 5,\n",
       "  'date': datetime.datetime(2022, 6, 14, 15, 31, 15, 492780)},\n",
       " {'_id': 4,\n",
       "  'item': 'abc',\n",
       "  'price': 10,\n",
       "  'quantity': 10,\n",
       "  'date': datetime.datetime(2022, 6, 14, 15, 31, 15, 492780)},\n",
       " {'_id': 5,\n",
       "  'item': 'xyz',\n",
       "  'price': 5,\n",
       "  'quantity': 10,\n",
       "  'date': datetime.datetime(2022, 6, 14, 15, 31, 15, 492780)}]"
      ]
     },
     "execution_count": 48,
     "metadata": {},
     "output_type": "execute_result"
    }
   ],
   "source": [
    "data"
   ]
  },
  {
   "cell_type": "code",
   "execution_count": 49,
   "metadata": {},
   "outputs": [
    {
     "data": {
      "text/plain": [
       "<pymongo.results.InsertManyResult at 0x1bc4036eb00>"
      ]
     },
     "execution_count": 49,
     "metadata": {},
     "output_type": "execute_result"
    }
   ],
   "source": [
    "mycollection = mydatabase['Stores']\n",
    "mycollection.insert_many(data)"
   ]
  },
  {
   "cell_type": "code",
   "execution_count": 50,
   "metadata": {},
   "outputs": [
    {
     "name": "stdout",
     "output_type": "stream",
     "text": [
      "{'_id': 1, 'item': 'abc', 'price': 10, 'quantity': 2, 'date': datetime.datetime(2022, 6, 14, 15, 31, 15, 492000)}\n",
      "{'_id': 2, 'item': 'jkl', 'price': 20, 'quantity': 1, 'date': datetime.datetime(2022, 6, 14, 15, 31, 15, 492000)}\n",
      "{'_id': 3, 'item': 'xyz', 'price': 5, 'quantity': 5, 'date': datetime.datetime(2022, 6, 14, 15, 31, 15, 492000)}\n",
      "{'_id': 4, 'item': 'abc', 'price': 10, 'quantity': 10, 'date': datetime.datetime(2022, 6, 14, 15, 31, 15, 492000)}\n",
      "{'_id': 5, 'item': 'xyz', 'price': 5, 'quantity': 10, 'date': datetime.datetime(2022, 6, 14, 15, 31, 15, 492000)}\n"
     ]
    }
   ],
   "source": [
    "for i in mycollection.find({}):\n",
    "    print(i)"
   ]
  },
  {
   "cell_type": "code",
   "execution_count": 51,
   "metadata": {},
   "outputs": [
    {
     "name": "stdout",
     "output_type": "stream",
     "text": [
      "{'_id': 'abc', 'avgAmount': 60.0, 'avgQuantity': 6.0}\n",
      "{'_id': 'jkl', 'avgAmount': 20.0, 'avgQuantity': 1.0}\n",
      "{'_id': 'xyz', 'avgAmount': 37.5, 'avgQuantity': 7.5}\n"
     ]
    }
   ],
   "source": [
    "agg_result = mycollection.aggregate([{'$group':{'_id':'$item','avgAmount':{'$avg':{'$multiply':['$price','$quantity']}},\n",
    "                                      'avgQuantity':{'$avg':'$quantity'}}}])\n",
    "\n",
    "for i in agg_result:\n",
    "    print(i)                                      "
   ]
  },
  {
   "cell_type": "code",
   "execution_count": 53,
   "metadata": {},
   "outputs": [
    {
     "data": {
      "text/plain": [
       "<pymongo.results.InsertManyResult at 0x1bc4036c580>"
      ]
     },
     "execution_count": 53,
     "metadata": {},
     "output_type": "execute_result"
    }
   ],
   "source": [
    "#### $Project\n",
    "\n",
    "data=[{\n",
    "  \"_id\" : 1,\n",
    "  \"title\": \"abc123\",\n",
    "  \"isbn\": \"0001122223334\",\n",
    "  \"author\": { \"last\": \"zzz\", \"first\": \"aaa\" },\n",
    "  \"copies\": 5\n",
    "},\n",
    "{\n",
    "  \"_id\" : 2,\n",
    "  \"title\": \"Baked Goods\",\n",
    "  \"isbn\": \"9999999999999\",\n",
    "  \"author\": { \"last\": \"xyz\", \"first\": \"abc\", \"middle\": \"\" },\n",
    "  \"copies\": 2\n",
    "}]\n",
    "\n",
    "collection = mydatabase['Books']\n",
    "collection.insert_many(data)"
   ]
  },
  {
   "cell_type": "code",
   "execution_count": 54,
   "metadata": {},
   "outputs": [
    {
     "name": "stdout",
     "output_type": "stream",
     "text": [
      "{'_id': 1, 'title': 'abc123', 'isbn': '0001122223334'}\n",
      "{'_id': 2, 'title': 'Baked Goods', 'isbn': '9999999999999'}\n"
     ]
    }
   ],
   "source": [
    "for row in collection.aggregate( [ { \"$project\": { \"title\": 1,\"isbn\":1 } } ] ):\n",
    "    print(row)"
   ]
  },
  {
   "cell_type": "markdown",
   "metadata": {},
   "source": [
    "## Cassandra Datastax Cloud"
   ]
  },
  {
   "cell_type": "code",
   "execution_count": 2,
   "metadata": {},
   "outputs": [
    {
     "name": "stdout",
     "output_type": "stream",
     "text": [
      "Requirement already satisfied: cassandra-driver in c:\\python310\\lib\\site-packages (3.25.0)\n",
      "Requirement already satisfied: six>=1.9 in c:\\python310\\lib\\site-packages (from cassandra-driver) (1.16.0)\n",
      "Requirement already satisfied: geomet<0.3,>=0.1 in c:\\python310\\lib\\site-packages (from cassandra-driver) (0.2.1.post1)\n",
      "Requirement already satisfied: click in c:\\python310\\lib\\site-packages (from geomet<0.3,>=0.1->cassandra-driver) (8.0.3)\n",
      "Requirement already satisfied: colorama in c:\\python310\\lib\\site-packages (from click->geomet<0.3,>=0.1->cassandra-driver) (0.4.4)\n"
     ]
    }
   ],
   "source": [
    "!pip install cassandra-driver"
   ]
  },
  {
   "cell_type": "code",
   "execution_count": 14,
   "metadata": {},
   "outputs": [
    {
     "name": "stdout",
     "output_type": "stream",
     "text": [
      "3.25.0\n"
     ]
    }
   ],
   "source": [
    "import cassandra \n",
    "print (cassandra.__version__)"
   ]
  },
  {
   "cell_type": "code",
   "execution_count": 30,
   "metadata": {},
   "outputs": [
    {
     "name": "stdout",
     "output_type": "stream",
     "text": [
      "4.0.0.6816\n"
     ]
    }
   ],
   "source": [
    "from cassandra.cluster import Cluster\n",
    "from cassandra.auth import PlainTextAuthProvider\n",
    "\n",
    "cloud_config= {\n",
    "        'secure_connect_bundle': 'D:\\Python Programs\\Basic\\DataBase\\secure-connect-datascience.zip'\n",
    "}\n",
    "auth_provider = PlainTextAuthProvider('DUazUsATrhptYnfuFWsfTkiq', 'w8AuD9fvCiJlgnLD,CjWDXYmw7gM1RX_2-opdpE6yyzBdhmDk6KZ3cY3bht3w_91MlLZ91KM07lKpwPv+0cGh5ZH35imr5G2Lcdc+CPZL4CIA8_TqaYib_kff8o9HTPp')\n",
    "cluster = Cluster(cloud=cloud_config, auth_provider=auth_provider)\n",
    "session = cluster.connect()\n",
    "\n",
    "row = session.execute(\"select release_version from system.local\").one()\n",
    "if row:\n",
    "    print(row[0])\n",
    "else:\n",
    "    print(\"An error occurred.\")"
   ]
  },
  {
   "cell_type": "code",
   "execution_count": 31,
   "metadata": {},
   "outputs": [
    {
     "ename": "Unauthorized",
     "evalue": "Error from server: code=2100 [Unauthorized] message=\"Missing correct permission on home1.\"",
     "output_type": "error",
     "traceback": [
      "\u001b[1;31m---------------------------------------------------------------------------\u001b[0m",
      "\u001b[1;31mUnauthorized\u001b[0m                              Traceback (most recent call last)",
      "\u001b[1;32md:\\Python Programs\\Basic\\DataBase\\Database.ipynb Cell 128'\u001b[0m in \u001b[0;36m<module>\u001b[1;34m\u001b[0m\n\u001b[0;32m      <a href='vscode-notebook-cell:/d%3A/Python%20Programs/Basic/DataBase/Database.ipynb#ch0000130?line=0'>1</a>\u001b[0m \u001b[39m# create keyspace in database\u001b[39;00m\n\u001b[1;32m----> <a href='vscode-notebook-cell:/d%3A/Python%20Programs/Basic/DataBase/Database.ipynb#ch0000130?line=2'>3</a>\u001b[0m row \u001b[39m=\u001b[39m session\u001b[39m.\u001b[39;49mexecute(\u001b[39m\"\u001b[39;49m\u001b[39mCREATE KEYSPACE home1 WITH replication = \u001b[39;49m\u001b[39m{\u001b[39;49m\u001b[39m'\u001b[39;49m\u001b[39mclass\u001b[39;49m\u001b[39m'\u001b[39;49m\u001b[39m: \u001b[39;49m\u001b[39m'\u001b[39;49m\u001b[39mNetworkTopologyStrategy\u001b[39;49m\u001b[39m'\u001b[39;49m\u001b[39m, \u001b[39;49m\u001b[39m'\u001b[39;49m\u001b[39masia-south1\u001b[39;49m\u001b[39m'\u001b[39;49m\u001b[39m: \u001b[39;49m\u001b[39m'\u001b[39;49m\u001b[39m3\u001b[39;49m\u001b[39m'\u001b[39;49m\u001b[39m}  AND durable_writes = true;\u001b[39;49m\u001b[39m\"\u001b[39;49m)\n",
      "File \u001b[1;32mc:\\Python310\\lib\\site-packages\\cassandra\\cluster.py:2618\u001b[0m, in \u001b[0;36mSession.execute\u001b[1;34m(self, query, parameters, timeout, trace, custom_payload, execution_profile, paging_state, host, execute_as)\u001b[0m\n\u001b[0;32m   2575\u001b[0m \u001b[39mdef\u001b[39;00m \u001b[39mexecute\u001b[39m(\u001b[39mself\u001b[39m, query, parameters\u001b[39m=\u001b[39m\u001b[39mNone\u001b[39;00m, timeout\u001b[39m=\u001b[39m_NOT_SET, trace\u001b[39m=\u001b[39m\u001b[39mFalse\u001b[39;00m,\n\u001b[0;32m   2576\u001b[0m             custom_payload\u001b[39m=\u001b[39m\u001b[39mNone\u001b[39;00m, execution_profile\u001b[39m=\u001b[39mEXEC_PROFILE_DEFAULT,\n\u001b[0;32m   2577\u001b[0m             paging_state\u001b[39m=\u001b[39m\u001b[39mNone\u001b[39;00m, host\u001b[39m=\u001b[39m\u001b[39mNone\u001b[39;00m, execute_as\u001b[39m=\u001b[39m\u001b[39mNone\u001b[39;00m):\n\u001b[0;32m   2578\u001b[0m     \u001b[39m\"\"\"\u001b[39;00m\n\u001b[0;32m   2579\u001b[0m \u001b[39m    Execute the given query and synchronously wait for the response.\u001b[39;00m\n\u001b[0;32m   2580\u001b[0m \n\u001b[1;32m   (...)\u001b[0m\n\u001b[0;32m   2615\u001b[0m \u001b[39m    on a DSE cluster.\u001b[39;00m\n\u001b[0;32m   2616\u001b[0m \u001b[39m    \"\"\"\u001b[39;00m\n\u001b[1;32m-> 2618\u001b[0m     \u001b[39mreturn\u001b[39;00m \u001b[39mself\u001b[39;49m\u001b[39m.\u001b[39;49mexecute_async(query, parameters, trace, custom_payload, timeout, execution_profile, paging_state, host, execute_as)\u001b[39m.\u001b[39;49mresult()\n",
      "File \u001b[1;32mc:\\Python310\\lib\\site-packages\\cassandra\\cluster.py:4894\u001b[0m, in \u001b[0;36mResponseFuture.result\u001b[1;34m(self)\u001b[0m\n\u001b[0;32m   4892\u001b[0m     \u001b[39mreturn\u001b[39;00m ResultSet(\u001b[39mself\u001b[39m, \u001b[39mself\u001b[39m\u001b[39m.\u001b[39m_final_result)\n\u001b[0;32m   4893\u001b[0m \u001b[39melse\u001b[39;00m:\n\u001b[1;32m-> 4894\u001b[0m     \u001b[39mraise\u001b[39;00m \u001b[39mself\u001b[39m\u001b[39m.\u001b[39m_final_exception\n",
      "\u001b[1;31mUnauthorized\u001b[0m: Error from server: code=2100 [Unauthorized] message=\"Missing correct permission on home1.\""
     ]
    }
   ],
   "source": [
    "# create keyspace in database\n",
    "\n",
    "row = session.execute(\"CREATE KEYSPACE home1 WITH replication = {'class': 'NetworkTopologyStrategy', 'asia-south1': '3'}  AND durable_writes = true;\")"
   ]
  },
  {
   "cell_type": "code",
   "execution_count": 32,
   "metadata": {},
   "outputs": [],
   "source": [
    "#use keyspace\n",
    "row=session.execute(\"use home\")"
   ]
  },
  {
   "cell_type": "code",
   "execution_count": 24,
   "metadata": {},
   "outputs": [
    {
     "name": "stdout",
     "output_type": "stream",
     "text": [
      "Row(release_version='4.0.0.6816')\n"
     ]
    }
   ],
   "source": [
    "from cassandra.cluster import Cluster\n",
    "from cassandra.auth import PlainTextAuthProvider\n",
    "\n",
    "cloud_config= {\n",
    "        'secure_connect_bundle': 'D:\\Python Programs\\Basic\\DataBase\\secure-connect-datascience.zip'\n",
    "}\n",
    "auth_provider = PlainTextAuthProvider('DUazUsATrhptYnfuFWsfTkiq', 'w8AuD9fvCiJlgnLD,CjWDXYmw7gM1RX_2-opdpE6yyzBdhmDk6KZ3cY3bht3w_91MlLZ91KM07lKpwPv+0cGh5ZH35imr5G2Lcdc+CPZL4CIA8_TqaYib_kff8o9HTPp')\n",
    "cluster = Cluster(cloud=cloud_config, auth_provider=auth_provider)\n",
    "session = cluster.connect()\n",
    "\n",
    "# create keyspace in database\n",
    "row = session.execute(\"select release_version from system.local\").one()\n",
    "print(row)"
   ]
  },
  {
   "cell_type": "code",
   "execution_count": 33,
   "metadata": {},
   "outputs": [],
   "source": [
    "#use keyspace\n",
    "row=session.execute(\"use home\")"
   ]
  },
  {
   "cell_type": "code",
   "execution_count": 35,
   "metadata": {},
   "outputs": [
    {
     "name": "stdout",
     "output_type": "stream",
     "text": [
      "Row(keyspace_name='system_auth', durable_writes=True, graph_engine=None, replication=OrderedMapSerializedKey([('asia-south1', '3'), ('class', 'org.apache.cassandra.locator.NetworkTopologyStrategy')]))\n"
     ]
    }
   ],
   "source": [
    "row = session.execute(\"SELECT*FROM system_schema.keyspaces\").one()\n",
    "print(row)"
   ]
  },
  {
   "cell_type": "markdown",
   "metadata": {},
   "source": [
    "## Create a Table into home Database "
   ]
  },
  {
   "cell_type": "code",
   "execution_count": 36,
   "metadata": {},
   "outputs": [
    {
     "name": "stdout",
     "output_type": "stream",
     "text": [
      "None\n"
     ]
    }
   ],
   "source": [
    "row = session.execute(\" CREATE TABLE home.emp123(emp_id int PRIMARY KEY,emp_name text,emp_city text,emp_sal varint,emp_phone varint);\").one()\n",
    "print(row)"
   ]
  },
  {
   "cell_type": "markdown",
   "metadata": {},
   "source": [
    "## Insert data in Table"
   ]
  },
  {
   "cell_type": "code",
   "execution_count": 41,
   "metadata": {},
   "outputs": [],
   "source": [
    "row = session.execute(\"insert into home.emp123(emp_id,emp_name,emp_city,emp_sal,emp_phone) VALUES(%s,%s,%s,%s,%s)\",[1,'Rushi','Mumbai',75000,984534])"
   ]
  },
  {
   "cell_type": "code",
   "execution_count": 48,
   "metadata": {},
   "outputs": [],
   "source": [
    "i1 = \"insert into home.emp123(emp_id,emp_name,emp_city,emp_sal,emp_phone) VALUES(%s,%s,%s,%s,%s)\"\n",
    "v1 = [2,'Saurabh','Mumbai',73000,984535]\n",
    "v2 = [3,'Snehal','Pune',78000,984536]\n",
    "v3 = [4,'Ramkrishna','Pune',76000,984537]\n",
    "v4 = [5,'Musab','Kolkata',45000,984538]\n",
    "row = session.execute(i1,v4)"
   ]
  },
  {
   "cell_type": "markdown",
   "metadata": {},
   "source": [
    "### Select all data from a table"
   ]
  },
  {
   "cell_type": "code",
   "execution_count": 61,
   "metadata": {},
   "outputs": [
    {
     "name": "stdout",
     "output_type": "stream",
     "text": [
      "5 | Kolkata | Musab | 984538 | 45000\n",
      "1 | Mumbai | Rushi | 984534 | 75000\n",
      "2 | Mumbai | Saurabh | 984535 | 73000\n",
      "4 | Pune | Ramkrishna | 984537 | 76000\n",
      "3 | Pune | Snehal | 984536 | 78000\n"
     ]
    }
   ],
   "source": [
    "row = session.execute('Select *from home.emp123')\n",
    "for i in row:\n",
    "    print(i[0],'|',i[1],'|',i[2],'|',i[3],'|',i[4])"
   ]
  },
  {
   "cell_type": "markdown",
   "metadata": {},
   "source": [
    "### Select a Specific record"
   ]
  },
  {
   "cell_type": "code",
   "execution_count": 70,
   "metadata": {},
   "outputs": [
    {
     "name": "stdout",
     "output_type": "stream",
     "text": [
      "3 | Pune | Snehal | 984536 | 78000\n"
     ]
    }
   ],
   "source": [
    "ss= session.prepare(\"select * from  home.emp123 where emp_id = ? ;\")\n",
    "\n",
    "res= session.execute(ss,[3])\n",
    "for i in res:\n",
    "    print(i[0],'|',i[1],'|',i[2],'|',i[3],'|',i[4])"
   ]
  },
  {
   "cell_type": "markdown",
   "metadata": {},
   "source": [
    "### Update a record in Emp"
   ]
  },
  {
   "cell_type": "code",
   "execution_count": 64,
   "metadata": {},
   "outputs": [
    {
     "data": {
      "text/plain": [
       "<cassandra.cluster.ResultSet at 0x1a5e5176bc0>"
      ]
     },
     "execution_count": 64,
     "metadata": {},
     "output_type": "execute_result"
    }
   ],
   "source": [
    "prepare_st= \"update home.emp123 SET emp_sal= ?,emp_name= ? where emp_id= ? ;\"\n",
    "prepare_ud= session.prepare(prepare_st)\n",
    "session.execute(prepare_ud,[74000,'Musab',5])"
   ]
  },
  {
   "cell_type": "code",
   "execution_count": 66,
   "metadata": {},
   "outputs": [
    {
     "name": "stdout",
     "output_type": "stream",
     "text": [
      "(0, Row(emp_id=5, emp_city='Kolkata', emp_name='Musab', emp_phone=984538, emp_sal=74000))\n",
      "(1, Row(emp_id=1, emp_city='Mumbai', emp_name='Rushi', emp_phone=984534, emp_sal=75000))\n",
      "(2, Row(emp_id=2, emp_city='Mumbai', emp_name='Saurabh', emp_phone=984535, emp_sal=73000))\n",
      "(3, Row(emp_id=4, emp_city='Pune', emp_name='Ramkrishna', emp_phone=984537, emp_sal=76000))\n",
      "(4, Row(emp_id=3, emp_city='Pune', emp_name='Snehal', emp_phone=984536, emp_sal=78000))\n"
     ]
    }
   ],
   "source": [
    "row = session.execute('select *from home.emp123')\n",
    "for i in enumerate(row):\n",
    "    print(i)"
   ]
  },
  {
   "cell_type": "markdown",
   "metadata": {},
   "source": [
    "## Insert Multiple Records to DB"
   ]
  },
  {
   "cell_type": "code",
   "execution_count": 67,
   "metadata": {},
   "outputs": [
    {
     "name": "stdout",
     "output_type": "stream",
     "text": [
      "Insert completed\n"
     ]
    }
   ],
   "source": [
    "from cassandra.query import BatchStatement\n",
    "\n",
    "qr1= \"insert into home.emp123(emp_id,emp_city,emp_name,emp_phone,emp_sal) values(%s,%s,%s,%s,%s)\"\n",
    "batch = BatchStatement()\n",
    "batch.add(qr1,[6,'Thane','Vishnu',984539,200000])\n",
    "batch.add(qr1,[7,'Benguluru','Krish',984540,280000])\n",
    "batch.add(qr1,[8,'Benguluru','Rahul',984541,50000])\n",
    "session.execute(batch)\n",
    "print('Insert completed')"
   ]
  },
  {
   "cell_type": "code",
   "execution_count": 71,
   "metadata": {},
   "outputs": [
    {
     "name": "stdout",
     "output_type": "stream",
     "text": [
      "5 | Kolkata | Musab | 984538 | 74000\n",
      "1 | Mumbai | Rushi | 984534 | 75000\n",
      "8 | Benguluru | Rahul | 984541 | 50000\n",
      "2 | Mumbai | Saurabh | 984535 | 73000\n",
      "4 | Pune | Ramkrishna | 984537 | 76000\n",
      "7 | Benguluru | Krish | 984540 | 280000\n",
      "6 | Thane | Vishnu | 984539 | 200000\n",
      "3 | Pune | Snehal | 984536 | 78000\n"
     ]
    }
   ],
   "source": [
    "row = session.execute('select *from home.emp123')\n",
    "for i in row:\n",
    "    print(i[0],'|',i[1],'|',i[2],'|',i[3],'|',i[4])"
   ]
  },
  {
   "cell_type": "markdown",
   "metadata": {},
   "source": [
    "## Delete a record from EMP"
   ]
  },
  {
   "cell_type": "code",
   "execution_count": 72,
   "metadata": {},
   "outputs": [
    {
     "name": "stdout",
     "output_type": "stream",
     "text": [
      "Record deleted successfully...\n"
     ]
    }
   ],
   "source": [
    "dt_rec= \"delete from home.emp123 where emp_id= ?;\"\n",
    "dt_st= session.prepare(dt_rec)\n",
    "session.execute(dt_st,[8])\n",
    "print('Record deleted successfully...')"
   ]
  },
  {
   "cell_type": "markdown",
   "metadata": {},
   "source": [
    "## Insert data from a CSV file to Cassandra DB"
   ]
  },
  {
   "cell_type": "code",
   "execution_count": 91,
   "metadata": {},
   "outputs": [
    {
     "name": "stdout",
     "output_type": "stream",
     "text": [
      "<_csv.reader object at 0x000001A5E723A140>\n",
      "['0', '5', 'HI', '2022-06-08']\n",
      "['1', '8', 'Rushi', '2022-06-08']\n",
      "['2', '15', 'Sangam', '2022-06-08']\n",
      "['3', '87', 'Viraj', '2022-06-08']\n",
      "['4', '98', 'Pritam', '2022-06-08']\n",
      "['5', '54', 'Suchit', '2022-06-08']\n",
      "['6', '34', 'Vandana', '2022-06-08']\n",
      "['7', '9', 'Saurabh', '2022-06-08']\n",
      "['8', '6', 'Musab', '2022-06-08']\n",
      "Finished\n"
     ]
    }
   ],
   "source": [
    "import csv\n",
    "with open('mydata.csv','r') as data:\n",
    "    next(data)\n",
    "    data_csv= csv.reader(data,delimiter=',')\n",
    "    #csv reader object\n",
    "    print(data_csv)\n",
    "    all_value= []\n",
    "    session.execute(\"Create table home.emp122(emp_id int PRIMARY KEY,First_name text,Date text);\")\n",
    "    for i in data_csv:\n",
    "        print(i)\n",
    "        session.execute(\"insert into home.emp122(emp_id,First_name,Date) values(%s,%s,%s)\",[int(i[1]),i[2],i[3]])\n",
    "print('Finished')"
   ]
  },
  {
   "cell_type": "code",
   "execution_count": 94,
   "metadata": {},
   "outputs": [
    {
     "name": "stdout",
     "output_type": "stream",
     "text": [
      "Row(emp_id=5, date='2022-06-08', first_name='HI')\n",
      "Row(emp_id=8, date='2022-06-08', first_name='Rushi')\n",
      "Row(emp_id=15, date='2022-06-08', first_name='Sangam')\n",
      "Row(emp_id=98, date='2022-06-08', first_name='Pritam')\n",
      "Row(emp_id=54, date='2022-06-08', first_name='Suchit')\n",
      "Row(emp_id=6, date='2022-06-08', first_name='Musab')\n",
      "Row(emp_id=9, date='2022-06-08', first_name='Saurabh')\n",
      "Row(emp_id=34, date='2022-06-08', first_name='Vandana')\n",
      "Row(emp_id=87, date='2022-06-08', first_name='Viraj')\n"
     ]
    }
   ],
   "source": [
    "row = session.execute('Select *from home.emp122')\n",
    "for i in row:\n",
    "    print(i)"
   ]
  },
  {
   "cell_type": "code",
   "execution_count": null,
   "metadata": {},
   "outputs": [],
   "source": [
    "session.execute('Drop table home.emp122')"
   ]
  },
  {
   "cell_type": "code",
   "execution_count": null,
   "metadata": {},
   "outputs": [],
   "source": []
  }
 ],
 "metadata": {
  "interpreter": {
   "hash": "369f2c481f4da34e4445cda3fffd2e751bd1c4d706f27375911949ba6bb62e1c"
  },
  "kernelspec": {
   "display_name": "Python 3.10.0 64-bit",
   "language": "python",
   "name": "python3"
  },
  "language_info": {
   "codemirror_mode": {
    "name": "ipython",
    "version": 3
   },
   "file_extension": ".py",
   "mimetype": "text/x-python",
   "name": "python",
   "nbconvert_exporter": "python",
   "pygments_lexer": "ipython3",
   "version": "3.10.0"
  },
  "orig_nbformat": 4
 },
 "nbformat": 4,
 "nbformat_minor": 2
}
